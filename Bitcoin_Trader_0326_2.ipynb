{
  "nbformat": 4,
  "nbformat_minor": 0,
  "metadata": {
    "colab": {
      "name": "Bitcoin_Trader_0326.ipynb의 사본",
      "provenance": [],
      "collapsed_sections": [],
      "toc_visible": true
    },
    "kernelspec": {
      "name": "python3",
      "display_name": "Python 3"
    },
    "accelerator": "GPU"
  },
  "cells": [
    {
      "cell_type": "code",
      "metadata": {
        "colab": {
          "base_uri": "https://localhost:8080/"
        },
        "id": "ko9JQ-QvVw-p",
        "outputId": "bae33f0e-9300-4eb4-a92f-2c919b53208d"
      },
      "source": [
        "from google.colab import drive\n",
        "drive.mount('/content/drive')"
      ],
      "execution_count": 1,
      "outputs": [
        {
          "output_type": "stream",
          "text": [
            "Mounted at /content/drive\n"
          ],
          "name": "stdout"
        }
      ]
    },
    {
      "cell_type": "markdown",
      "metadata": {
        "id": "wXMszYt8PkMA"
      },
      "source": [
        "# 라이브러리 불러오기"
      ]
    },
    {
      "cell_type": "code",
      "metadata": {
        "id": "DuY_-zXhFhZM",
        "colab": {
          "base_uri": "https://localhost:8080/"
        },
        "outputId": "f11b0af4-a22a-4e3d-a735-63b9f66f7688"
      },
      "source": [
        "# 통계 모델들, fbprophet 설치\n",
        "!pip install statsmodels==0.11.1\n",
        "!pip install fbprophet"
      ],
      "execution_count": 2,
      "outputs": [
        {
          "output_type": "stream",
          "text": [
            "Collecting statsmodels==0.11.1\n",
            "\u001b[?25l  Downloading https://files.pythonhosted.org/packages/7b/6a/0bf4184c3fb6f9f43df997b88de5784b4cb2f6bd19a5dc213463971076cf/statsmodels-0.11.1-cp37-cp37m-manylinux1_x86_64.whl (8.7MB)\n",
            "\u001b[K     |████████████████████████████████| 8.7MB 7.6MB/s \n",
            "\u001b[?25hRequirement already satisfied: scipy>=1.0 in /usr/local/lib/python3.7/dist-packages (from statsmodels==0.11.1) (1.4.1)\n",
            "Requirement already satisfied: patsy>=0.5 in /usr/local/lib/python3.7/dist-packages (from statsmodels==0.11.1) (0.5.1)\n",
            "Requirement already satisfied: pandas>=0.21 in /usr/local/lib/python3.7/dist-packages (from statsmodels==0.11.1) (1.1.5)\n",
            "Requirement already satisfied: numpy>=1.14 in /usr/local/lib/python3.7/dist-packages (from statsmodels==0.11.1) (1.19.5)\n",
            "Requirement already satisfied: six in /usr/local/lib/python3.7/dist-packages (from patsy>=0.5->statsmodels==0.11.1) (1.15.0)\n",
            "Requirement already satisfied: python-dateutil>=2.7.3 in /usr/local/lib/python3.7/dist-packages (from pandas>=0.21->statsmodels==0.11.1) (2.8.1)\n",
            "Requirement already satisfied: pytz>=2017.2 in /usr/local/lib/python3.7/dist-packages (from pandas>=0.21->statsmodels==0.11.1) (2018.9)\n",
            "Installing collected packages: statsmodels\n",
            "  Found existing installation: statsmodels 0.10.2\n",
            "    Uninstalling statsmodels-0.10.2:\n",
            "      Successfully uninstalled statsmodels-0.10.2\n",
            "Successfully installed statsmodels-0.11.1\n",
            "Requirement already satisfied: fbprophet in /usr/local/lib/python3.7/dist-packages (0.7.1)\n",
            "Requirement already satisfied: Cython>=0.22 in /usr/local/lib/python3.7/dist-packages (from fbprophet) (0.29.22)\n",
            "Requirement already satisfied: cmdstanpy==0.9.5 in /usr/local/lib/python3.7/dist-packages (from fbprophet) (0.9.5)\n",
            "Requirement already satisfied: pystan>=2.14 in /usr/local/lib/python3.7/dist-packages (from fbprophet) (2.19.1.1)\n",
            "Requirement already satisfied: numpy>=1.15.4 in /usr/local/lib/python3.7/dist-packages (from fbprophet) (1.19.5)\n",
            "Requirement already satisfied: pandas>=1.0.4 in /usr/local/lib/python3.7/dist-packages (from fbprophet) (1.1.5)\n",
            "Requirement already satisfied: matplotlib>=2.0.0 in /usr/local/lib/python3.7/dist-packages (from fbprophet) (3.2.2)\n",
            "Requirement already satisfied: LunarCalendar>=0.0.9 in /usr/local/lib/python3.7/dist-packages (from fbprophet) (0.0.9)\n",
            "Requirement already satisfied: convertdate>=2.1.2 in /usr/local/lib/python3.7/dist-packages (from fbprophet) (2.3.1)\n",
            "Requirement already satisfied: holidays>=0.10.2 in /usr/local/lib/python3.7/dist-packages (from fbprophet) (0.10.5.2)\n",
            "Requirement already satisfied: setuptools-git>=1.2 in /usr/local/lib/python3.7/dist-packages (from fbprophet) (1.2)\n",
            "Requirement already satisfied: python-dateutil>=2.8.0 in /usr/local/lib/python3.7/dist-packages (from fbprophet) (2.8.1)\n",
            "Requirement already satisfied: tqdm>=4.36.1 in /usr/local/lib/python3.7/dist-packages (from fbprophet) (4.41.1)\n",
            "Requirement already satisfied: pytz>=2017.2 in /usr/local/lib/python3.7/dist-packages (from pandas>=1.0.4->fbprophet) (2018.9)\n",
            "Requirement already satisfied: cycler>=0.10 in /usr/local/lib/python3.7/dist-packages (from matplotlib>=2.0.0->fbprophet) (0.10.0)\n",
            "Requirement already satisfied: pyparsing!=2.0.4,!=2.1.2,!=2.1.6,>=2.0.1 in /usr/local/lib/python3.7/dist-packages (from matplotlib>=2.0.0->fbprophet) (2.4.7)\n",
            "Requirement already satisfied: kiwisolver>=1.0.1 in /usr/local/lib/python3.7/dist-packages (from matplotlib>=2.0.0->fbprophet) (1.3.1)\n",
            "Requirement already satisfied: ephem>=3.7.5.3 in /usr/local/lib/python3.7/dist-packages (from LunarCalendar>=0.0.9->fbprophet) (3.7.7.1)\n",
            "Requirement already satisfied: pymeeus!=0.3.8,<=1,>=0.3.6 in /usr/local/lib/python3.7/dist-packages (from convertdate>=2.1.2->fbprophet) (0.5.9)\n",
            "Requirement already satisfied: six in /usr/local/lib/python3.7/dist-packages (from holidays>=0.10.2->fbprophet) (1.15.0)\n",
            "Requirement already satisfied: hijri-converter in /usr/local/lib/python3.7/dist-packages (from holidays>=0.10.2->fbprophet) (2.1.1)\n",
            "Requirement already satisfied: korean-lunar-calendar in /usr/local/lib/python3.7/dist-packages (from holidays>=0.10.2->fbprophet) (0.2.1)\n"
          ],
          "name": "stdout"
        }
      ]
    },
    {
      "cell_type": "code",
      "metadata": {
        "id": "5fX-oJICFdHC"
      },
      "source": [
        "import numpy as np\n",
        "import pandas as pd\n",
        "import gc\n",
        "import math\n",
        "import os.path\n",
        "import time\n",
        "import matplotlib.pyplot as plt\n",
        "from datetime import timedelta, datetime\n",
        "from dateutil import parser\n",
        "from tqdm import tqdm\n",
        "import copy\n",
        "from statsmodels.tsa.arima.model import ARIMA\n",
        "from statsmodels.graphics.tsaplots import plot_acf, plot_pacf\n",
        "from fbprophet import Prophet\n",
        "import warnings\n",
        "import datetime\n",
        "warnings.filterwarnings(\"ignore\")"
      ],
      "execution_count": 3,
      "outputs": []
    },
    {
      "cell_type": "markdown",
      "metadata": {
        "id": "zXmaOmz7Pt2V"
      },
      "source": [
        "# 데이터 처리"
      ]
    },
    {
      "cell_type": "code",
      "metadata": {
        "id": "w54vV-9t9iAq"
      },
      "source": [
        "# csv파일 읽어오기\n",
        "path = '/content/drive/MyDrive/2021/데이콘/Bit_Trader/open'\n",
        "train_x_df = pd.read_csv(path  + \"/train_x_df.csv\")\n",
        "train_y_df = pd.read_csv(path  + \"/train_y_df.csv\")\n",
        "test_x_df = pd.read_csv(path  + \"/test_x_df.csv\")"
      ],
      "execution_count": 4,
      "outputs": []
    },
    {
      "cell_type": "code",
      "metadata": {
        "id": "8V1lE0JbMVML",
        "colab": {
          "base_uri": "https://localhost:8080/"
        },
        "outputId": "f24ce1fa-beea-4060-8b01-fbea01bcdb72"
      },
      "source": [
        "\n",
        "print(f'train_x shape: {train_x_df.shape}')\n",
        "print(f'train_y shape: {train_y_df.shape}')\n",
        "print(f'test_x shape: {test_x_df.shape}')"
      ],
      "execution_count": 5,
      "outputs": [
        {
          "output_type": "stream",
          "text": [
            "train_x shape: (10159560, 12)\n",
            "train_y shape: (883440, 12)\n",
            "test_x shape: (730020, 12)\n"
          ],
          "name": "stdout"
        }
      ]
    },
    {
      "cell_type": "code",
      "metadata": {
        "colab": {
          "base_uri": "https://localhost:8080/",
          "height": 574
        },
        "id": "oxJ4fbKPKOAt",
        "outputId": "3191391d-2b08-4fd8-c0e3-273d7d1d234a"
      },
      "source": [
        "train_x_df.corr(method = \"pearson\")"
      ],
      "execution_count": 6,
      "outputs": [
        {
          "output_type": "execute_result",
          "data": {
            "text/html": [
              "<div>\n",
              "<style scoped>\n",
              "    .dataframe tbody tr th:only-of-type {\n",
              "        vertical-align: middle;\n",
              "    }\n",
              "\n",
              "    .dataframe tbody tr th {\n",
              "        vertical-align: top;\n",
              "    }\n",
              "\n",
              "    .dataframe thead th {\n",
              "        text-align: right;\n",
              "    }\n",
              "</style>\n",
              "<table border=\"1\" class=\"dataframe\">\n",
              "  <thead>\n",
              "    <tr style=\"text-align: right;\">\n",
              "      <th></th>\n",
              "      <th>sample_id</th>\n",
              "      <th>time</th>\n",
              "      <th>coin_index</th>\n",
              "      <th>open</th>\n",
              "      <th>high</th>\n",
              "      <th>low</th>\n",
              "      <th>close</th>\n",
              "      <th>volume</th>\n",
              "      <th>quote_av</th>\n",
              "      <th>trades</th>\n",
              "      <th>tb_base_av</th>\n",
              "      <th>tb_quote_av</th>\n",
              "    </tr>\n",
              "  </thead>\n",
              "  <tbody>\n",
              "    <tr>\n",
              "      <th>sample_id</th>\n",
              "      <td>1.000000</td>\n",
              "      <td>0.000000e+00</td>\n",
              "      <td>4.278576e-03</td>\n",
              "      <td>-0.011692</td>\n",
              "      <td>-0.011690</td>\n",
              "      <td>-0.011662</td>\n",
              "      <td>-0.011676</td>\n",
              "      <td>-0.000407</td>\n",
              "      <td>0.010186</td>\n",
              "      <td>0.009696</td>\n",
              "      <td>-0.000393</td>\n",
              "      <td>0.009447</td>\n",
              "    </tr>\n",
              "    <tr>\n",
              "      <th>time</th>\n",
              "      <td>0.000000</td>\n",
              "      <td>1.000000e+00</td>\n",
              "      <td>3.894486e-18</td>\n",
              "      <td>-0.012273</td>\n",
              "      <td>-0.012346</td>\n",
              "      <td>-0.012248</td>\n",
              "      <td>-0.012289</td>\n",
              "      <td>-0.000277</td>\n",
              "      <td>-0.000464</td>\n",
              "      <td>-0.000708</td>\n",
              "      <td>-0.000444</td>\n",
              "      <td>-0.000394</td>\n",
              "    </tr>\n",
              "    <tr>\n",
              "      <th>coin_index</th>\n",
              "      <td>0.004279</td>\n",
              "      <td>3.894486e-18</td>\n",
              "      <td>1.000000e+00</td>\n",
              "      <td>-0.010498</td>\n",
              "      <td>-0.010721</td>\n",
              "      <td>-0.010341</td>\n",
              "      <td>-0.010520</td>\n",
              "      <td>0.006909</td>\n",
              "      <td>0.000136</td>\n",
              "      <td>0.010454</td>\n",
              "      <td>0.006393</td>\n",
              "      <td>-0.000206</td>\n",
              "    </tr>\n",
              "    <tr>\n",
              "      <th>open</th>\n",
              "      <td>-0.011692</td>\n",
              "      <td>-1.227325e-02</td>\n",
              "      <td>-1.049803e-02</td>\n",
              "      <td>1.000000</td>\n",
              "      <td>0.998631</td>\n",
              "      <td>0.999254</td>\n",
              "      <td>0.999071</td>\n",
              "      <td>0.009158</td>\n",
              "      <td>0.025290</td>\n",
              "      <td>0.022769</td>\n",
              "      <td>0.004867</td>\n",
              "      <td>0.019132</td>\n",
              "    </tr>\n",
              "    <tr>\n",
              "      <th>high</th>\n",
              "      <td>-0.011690</td>\n",
              "      <td>-1.234571e-02</td>\n",
              "      <td>-1.072102e-02</td>\n",
              "      <td>0.998631</td>\n",
              "      <td>1.000000</td>\n",
              "      <td>0.997830</td>\n",
              "      <td>0.998898</td>\n",
              "      <td>0.014944</td>\n",
              "      <td>0.033986</td>\n",
              "      <td>0.032518</td>\n",
              "      <td>0.011817</td>\n",
              "      <td>0.029751</td>\n",
              "    </tr>\n",
              "    <tr>\n",
              "      <th>low</th>\n",
              "      <td>-0.011662</td>\n",
              "      <td>-1.224846e-02</td>\n",
              "      <td>-1.034080e-02</td>\n",
              "      <td>0.999254</td>\n",
              "      <td>0.997830</td>\n",
              "      <td>1.000000</td>\n",
              "      <td>0.999315</td>\n",
              "      <td>0.002101</td>\n",
              "      <td>0.014780</td>\n",
              "      <td>0.011092</td>\n",
              "      <td>0.001434</td>\n",
              "      <td>0.012224</td>\n",
              "    </tr>\n",
              "    <tr>\n",
              "      <th>close</th>\n",
              "      <td>-0.011676</td>\n",
              "      <td>-1.228935e-02</td>\n",
              "      <td>-1.052042e-02</td>\n",
              "      <td>0.999071</td>\n",
              "      <td>0.998898</td>\n",
              "      <td>0.999315</td>\n",
              "      <td>1.000000</td>\n",
              "      <td>0.008074</td>\n",
              "      <td>0.024175</td>\n",
              "      <td>0.021432</td>\n",
              "      <td>0.007229</td>\n",
              "      <td>0.022276</td>\n",
              "    </tr>\n",
              "    <tr>\n",
              "      <th>volume</th>\n",
              "      <td>-0.000407</td>\n",
              "      <td>-2.768361e-04</td>\n",
              "      <td>6.909391e-03</td>\n",
              "      <td>0.009158</td>\n",
              "      <td>0.014944</td>\n",
              "      <td>0.002101</td>\n",
              "      <td>0.008074</td>\n",
              "      <td>1.000000</td>\n",
              "      <td>0.420857</td>\n",
              "      <td>0.573042</td>\n",
              "      <td>0.794751</td>\n",
              "      <td>0.372958</td>\n",
              "    </tr>\n",
              "    <tr>\n",
              "      <th>quote_av</th>\n",
              "      <td>0.010186</td>\n",
              "      <td>-4.641555e-04</td>\n",
              "      <td>1.357815e-04</td>\n",
              "      <td>0.025290</td>\n",
              "      <td>0.033986</td>\n",
              "      <td>0.014780</td>\n",
              "      <td>0.024175</td>\n",
              "      <td>0.420857</td>\n",
              "      <td>1.000000</td>\n",
              "      <td>0.826307</td>\n",
              "      <td>0.344711</td>\n",
              "      <td>0.920649</td>\n",
              "    </tr>\n",
              "    <tr>\n",
              "      <th>trades</th>\n",
              "      <td>0.009696</td>\n",
              "      <td>-7.075427e-04</td>\n",
              "      <td>1.045373e-02</td>\n",
              "      <td>0.022769</td>\n",
              "      <td>0.032518</td>\n",
              "      <td>0.011092</td>\n",
              "      <td>0.021432</td>\n",
              "      <td>0.573042</td>\n",
              "      <td>0.826307</td>\n",
              "      <td>1.000000</td>\n",
              "      <td>0.466903</td>\n",
              "      <td>0.754661</td>\n",
              "    </tr>\n",
              "    <tr>\n",
              "      <th>tb_base_av</th>\n",
              "      <td>-0.000393</td>\n",
              "      <td>-4.444006e-04</td>\n",
              "      <td>6.393173e-03</td>\n",
              "      <td>0.004867</td>\n",
              "      <td>0.011817</td>\n",
              "      <td>0.001434</td>\n",
              "      <td>0.007229</td>\n",
              "      <td>0.794751</td>\n",
              "      <td>0.344711</td>\n",
              "      <td>0.466903</td>\n",
              "      <td>1.000000</td>\n",
              "      <td>0.425748</td>\n",
              "    </tr>\n",
              "    <tr>\n",
              "      <th>tb_quote_av</th>\n",
              "      <td>0.009447</td>\n",
              "      <td>-3.943029e-04</td>\n",
              "      <td>-2.063932e-04</td>\n",
              "      <td>0.019132</td>\n",
              "      <td>0.029751</td>\n",
              "      <td>0.012224</td>\n",
              "      <td>0.022276</td>\n",
              "      <td>0.372958</td>\n",
              "      <td>0.920649</td>\n",
              "      <td>0.754661</td>\n",
              "      <td>0.425748</td>\n",
              "      <td>1.000000</td>\n",
              "    </tr>\n",
              "  </tbody>\n",
              "</table>\n",
              "</div>"
            ],
            "text/plain": [
              "             sample_id          time  ...  tb_base_av  tb_quote_av\n",
              "sample_id     1.000000  0.000000e+00  ...   -0.000393     0.009447\n",
              "time          0.000000  1.000000e+00  ...   -0.000444    -0.000394\n",
              "coin_index    0.004279  3.894486e-18  ...    0.006393    -0.000206\n",
              "open         -0.011692 -1.227325e-02  ...    0.004867     0.019132\n",
              "high         -0.011690 -1.234571e-02  ...    0.011817     0.029751\n",
              "low          -0.011662 -1.224846e-02  ...    0.001434     0.012224\n",
              "close        -0.011676 -1.228935e-02  ...    0.007229     0.022276\n",
              "volume       -0.000407 -2.768361e-04  ...    0.794751     0.372958\n",
              "quote_av      0.010186 -4.641555e-04  ...    0.344711     0.920649\n",
              "trades        0.009696 -7.075427e-04  ...    0.466903     0.754661\n",
              "tb_base_av   -0.000393 -4.444006e-04  ...    1.000000     0.425748\n",
              "tb_quote_av   0.009447 -3.943029e-04  ...    0.425748     1.000000\n",
              "\n",
              "[12 rows x 12 columns]"
            ]
          },
          "metadata": {
            "tags": []
          },
          "execution_count": 6
        }
      ]
    },
    {
      "cell_type": "code",
      "metadata": {
        "id": "UGq8ICYpO3k7",
        "colab": {
          "base_uri": "https://localhost:8080/"
        },
        "outputId": "6c01a85d-3406-42eb-feed-754e7bdb33b8"
      },
      "source": [
        "print(train_x_df.head())\n",
        "print('-------------------------------------------------------------')\n",
        "print(train_x_df.tail())\n",
        "print('-------------------------------------------------------------')\n",
        "print(train_x_df.info())\n",
        "print('-------------------------------------------------------------')\n",
        "print(train_x_df.describe())\n",
        "# print(train_x_df.isnull().sum()) NULL 값 없음 확인완료"
      ],
      "execution_count": 7,
      "outputs": [
        {
          "output_type": "stream",
          "text": [
            "   sample_id  time  coin_index  ...      trades    tb_base_av    tb_quote_av\n",
            "0          0     0           7  ...  451.157288  7.326834e+05   37725.183594\n",
            "1          0     1           7  ...   39.231071  0.000000e+00       0.000000\n",
            "2          0     2           7  ...   58.846603  1.664967e+04     857.377808\n",
            "3          0     3           7  ...  431.541779  2.189147e+06  112811.046875\n",
            "4          0     4           7  ...  176.539810  0.000000e+00       0.000000\n",
            "\n",
            "[5 rows x 12 columns]\n",
            "-------------------------------------------------------------\n",
            "          sample_id  time  coin_index  ...    trades  tb_base_av  tb_quote_av\n",
            "10159555       7361  1375           8  ...  2.245034    6.229020  1494.727417\n",
            "10159556       7361  1376           8  ...  2.211651    3.056139   733.490601\n",
            "10159557       7361  1377           8  ...  1.260224    2.284546   548.042297\n",
            "10159558       7361  1378           8  ...  0.826239    0.516497   123.819839\n",
            "10159559       7361  1379           8  ...  0.642631    0.732091   175.527679\n",
            "\n",
            "[5 rows x 12 columns]\n",
            "-------------------------------------------------------------\n",
            "<class 'pandas.core.frame.DataFrame'>\n",
            "RangeIndex: 10159560 entries, 0 to 10159559\n",
            "Data columns (total 12 columns):\n",
            " #   Column       Dtype  \n",
            "---  ------       -----  \n",
            " 0   sample_id    int64  \n",
            " 1   time         int64  \n",
            " 2   coin_index   int64  \n",
            " 3   open         float64\n",
            " 4   high         float64\n",
            " 5   low          float64\n",
            " 6   close        float64\n",
            " 7   volume       float64\n",
            " 8   quote_av     float64\n",
            " 9   trades       float64\n",
            " 10  tb_base_av   float64\n",
            " 11  tb_quote_av  float64\n",
            "dtypes: float64(9), int64(3)\n",
            "memory usage: 930.1 MB\n",
            "None\n",
            "-------------------------------------------------------------\n",
            "          sample_id          time  ...    tb_base_av   tb_quote_av\n",
            "count  1.015956e+07  1.015956e+07  ...  1.015956e+07  1.015956e+07\n",
            "mean   3.680500e+03  6.895000e+02  ...  3.647911e+05  2.106137e+04\n",
            "std    2.125226e+03  3.983716e+02  ...  5.268894e+06  1.117901e+05\n",
            "min    0.000000e+00  0.000000e+00  ...  0.000000e+00  0.000000e+00\n",
            "25%    1.840000e+03  3.447500e+02  ...  5.671815e-03  1.066213e+01\n",
            "50%    3.680500e+03  6.895000e+02  ...  1.039115e+00  1.152704e+02\n",
            "75%    5.521000e+03  1.034250e+03  ...  9.016594e+03  4.863686e+03\n",
            "max    7.361000e+03  1.379000e+03  ...  7.340513e+09  2.320023e+07\n",
            "\n",
            "[8 rows x 12 columns]\n"
          ],
          "name": "stdout"
        }
      ]
    },
    {
      "cell_type": "code",
      "metadata": {
        "id": "uW6HrhooO7OJ",
        "colab": {
          "base_uri": "https://localhost:8080/"
        },
        "outputId": "961ab159-d744-4ff2-fa06-3815b9e1262e"
      },
      "source": [
        "print(train_y_df.head())\n",
        "print('-------------------------------------------------------------')\n",
        "print(train_y_df.info())\n",
        "print('-------------------------------------------------------------')\n",
        "print(train_y_df.describe())\n",
        "# print(train_y_df.isnull().sum()) NULL 값 없음 확인완료"
      ],
      "execution_count": 8,
      "outputs": [
        {
          "output_type": "stream",
          "text": [
            "   sample_id  time  coin_index  ...      trades    tb_base_av   tb_quote_av\n",
            "0          0     0           7  ...  137.308746  8.305119e+05  42356.179688\n",
            "1          0     1           7  ...  294.233032  4.882738e+05  24909.861328\n",
            "2          0     2           7  ...   58.846603  5.113770e+05  26100.681641\n",
            "3          0     3           7  ...  137.308746  1.095514e+06  55921.156250\n",
            "4          0     4           7  ...  666.928162  9.911239e+05  50528.589844\n",
            "\n",
            "[5 rows x 12 columns]\n",
            "-------------------------------------------------------------\n",
            "<class 'pandas.core.frame.DataFrame'>\n",
            "RangeIndex: 883440 entries, 0 to 883439\n",
            "Data columns (total 12 columns):\n",
            " #   Column       Non-Null Count   Dtype  \n",
            "---  ------       --------------   -----  \n",
            " 0   sample_id    883440 non-null  int64  \n",
            " 1   time         883440 non-null  int64  \n",
            " 2   coin_index   883440 non-null  int64  \n",
            " 3   open         883440 non-null  float64\n",
            " 4   high         883440 non-null  float64\n",
            " 5   low          883440 non-null  float64\n",
            " 6   close        883440 non-null  float64\n",
            " 7   volume       883440 non-null  float64\n",
            " 8   quote_av     883440 non-null  float64\n",
            " 9   trades       883440 non-null  float64\n",
            " 10  tb_base_av   883440 non-null  float64\n",
            " 11  tb_quote_av  883440 non-null  float64\n",
            "dtypes: float64(9), int64(3)\n",
            "memory usage: 80.9 MB\n",
            "None\n",
            "-------------------------------------------------------------\n",
            "           sample_id           time  ...    tb_base_av   tb_quote_av\n",
            "count  883440.000000  883440.000000  ...  8.834400e+05  8.834400e+05\n",
            "mean     3680.500000      59.500000  ...  3.529742e+05  2.053159e+04\n",
            "std      2125.227524      34.639833  ...  4.836148e+06  1.019837e+05\n",
            "min         0.000000       0.000000  ...  0.000000e+00  0.000000e+00\n",
            "25%      1840.000000      29.750000  ...  5.787930e-03  1.067757e+01\n",
            "50%      3680.500000      59.500000  ...  1.043598e+00  1.159318e+02\n",
            "75%      5521.000000      89.250000  ...  8.772491e+03  4.886511e+03\n",
            "max      7361.000000     119.000000  ...  1.908554e+09  8.438416e+06\n",
            "\n",
            "[8 rows x 12 columns]\n"
          ],
          "name": "stdout"
        }
      ]
    },
    {
      "cell_type": "code",
      "metadata": {
        "id": "uvWlKASfPfUv",
        "colab": {
          "base_uri": "https://localhost:8080/"
        },
        "outputId": "d6e0f44c-5d3f-4fd0-b2a2-dfd80efb4070"
      },
      "source": [
        "print(test_x_df.head())\n",
        "print('-------------------------------------------------------------')\n",
        "print(test_x_df.info())\n",
        "print('-------------------------------------------------------------')\n",
        "print(test_x_df.describe())\n",
        "# print(test_x_df.isnull().sum()) NULL 값 없음 확인완료"
      ],
      "execution_count": 9,
      "outputs": [
        {
          "output_type": "stream",
          "text": [
            "   sample_id  time  coin_index  ...      trades     tb_base_av    tb_quote_av\n",
            "0          0     0           7  ...  332.671570  287449.968750  107758.375000\n",
            "1          0     1           7  ...  407.790955  560290.250000  210005.125000\n",
            "2          0     2           7  ...  276.332031  214270.265625   80283.554688\n",
            "3          0     3           7  ...  166.335785   56401.246094   21135.490234\n",
            "4          0     4           7  ...  303.160370  138711.703125   52010.964844\n",
            "\n",
            "[5 rows x 12 columns]\n",
            "-------------------------------------------------------------\n",
            "<class 'pandas.core.frame.DataFrame'>\n",
            "RangeIndex: 730020 entries, 0 to 730019\n",
            "Data columns (total 12 columns):\n",
            " #   Column       Non-Null Count   Dtype  \n",
            "---  ------       --------------   -----  \n",
            " 0   sample_id    730020 non-null  int64  \n",
            " 1   time         730020 non-null  int64  \n",
            " 2   coin_index   730020 non-null  int64  \n",
            " 3   open         730020 non-null  float64\n",
            " 4   high         730020 non-null  float64\n",
            " 5   low          730020 non-null  float64\n",
            " 6   close        730020 non-null  float64\n",
            " 7   volume       730020 non-null  float64\n",
            " 8   quote_av     730020 non-null  float64\n",
            " 9   trades       730020 non-null  float64\n",
            " 10  tb_base_av   730020 non-null  float64\n",
            " 11  tb_quote_av  730020 non-null  float64\n",
            "dtypes: float64(9), int64(3)\n",
            "memory usage: 66.8 MB\n",
            "None\n",
            "-------------------------------------------------------------\n",
            "           sample_id           time  ...    tb_base_av   tb_quote_av\n",
            "count  730020.000000  730020.000000  ...  7.300200e+05  7.300200e+05\n",
            "mean      264.000000     689.500000  ...  3.903638e+05  9.925072e+04\n",
            "std       152.708978     398.371854  ...  2.005648e+06  4.268118e+05\n",
            "min         0.000000       0.000000  ...  0.000000e+00  0.000000e+00\n",
            "25%       132.000000     344.750000  ...  3.648973e-01  2.334793e+02\n",
            "50%       264.000000     689.500000  ...  1.658845e+02  2.198869e+03\n",
            "75%       396.000000    1034.250000  ...  1.446413e+05  4.106598e+04\n",
            "max       528.000000    1379.000000  ...  2.255709e+08  3.681243e+07\n",
            "\n",
            "[8 rows x 12 columns]\n"
          ],
          "name": "stdout"
        }
      ]
    },
    {
      "cell_type": "markdown",
      "metadata": {
        "id": "owX-JNzPTQAK"
      },
      "source": [
        "주문량, 거래량, 거래 건 수 등에서 0값이 포함된 데이터는 지워주기로 결정.\n",
        "\n",
        "- volume, trades, quote_av, tb_base_av, tb_quote_av \n",
        "\n",
        "데이터 형태를 2차원에서 3차원 Numpy array로 바꾸는 과정 중 문제가 발생. \n",
        "\n",
        "따라서 지우지 않는 방향으로 다시 모색"
      ]
    },
    {
      "cell_type": "code",
      "metadata": {
        "id": "QVUWN3LPTPZ_",
        "colab": {
          "base_uri": "https://localhost:8080/",
          "height": 141
        },
        "outputId": "541c0d04-8297-47ce-c260-6ce52d67df75"
      },
      "source": [
        "'''\n",
        "# 위에서 선정한 column들에 대해 0인 값을 갖는 행은 모두 지워준다.\n",
        "idx_trainx = train_x_df[(train_x_df['volume'] == 0) | (train_x_df['trades'] == 0) | (train_x_df['quote_av'] == 0) | (train_x_df['tb_base_av'] == 0) | (train_x_df['tb_quote_av'] == 0)].index\n",
        "idx_trainy = train_y_df[(train_y_df['volume'] == 0) | (train_y_df['trades'] == 0) | (train_y_df['quote_av'] == 0) | (train_y_df['tb_base_av'] == 0) | (train_y_df['tb_quote_av'] == 0)].index\n",
        "idx_testx =  test_x_df[(test_x_df['volume'] == 0) | (test_x_df['trades'] == 0) | (test_x_df['quote_av'] == 0) | (test_x_df['tb_base_av'] == 0) | (test_x_df['tb_quote_av'] == 0)].index\n",
        "train_x_df = train_x_df.drop(idx_trainx)\n",
        "train_y_df = train_y_df.drop(idx_trainy)\n",
        "test_x_df = test_x_df.drop(idx_testx)\n",
        "\n",
        "print(f'train_x shape: {train_x_df.shape}')\n",
        "print(f'train_y shape: {train_y_df.shape}')\n",
        "print(f'test_x shape: {test_x_df.shape}')\n",
        "'''\n"
      ],
      "execution_count": 10,
      "outputs": [
        {
          "output_type": "execute_result",
          "data": {
            "application/vnd.google.colaboratory.intrinsic+json": {
              "type": "string"
            },
            "text/plain": [
              "\"\\n# 위에서 선정한 column들에 대해 0인 값을 갖는 행은 모두 지워준다.\\nidx_trainx = train_x_df[(train_x_df['volume'] == 0) | (train_x_df['trades'] == 0) | (train_x_df['quote_av'] == 0) | (train_x_df['tb_base_av'] == 0) | (train_x_df['tb_quote_av'] == 0)].index\\nidx_trainy = train_y_df[(train_y_df['volume'] == 0) | (train_y_df['trades'] == 0) | (train_y_df['quote_av'] == 0) | (train_y_df['tb_base_av'] == 0) | (train_y_df['tb_quote_av'] == 0)].index\\nidx_testx =  test_x_df[(test_x_df['volume'] == 0) | (test_x_df['trades'] == 0) | (test_x_df['quote_av'] == 0) | (test_x_df['tb_base_av'] == 0) | (test_x_df['tb_quote_av'] == 0)].index\\ntrain_x_df = train_x_df.drop(idx_trainx)\\ntrain_y_df = train_y_df.drop(idx_trainy)\\ntest_x_df = test_x_df.drop(idx_testx)\\n\\nprint(f'train_x shape: {train_x_df.shape}')\\nprint(f'train_y shape: {train_y_df.shape}')\\nprint(f'test_x shape: {test_x_df.shape}')\\n\""
            ]
          },
          "metadata": {
            "tags": []
          },
          "execution_count": 10
        }
      ]
    },
    {
      "cell_type": "code",
      "metadata": {
        "id": "CVG-wDf5WDE0"
      },
      "source": [
        "# 위에서 선정한 column들에 대해 0인 값을 갖는 행은 모두 중간값으로 대체한다.\n",
        "#idx_trainx = train_x_df[(train_x_df['volume'] == 0) | (train_x_df['trades'] == 0) | (train_x_df['quote_av'] == 0) | (train_x_df['tb_base_av'] == 0) | (train_x_df['tb_quote_av'] == 0)].index\n",
        "#idx_trainy = train_y_df[(train_y_df['volume'] == 0) | (train_y_df['trades'] == 0) | (train_y_df['quote_av'] == 0) | (train_y_df['tb_base_av'] == 0) | (train_y_df['tb_quote_av'] == 0)].index\n",
        "#idx_testx =  test_x_df[(test_x_df['volume'] == 0) | (test_x_df['trades'] == 0) | (test_x_df['quote_av'] == 0) | (test_x_df['tb_base_av'] == 0) | (test_x_df['tb_quote_av'] == 0)].index\n",
        "\n",
        "x_volume_median = train_x_df['volume'].median()\n",
        "x_trades_median = train_x_df['trades'].median()\n",
        "x_quote_av_median = train_x_df['quote_av'].median()\n",
        "x_tb_base_av_median = train_x_df['tb_base_av'].median()\n",
        "x_tb_quote_av_median = train_x_df['tb_quote_av'].median()\n",
        "\n",
        "train_x_df['volume'] = train_x_df['volume'].replace({0:x_volume_median})\n",
        "train_x_df['trades'] = train_x_df['trades'].replace({0:x_trades_median})\n",
        "train_x_df['quote_av'] = train_x_df['quote_av'].replace({0:x_quote_av_median})\n",
        "train_x_df['tb_base_av'] = train_x_df['tb_base_av'].replace({0:x_tb_base_av_median})\n",
        "train_x_df['tb_quote_av'] = train_x_df['tb_quote_av'].replace({0:x_tb_quote_av_median})\n",
        "\n",
        "y_volume_median = train_y_df['volume'].median()\n",
        "y_trades_median = train_y_df['trades'].median()\n",
        "y_quote_av_median = train_y_df['quote_av'].median()\n",
        "y_tb_base_av_median = train_y_df['tb_base_av'].median()\n",
        "y_tb_quote_av_median = train_y_df['tb_quote_av'].median()\n",
        "\n",
        "train_y_df['volume'] = train_y_df['volume'].replace({0:y_volume_median})\n",
        "train_y_df['trades'] = train_y_df['trades'].replace({0:y_trades_median})\n",
        "train_y_df['quote_av'] = train_y_df['quote_av'].replace({0:y_quote_av_median})\n",
        "train_y_df['tb_base_av'] = train_y_df['tb_base_av'].replace({0:y_tb_base_av_median})\n",
        "train_y_df['tb_quote_av'] = train_y_df['tb_quote_av'].replace({0:y_tb_quote_av_median})\n",
        "\n",
        "tx_volume_median = test_x_df['volume'].median()\n",
        "tx_trades_median = test_x_df['trades'].median()\n",
        "tx_quote_av_median = test_x_df['quote_av'].median()\n",
        "tx_tb_base_av_median = test_x_df['tb_base_av'].median()\n",
        "tx_tb_quote_av_median = test_x_df['tb_quote_av'].median()\n",
        "\n",
        "test_x_df['volume'] = test_x_df['volume'].replace({0:tx_volume_median})\n",
        "test_x_df['trades'] = test_x_df['trades'].replace({0:tx_trades_median})\n",
        "test_x_df['quote_av'] = test_x_df['quote_av'].replace({0:tx_quote_av_median})\n",
        "test_x_df['tb_base_av'] = test_x_df['tb_base_av'].replace({0:tx_tb_base_av_median})\n",
        "test_x_df['tb_quote_av'] = test_x_df['tb_quote_av'].replace({0:tx_tb_quote_av_median})"
      ],
      "execution_count": 11,
      "outputs": []
    },
    {
      "cell_type": "code",
      "metadata": {
        "colab": {
          "base_uri": "https://localhost:8080/"
        },
        "id": "9GuTbrv9M-aL",
        "outputId": "04d15b6a-2e08-4c18-faee-aae23dc8ef42"
      },
      "source": [
        "print(train_x_df.head())\n",
        "print('-------------------------------------------------------------')\n",
        "print(train_x_df.tail())\n"
      ],
      "execution_count": 12,
      "outputs": [
        {
          "output_type": "stream",
          "text": [
            "   sample_id  time  coin_index  ...      trades    tb_base_av    tb_quote_av\n",
            "0          0     0           7  ...  451.157288  7.326834e+05   37725.183594\n",
            "1          0     1           7  ...   39.231071  1.039115e+00     115.270428\n",
            "2          0     2           7  ...   58.846603  1.664967e+04     857.377808\n",
            "3          0     3           7  ...  431.541779  2.189147e+06  112811.046875\n",
            "4          0     4           7  ...  176.539810  1.039115e+00     115.270428\n",
            "\n",
            "[5 rows x 12 columns]\n",
            "-------------------------------------------------------------\n",
            "          sample_id  time  coin_index  ...    trades  tb_base_av  tb_quote_av\n",
            "10159555       7361  1375           8  ...  2.245034    6.229020  1494.727417\n",
            "10159556       7361  1376           8  ...  2.211651    3.056139   733.490601\n",
            "10159557       7361  1377           8  ...  1.260224    2.284546   548.042297\n",
            "10159558       7361  1378           8  ...  0.826239    0.516497   123.819839\n",
            "10159559       7361  1379           8  ...  0.642631    0.732091   175.527679\n",
            "\n",
            "[5 rows x 12 columns]\n"
          ],
          "name": "stdout"
        }
      ]
    },
    {
      "cell_type": "code",
      "metadata": {
        "colab": {
          "base_uri": "https://localhost:8080/"
        },
        "id": "D8PglnoMW65Y",
        "outputId": "694585fe-e8c5-4319-b879-652ccb8e46b6"
      },
      "source": [
        "print(f'train_x shape: {train_x_df.shape}')\n",
        "print(f'train_y shape: {train_y_df.shape}')\n",
        "print(f'test_x shape: {test_x_df.shape}')"
      ],
      "execution_count": 13,
      "outputs": [
        {
          "output_type": "stream",
          "text": [
            "train_x shape: (10159560, 12)\n",
            "train_y shape: (883440, 12)\n",
            "test_x shape: (730020, 12)\n"
          ],
          "name": "stdout"
        }
      ]
    },
    {
      "cell_type": "code",
      "metadata": {
        "id": "jdfEi9QGNF9Z"
      },
      "source": [
        "def df2d_to_array3d(df_2d):\n",
        "    # 입력 받은 2차원 데이터 프레임을 3차원 numpy array로 변경하는 함수\n",
        "    feature_size = df_2d.iloc[:,2:].shape[1]\n",
        "    time_size = len(df_2d.time.value_counts())\n",
        "    sample_size = len(df_2d.sample_id.value_counts())\n",
        "    array_3d = df_2d.iloc[:,2:].values.reshape([sample_size, time_size, feature_size])\n",
        "    return array_3d"
      ],
      "execution_count": 14,
      "outputs": []
    },
    {
      "cell_type": "code",
      "metadata": {
        "id": "Wv2jAsbZNJvf"
      },
      "source": [
        "# 함수 사용해서 3차원으로 변경\n",
        "train_x_array = df2d_to_array3d(train_x_df)\n",
        "train_y_array = df2d_to_array3d(train_y_df)\n",
        "test_x_array = df2d_to_array3d(test_x_df)"
      ],
      "execution_count": 15,
      "outputs": []
    },
    {
      "cell_type": "code",
      "metadata": {
        "id": "qTt7FLU0NSOg",
        "colab": {
          "base_uri": "https://localhost:8080/"
        },
        "outputId": "c7e64d8d-84d1-4499-9fc8-a2f8e22954ce"
      },
      "source": [
        "print(f'train_x_3d shape: {train_x_array.shape}')\n",
        "print(f'train_y_3d shape: {train_y_array.shape}')\n",
        "print(f'test_x_3d shape: {test_x_array.shape}')"
      ],
      "execution_count": 16,
      "outputs": [
        {
          "output_type": "stream",
          "text": [
            "train_x_3d shape: (7362, 1380, 10)\n",
            "train_y_3d shape: (7362, 120, 10)\n",
            "test_x_3d shape: (529, 1380, 10)\n"
          ],
          "name": "stdout"
        }
      ]
    },
    {
      "cell_type": "code",
      "metadata": {
        "id": "I8zs-PIUPA_w"
      },
      "source": [
        "def plot_series(x_series, y_series):\n",
        "    #입력 x_series와 출력 y_series를 연속적으로 연결하여 시각적으로 보여주기\n",
        "    plt.plot(x_series, label = 'input_series')\n",
        "    plt.plot(np.arange(len(x_series), len(x_series)+len(y_series)),\n",
        "             y_series, label = 'output_series')\n",
        "    plt.axhline(1, c = 'black')\n",
        "    plt.legend()"
      ],
      "execution_count": 17,
      "outputs": []
    },
    {
      "cell_type": "code",
      "metadata": {
        "id": "pjEyVRoxPC9q",
        "colab": {
          "base_uri": "https://localhost:8080/",
          "height": 265
        },
        "outputId": "0947a9d7-e39f-4edb-bb96-1cb87b897342"
      },
      "source": [
        "# sample_id n에 해당하는 sample의 분단위 시가 변동 정보 시각화\n",
        "n = 1141\n",
        "idx = n\n",
        "plot_series(train_x_array[idx,:,1], train_y_array[idx,:,1])\n",
        "plt.show()"
      ],
      "execution_count": 18,
      "outputs": [
        {
          "output_type": "display_data",
          "data": {
            "image/png": "[encoded data removed]",
            "text/plain": [
              "<Figure size 432x288 with 1 Axes>"
            ]
          },
          "metadata": {
            "tags": [],
            "needs_background": "light"
          }
        }
      ]
    },
    {
      "cell_type": "markdown",
      "metadata": {
        "id": "ZgnbTMVX-_MQ"
      },
      "source": [
        "# 모델 훈련\n"
      ]
    },
    {
      "cell_type": "markdown",
      "metadata": {
        "id": "8-nDKo0PAtRh"
      },
      "source": [
        "train 샘플로 훈련해보기"
      ]
    },
    {
      "cell_type": "code",
      "metadata": {
        "id": "92FYeMgu_CAU",
        "colab": {
          "base_uri": "https://localhost:8080/"
        },
        "outputId": "26b07582-10a9-4f38-911b-5b75fbc1d1dd"
      },
      "source": [
        "start_time = '2021-01-31 00:00:00'\n",
        "start_dt = datetime.datetime.strptime(start_time, '%Y-%m-%d %H:%M:%S')\n",
        "print(start_dt)     "
      ],
      "execution_count": 19,
      "outputs": [
        {
          "output_type": "stream",
          "text": [
            "2021-01-31 00:00:00\n"
          ],
          "name": "stdout"
        }
      ]
    },
    {
      "cell_type": "code",
      "metadata": {
        "id": "EHw2PfTq_GWI"
      },
      "source": [
        "idx = 523\n",
        "x_series = train_x_array[idx,:,1]\n",
        "y_series = train_y_array[idx,:,1]"
      ],
      "execution_count": 20,
      "outputs": []
    },
    {
      "cell_type": "code",
      "metadata": {
        "id": "F3W97RTS_4Fu"
      },
      "source": [
        "# prophet 모델의 학습을 위한 가공 (ds, y 칼럼이 필요하다.)\n",
        "x_df = pd.DataFrame()\n",
        "x_df['ds'] = [start_dt + datetime.timedelta(minutes = time_min) for time_min in np.arange(1, x_series.shape[0]+1).tolist()]\n",
        "x_df['y'] = x_series.tolist() "
      ],
      "execution_count": 21,
      "outputs": []
    },
    {
      "cell_type": "code",
      "metadata": {
        "id": "xB247j4J_5_f",
        "colab": {
          "base_uri": "https://localhost:8080/",
          "height": 195
        },
        "outputId": "e5b1701d-0f23-4554-f60c-3d58a91478ba"
      },
      "source": [
        "x_df.head()"
      ],
      "execution_count": 22,
      "outputs": [
        {
          "output_type": "execute_result",
          "data": {
            "text/html": [
              "<div>\n",
              "<style scoped>\n",
              "    .dataframe tbody tr th:only-of-type {\n",
              "        vertical-align: middle;\n",
              "    }\n",
              "\n",
              "    .dataframe tbody tr th {\n",
              "        vertical-align: top;\n",
              "    }\n",
              "\n",
              "    .dataframe thead th {\n",
              "        text-align: right;\n",
              "    }\n",
              "</style>\n",
              "<table border=\"1\" class=\"dataframe\">\n",
              "  <thead>\n",
              "    <tr style=\"text-align: right;\">\n",
              "      <th></th>\n",
              "      <th>ds</th>\n",
              "      <th>y</th>\n",
              "    </tr>\n",
              "  </thead>\n",
              "  <tbody>\n",
              "    <tr>\n",
              "      <th>0</th>\n",
              "      <td>2021-01-31 00:01:00</td>\n",
              "      <td>0.976734</td>\n",
              "    </tr>\n",
              "    <tr>\n",
              "      <th>1</th>\n",
              "      <td>2021-01-31 00:02:00</td>\n",
              "      <td>0.976877</td>\n",
              "    </tr>\n",
              "    <tr>\n",
              "      <th>2</th>\n",
              "      <td>2021-01-31 00:03:00</td>\n",
              "      <td>0.977020</td>\n",
              "    </tr>\n",
              "    <tr>\n",
              "      <th>3</th>\n",
              "      <td>2021-01-31 00:04:00</td>\n",
              "      <td>0.977448</td>\n",
              "    </tr>\n",
              "    <tr>\n",
              "      <th>4</th>\n",
              "      <td>2021-01-31 00:05:00</td>\n",
              "      <td>0.977020</td>\n",
              "    </tr>\n",
              "  </tbody>\n",
              "</table>\n",
              "</div>"
            ],
            "text/plain": [
              "                   ds         y\n",
              "0 2021-01-31 00:01:00  0.976734\n",
              "1 2021-01-31 00:02:00  0.976877\n",
              "2 2021-01-31 00:03:00  0.977020\n",
              "3 2021-01-31 00:04:00  0.977448\n",
              "4 2021-01-31 00:05:00  0.977020"
            ]
          },
          "metadata": {
            "tags": []
          },
          "execution_count": 22
        }
      ]
    },
    {
      "cell_type": "code",
      "metadata": {
        "id": "QUBZZt-t_88O",
        "colab": {
          "base_uri": "https://localhost:8080/"
        },
        "outputId": "afd2b014-1a17-4422-e158-68170f09c411"
      },
      "source": [
        "model = Prophet(#seasonality_mode='multiplicative',# 점점 증가하는 seasonality의 경우 multiplicative를 설정해준다.\n",
        "                  yearly_seasonality=False,\n",
        "                  weekly_seasonality=False, daily_seasonality=False,\n",
        "                  changepoint_range=0.95,  # changepoint range를 바꿔준다. (큰 영향을 끼치지는 않는듯하다.)\n",
        "                  changepoint_prior_scale=0.1  # 오버피팅, 언더피팅을 피하기 위해 조정해준다.\n",
        "                )\n",
        "model.add_seasonality(name='first_seasonality', period=1/8, fourier_order=10) # seasonality 추가\n",
        "model.add_seasonality(name='second_seasonality', period=1/12, fourier_order=6) # seasonality 추가\n",
        "#model.add_seasonality(name='third_seasonality', period=1/24, fourier_order=5) # seasonality 추가\n",
        "model.fit(x_df)"
      ],
      "execution_count": 28,
      "outputs": [
        {
          "output_type": "execute_result",
          "data": {
            "text/plain": [
              "<fbprophet.forecaster.Prophet at 0x7f330e56aa10>"
            ]
          },
          "metadata": {
            "tags": []
          },
          "execution_count": 28
        }
      ]
    },
    {
      "cell_type": "code",
      "metadata": {
        "id": "OmTPiiWVCU9T",
        "colab": {
          "base_uri": "https://localhost:8080/",
          "height": 195
        },
        "outputId": "3d0a4c90-77de-4699-bbe2-0649b5a3bd7b"
      },
      "source": [
        "# 120분 테스트 데이터를 예측\n",
        "forecast = model.make_future_dataframe(periods=120, freq='min') # 120분을 예측\n",
        "forecast_data = model.predict(forecast)\n",
        "forecast_data[['ds', 'yhat', 'yhat_lower', 'yhat_upper']].tail(5) "
      ],
      "execution_count": 29,
      "outputs": [
        {
          "output_type": "execute_result",
          "data": {
            "text/html": [
              "<div>\n",
              "<style scoped>\n",
              "    .dataframe tbody tr th:only-of-type {\n",
              "        vertical-align: middle;\n",
              "    }\n",
              "\n",
              "    .dataframe tbody tr th {\n",
              "        vertical-align: top;\n",
              "    }\n",
              "\n",
              "    .dataframe thead th {\n",
              "        text-align: right;\n",
              "    }\n",
              "</style>\n",
              "<table border=\"1\" class=\"dataframe\">\n",
              "  <thead>\n",
              "    <tr style=\"text-align: right;\">\n",
              "      <th></th>\n",
              "      <th>ds</th>\n",
              "      <th>yhat</th>\n",
              "      <th>yhat_lower</th>\n",
              "      <th>yhat_upper</th>\n",
              "    </tr>\n",
              "  </thead>\n",
              "  <tbody>\n",
              "    <tr>\n",
              "      <th>1495</th>\n",
              "      <td>2021-02-01 00:56:00</td>\n",
              "      <td>1.003051</td>\n",
              "      <td>0.980942</td>\n",
              "      <td>1.028403</td>\n",
              "    </tr>\n",
              "    <tr>\n",
              "      <th>1496</th>\n",
              "      <td>2021-02-01 00:57:00</td>\n",
              "      <td>1.003043</td>\n",
              "      <td>0.980227</td>\n",
              "      <td>1.028646</td>\n",
              "    </tr>\n",
              "    <tr>\n",
              "      <th>1497</th>\n",
              "      <td>2021-02-01 00:58:00</td>\n",
              "      <td>1.003039</td>\n",
              "      <td>0.980476</td>\n",
              "      <td>1.029264</td>\n",
              "    </tr>\n",
              "    <tr>\n",
              "      <th>1498</th>\n",
              "      <td>2021-02-01 00:59:00</td>\n",
              "      <td>1.003042</td>\n",
              "      <td>0.979894</td>\n",
              "      <td>1.029150</td>\n",
              "    </tr>\n",
              "    <tr>\n",
              "      <th>1499</th>\n",
              "      <td>2021-02-01 01:00:00</td>\n",
              "      <td>1.003055</td>\n",
              "      <td>0.979731</td>\n",
              "      <td>1.030651</td>\n",
              "    </tr>\n",
              "  </tbody>\n",
              "</table>\n",
              "</div>"
            ],
            "text/plain": [
              "                      ds      yhat  yhat_lower  yhat_upper\n",
              "1495 2021-02-01 00:56:00  1.003051    0.980942    1.028403\n",
              "1496 2021-02-01 00:57:00  1.003043    0.980227    1.028646\n",
              "1497 2021-02-01 00:58:00  1.003039    0.980476    1.029264\n",
              "1498 2021-02-01 00:59:00  1.003042    0.979894    1.029150\n",
              "1499 2021-02-01 01:00:00  1.003055    0.979731    1.030651"
            ]
          },
          "metadata": {
            "tags": []
          },
          "execution_count": 29
        }
      ]
    },
    {
      "cell_type": "code",
      "metadata": {
        "colab": {
          "base_uri": "https://localhost:8080/",
          "height": 441
        },
        "id": "QWeajomYCXi7",
        "outputId": "7dde91aa-42fc-4a7d-d054-918ba3a09ea4"
      },
      "source": [
        "# 만들어진 데이터를 확인\n",
        "from fbprophet.plot import add_changepoints_to_plot\n",
        "fig1 = model.plot(forecast_data)\n",
        "a = add_changepoints_to_plot(fig1.gca(), model, forecast_data)"
      ],
      "execution_count": 30,
      "outputs": [
        {
          "output_type": "display_data",
          "data": {
            "image/png": "[encoded data removed]",
            "text/plain": [
              "<Figure size 720x432 with 1 Axes>"
            ]
          },
          "metadata": {
            "tags": []
          }
        }
      ]
    },
    {
      "cell_type": "code",
      "metadata": {
        "colab": {
          "base_uri": "https://localhost:8080/",
          "height": 657
        },
        "id": "EtNkH0JxCZeQ",
        "outputId": "42c5c468-9167-4841-cfd2-6faf4d5c5dd3"
      },
      "source": [
        "# 데이터 trend 및 추가한 seasonality 확인\n",
        "fig2 = model.plot_components(forecast_data)"
      ],
      "execution_count": 31,
      "outputs": [
        {
          "output_type": "display_data",
          "data": {
            "image/png": "[encoded data removed]",
            "text/plain": [
              "<Figure size 648x648 with 3 Axes>"
            ]
          },
          "metadata": {
            "tags": []
          }
        }
      ]
    },
    {
      "cell_type": "code",
      "metadata": {
        "colab": {
          "base_uri": "https://localhost:8080/",
          "height": 265
        },
        "id": "BXRADZ3IAXwC",
        "outputId": "9cde6476-cc29-4184-de09-b4a7870c35f9"
      },
      "source": [
        "pred_y = forecast_data.yhat.values[-120:]\n",
        "pred_y_lower = forecast_data.yhat_lower.values[-120:]\n",
        "pred_y_upper = forecast_data.yhat_upper.values[-120:]\n",
        "\n",
        "plot_series(x_series, y_series)\n",
        "plt.plot(np.arange(1380, 1380+120), pred_y, label = 'prediction')\n",
        "plt.plot(np.arange(1380, 1380+120), pred_y_lower, label = 'prediction_lower')\n",
        "plt.plot(np.arange(1380, 1380+120), pred_y_upper, label = 'prediction_upper')\n",
        "plt.legend()\n",
        "plt.show()"
      ],
      "execution_count": 32,
      "outputs": [
        {
          "output_type": "display_data",
          "data": {
            "image/png": "[encoded data removed]",
            "text/plain": [
              "<Figure size 432x288 with 1 Axes>"
            ]
          },
          "metadata": {
            "tags": [],
            "needs_background": "light"
          }
        }
      ]
    },
    {
      "cell_type": "code",
      "metadata": {
        "id": "fCpMCiuEAooS"
      },
      "source": [
        "# train 데이터 상단의 n개 샘플로 validation set를 구성하여 학습 및 추론\n",
        "n = 350\n",
        "valid_x_df = train_x_df[train_x_df.sample_id < n]\n",
        "valid_y_df = train_y_df[train_y_df.sample_id < n]\n",
        "\n",
        "valid_x_array = df2d_to_array3d(valid_x_df)\n",
        "valid_y_array = df2d_to_array3d(valid_y_df)\n",
        "valid_pred_array = np.zeros([n, 120])"
      ],
      "execution_count": 34,
      "outputs": []
    },
    {
      "cell_type": "markdown",
      "metadata": {
        "id": "lu52MF5NFGqn"
      },
      "source": [
        "prediction의 방법 고민\n",
        "\n",
        "1. 1분 단위로 recursive하게 t일 때의output을 input의 끝에 붙이고 그 다음은 t+1 일 때의 output을 예측하기\n",
        "\n",
        "2. 바로 120분을 예측"
      ]
    },
    {
      "cell_type": "code",
      "metadata": {
        "colab": {
          "base_uri": "https://localhost:8080/"
        },
        "id": "9jisBrMrBAEN",
        "outputId": "87e7945d-3dc6-4f1a-e87e-61519cb0dd22"
      },
      "source": [
        "for idx in tqdm(range(valid_x_array.shape[0])):\n",
        "    try:\n",
        "        x_series = valid_x_array[idx,:,1]\n",
        "\n",
        "        x_df = pd.DataFrame()\n",
        "        x_df['ds'] = [start_dt + datetime.timedelta(minutes = time_min) for time_min in np.arange(1, x_series.shape[0]+1).tolist()]\n",
        "        x_df['y'] = x_series.tolist()\n",
        "\n",
        "        prophet = Prophet(seasonality_mode='multiplicative', \n",
        "                  yearly_seasonality=False,\n",
        "                  weekly_seasonality=False, daily_seasonality=False,\n",
        "                  changepoint_range=0.95,  # changepoint range를 바꿔준다. (큰 영향을 끼치지는 않는듯하다.)\n",
        "                  changepoint_prior_scale=0.08  # 오버피팅, 언더피팅을 피하기 위해 조정해준다.\n",
        "                  )\n",
        "        prophet.add_seasonality(name='first_seasonality', period=1/10, fourier_order=7) # seasonality 추가\n",
        "        prophet.add_seasonality(name='second_seasonality', period=1/8, fourier_order=10) # seasonality 추가\n",
        "        prophet.fit(x_df)\n",
        "\n",
        "        # 120분 테스트 데이터를 예측\n",
        "        future_data = prophet.make_future_dataframe(periods=120, freq='min')\n",
        "        forecast_data = prophet.predict(future_data)\n",
        "\n",
        "        pred_y = forecast_data.yhat.values[-120:]\n",
        "        pred_y_lower = forecast_data.yhat_lower.values[-120:]\n",
        "        pred_y_upper = forecast_data.yhat_upper.values[-120:]\n",
        "\n",
        "        valid_pred_array[idx,:] = pred_y\n",
        "    except:\n",
        "        print(idx, \" 샘플은 수렴하지 않습니다.\")\n",
        "        pass\n"
      ],
      "execution_count": 36,
      "outputs": [
        {
          "output_type": "stream",
          "text": [
            "100%|██████████| 350/350 [31:52<00:00,  5.46s/it]\n"
          ],
          "name": "stderr"
        }
      ]
    },
    {
      "cell_type": "code",
      "metadata": {
        "colab": {
          "base_uri": "https://localhost:8080/"
        },
        "id": "GLNpW4eetFH5",
        "outputId": "ca262222-b489-4b5a-b59b-9f94e0290a0c"
      },
      "source": [
        "print(valid_pred_array)\n",
        "print(np.argmax(valid_pred_array,axis=1))"
      ],
      "execution_count": 37,
      "outputs": [
        {
          "output_type": "stream",
          "text": [
            "[[1.00071786 1.00077421 1.00088905 ... 1.00550648 1.00539216 1.00526434]\n",
            " [0.99908192 0.99891433 0.9987109  ... 0.99703543 0.99660569 0.99593344]\n",
            " [0.9980059  0.99775015 0.99753105 ... 0.9889638  0.98869585 0.98846826]\n",
            " ...\n",
            " [1.00265679 1.00228272 1.00187225 ... 0.97707182 0.97668945 0.9763012 ]\n",
            " [1.00036768 1.00027336 1.00013994 ... 1.00331687 1.00340596 1.0034893 ]\n",
            " [1.00103515 1.00087715 1.00074954 ... 1.00973903 1.00973669 1.00973478]]\n",
            "[112  21  19   0 105  97   0  73 118  66   0  97  42  10   0  99   0  48\n",
            "   7 119   0 106 119  50  76 103  81   0  87 119   1   0  12   0   0  80\n",
            "  34 119   0  58 119   0   1  26 103 112 101 119 119 119 117  33  63   0\n",
            "  89   0 115 119 113  55   0 119   0 118  89 119  80   3 109   0   0   0\n",
            " 119 119  72   0  87   0 119 119  56   6 100  23   9   0 119  44  69   0\n",
            "   0  99  78  99 119 104 119   0  75  82  75   0   0  12   0 119  16  24\n",
            "   0   0   0   0  51   0 119 115  90   0   5  51  30  66  31  45   9 108\n",
            " 103   9   2  99  49  49  99   1  18   0   0  19 110   0   7   0 119 119\n",
            " 116   3   6 119 104 119 107   0   0  93   5 109  88  79   0  17  83   5\n",
            "   0   9   3   0   0   0   0   0 119   9  96 101 119   0  77   0   1 110\n",
            " 119  18  92 119   0  83  74   0 119 119   0  54 103  56   0   0  10 119\n",
            "   0 119 103   0   0 102  49  28   0  88 115 119  73 119  15   0 119 119\n",
            " 119   0   0 119 119 113   0  20 102 116 119  20  11   0   0   0  16 102\n",
            "   0 119 119 119 119   0  53   0   0 119  97  79  64 114   0  33 100   0\n",
            "  60   1 119   0 105 107  96   0   0  50  21   0  48   0 119   0  59  19\n",
            "   9 119   9 119   3 119  50  94 106   0   0  43  15   0   0   0 119  14\n",
            " 119  10  51   0  37   0 119 115   0   6 119 119 119   0   0   0 119 119\n",
            " 107 102 107  96 103 119  21 113 119   1   0 119  31  41  31  10  40  60\n",
            " 113   0  58 119   0   0 119 119   3 119 113  31   0  11 119 119  16  81\n",
            "   0 110   0  20   0   0  56 111]\n"
          ],
          "name": "stdout"
        }
      ]
    },
    {
      "cell_type": "markdown",
      "metadata": {
        "id": "Z8VDqjGO9IVf"
      },
      "source": [
        "n%를 기준으로 100% 매수를 선택한 이유\n",
        "- 529번의 기회동안 n%가 오를거라 예측하는 샘플은 많지 않을 것\n",
        "- 대회의 특성상 안전하게 낮은 점수를 받는 것 보다는 위험을 감수하고 큰 점수를 받는 것이 낫다"
      ]
    },
    {
      "cell_type": "code",
      "metadata": {
        "id": "I-F1mpUJBC5K"
      },
      "source": [
        "def array_to_submission(x_array, pred_array):\n",
        "    # 입력 x_arrry와 출력 pred_arry를 통해서 \n",
        "    # buy_quantitiy와 sell_time을 결정\n",
        "    submission = pd.DataFrame(np.zeros([pred_array.shape[0],2], np.int64),\n",
        "                columns = ['buy_quantity', 'sell_time'])\n",
        "    submission = submission.reset_index()\n",
        "    submission.loc[:, 'buy_quantity'] = 0.1\n",
        "    \n",
        "    buy_price = []\n",
        "    for idx, sell_time in enumerate(np.argmax(pred_array, axis = 1)):\n",
        "        buy_price.append(pred_array[idx, sell_time])\n",
        "    buy_price = np.array(buy_price)\n",
        "    # 6.5% 이상 상승으로 예측한 sample에 대해서만 100% 매수\n",
        "    submission.loc[:, 'buy_quantity'] = (buy_price > 1.08) * 1.0\n",
        "    # 모델의 예측값 중 최대 값에 해당하는 시간에 매도\n",
        "    submission['sell_time'] = np.argmax(pred_array, axis = 1)\n",
        "    submission.columns = ['sample_id','buy_quantity', 'sell_time']\n",
        "    return submission"
      ],
      "execution_count": 116,
      "outputs": []
    },
    {
      "cell_type": "code",
      "metadata": {
        "id": "2qf5dNQpBEzw"
      },
      "source": [
        "valid_submission = array_to_submission(valid_x_array, valid_pred_array)"
      ],
      "execution_count": 117,
      "outputs": []
    },
    {
      "cell_type": "code",
      "metadata": {
        "colab": {
          "base_uri": "https://localhost:8080/",
          "height": 402
        },
        "id": "RDe8iDe-BGz4",
        "outputId": "e7b144a0-3d2b-4b12-a2be-aec84d9b9d62"
      },
      "source": [
        "valid_submission"
      ],
      "execution_count": 118,
      "outputs": [
        {
          "output_type": "execute_result",
          "data": {
            "text/html": [
              "<div>\n",
              "<style scoped>\n",
              "    .dataframe tbody tr th:only-of-type {\n",
              "        vertical-align: middle;\n",
              "    }\n",
              "\n",
              "    .dataframe tbody tr th {\n",
              "        vertical-align: top;\n",
              "    }\n",
              "\n",
              "    .dataframe thead th {\n",
              "        text-align: right;\n",
              "    }\n",
              "</style>\n",
              "<table border=\"1\" class=\"dataframe\">\n",
              "  <thead>\n",
              "    <tr style=\"text-align: right;\">\n",
              "      <th></th>\n",
              "      <th>sample_id</th>\n",
              "      <th>buy_quantity</th>\n",
              "      <th>sell_time</th>\n",
              "    </tr>\n",
              "  </thead>\n",
              "  <tbody>\n",
              "    <tr>\n",
              "      <th>0</th>\n",
              "      <td>0</td>\n",
              "      <td>0.0</td>\n",
              "      <td>112</td>\n",
              "    </tr>\n",
              "    <tr>\n",
              "      <th>1</th>\n",
              "      <td>1</td>\n",
              "      <td>0.0</td>\n",
              "      <td>21</td>\n",
              "    </tr>\n",
              "    <tr>\n",
              "      <th>2</th>\n",
              "      <td>2</td>\n",
              "      <td>0.0</td>\n",
              "      <td>19</td>\n",
              "    </tr>\n",
              "    <tr>\n",
              "      <th>3</th>\n",
              "      <td>3</td>\n",
              "      <td>0.0</td>\n",
              "      <td>0</td>\n",
              "    </tr>\n",
              "    <tr>\n",
              "      <th>4</th>\n",
              "      <td>4</td>\n",
              "      <td>0.0</td>\n",
              "      <td>105</td>\n",
              "    </tr>\n",
              "    <tr>\n",
              "      <th>...</th>\n",
              "      <td>...</td>\n",
              "      <td>...</td>\n",
              "      <td>...</td>\n",
              "    </tr>\n",
              "    <tr>\n",
              "      <th>345</th>\n",
              "      <td>345</td>\n",
              "      <td>0.0</td>\n",
              "      <td>20</td>\n",
              "    </tr>\n",
              "    <tr>\n",
              "      <th>346</th>\n",
              "      <td>346</td>\n",
              "      <td>0.0</td>\n",
              "      <td>0</td>\n",
              "    </tr>\n",
              "    <tr>\n",
              "      <th>347</th>\n",
              "      <td>347</td>\n",
              "      <td>0.0</td>\n",
              "      <td>0</td>\n",
              "    </tr>\n",
              "    <tr>\n",
              "      <th>348</th>\n",
              "      <td>348</td>\n",
              "      <td>0.0</td>\n",
              "      <td>56</td>\n",
              "    </tr>\n",
              "    <tr>\n",
              "      <th>349</th>\n",
              "      <td>349</td>\n",
              "      <td>0.0</td>\n",
              "      <td>111</td>\n",
              "    </tr>\n",
              "  </tbody>\n",
              "</table>\n",
              "<p>350 rows × 3 columns</p>\n",
              "</div>"
            ],
            "text/plain": [
              "     sample_id  buy_quantity  sell_time\n",
              "0            0           0.0        112\n",
              "1            1           0.0         21\n",
              "2            2           0.0         19\n",
              "3            3           0.0          0\n",
              "4            4           0.0        105\n",
              "..         ...           ...        ...\n",
              "345        345           0.0         20\n",
              "346        346           0.0          0\n",
              "347        347           0.0          0\n",
              "348        348           0.0         56\n",
              "349        349           0.0        111\n",
              "\n",
              "[350 rows x 3 columns]"
            ]
          },
          "metadata": {
            "tags": []
          },
          "execution_count": 118
        }
      ]
    },
    {
      "cell_type": "code",
      "metadata": {
        "colab": {
          "base_uri": "https://localhost:8080/"
        },
        "id": "VBVUEmoSBIS3",
        "outputId": "a94df32b-a172-4742-fd2c-d44aabcf009d"
      },
      "source": [
        "# 위에서 학습한 n가지 sample에 대해\n",
        "# i가지 case에서 설정한 % 이상 상승한다고 추론함.\n",
        "valid_submission.buy_quantity.value_counts()"
      ],
      "execution_count": 119,
      "outputs": [
        {
          "output_type": "execute_result",
          "data": {
            "text/plain": [
              "0.0    347\n",
              "1.0      3\n",
              "Name: buy_quantity, dtype: int64"
            ]
          },
          "metadata": {
            "tags": []
          },
          "execution_count": 119
        }
      ]
    },
    {
      "cell_type": "code",
      "metadata": {
        "id": "lOqp6rZ0BQqg"
      },
      "source": [
        "def df2d_to_answer(df_2d):\n",
        "    # valid_y_df로부터\n",
        "    # open 가격 정보가 포함된\n",
        "    # [샘플 수, 120분] 크기의 \n",
        "    # 2차원 array를 반환하는 함수\n",
        "    feature_size = df_2d.iloc[:,2:].shape[1]\n",
        "    time_size = len(df_2d.time.value_counts())\n",
        "    sample_size = len(df_2d.sample_id.value_counts())\n",
        "    sample_index = df_2d.sample_id.value_counts().index\n",
        "    array_2d = df_2d.open.values.reshape([sample_size, time_size])\n",
        "    sample_index = list(sample_index)\n",
        "    return array_2d, sample_index\n",
        "\n",
        "\n",
        "def COIN(y_df, submission, df2d_to_answer = df2d_to_answer):\n",
        "    # 2차원 데이터프레임에서 open 시점 데이터만 추출하여 array로 복원\n",
        "    # sample_id정보를 index에 저장\n",
        "    y_array, index = df2d_to_answer(y_df)\n",
        "    \n",
        "    # index 기준으로 submission을 다시 선택\n",
        "    submission = submission.set_index(submission.columns[0])\n",
        "    submission = submission.iloc[index, :]    \n",
        "    \n",
        "    # 초기 투자 비용은 10000 달러\n",
        "    total_momey      = 10000 # dollars\n",
        "    total_momey_list = []\n",
        "    \n",
        "    # 가장 처음 sample_id값\n",
        "    start_index = submission.index[0]\n",
        "    for row_idx in submission.index:\n",
        "        sell_time  = submission.loc[row_idx, 'sell_time']\n",
        "        buy_price  = y_array[row_idx - start_index, 0]\n",
        "        sell_price = y_array[row_idx - start_index, sell_time]\n",
        "        buy_quantity = submission.loc[row_idx, 'buy_quantity'] * total_momey\n",
        "        residual = total_momey - buy_quantity\n",
        "        ratio = sell_price / buy_price\n",
        "        total_momey = buy_quantity * ratio * 0.9995 * 0.9995 + residual        \n",
        "        total_momey_list.append(total_momey)\n",
        "        \n",
        "    return total_momey, total_momey_list"
      ],
      "execution_count": 120,
      "outputs": []
    },
    {
      "cell_type": "code",
      "metadata": {
        "id": "2nSguTxjBSkf"
      },
      "source": [
        "total_momey, total_momey_list = COIN(valid_y_df, valid_submission)"
      ],
      "execution_count": 121,
      "outputs": []
    },
    {
      "cell_type": "code",
      "metadata": {
        "id": "1olB8FwtBWFn",
        "colab": {
          "base_uri": "https://localhost:8080/"
        },
        "outputId": "afe07128-58c0-4d15-edcd-e26a33541193"
      },
      "source": [
        "# 투자 후 금액\n",
        "print(total_momey)"
      ],
      "execution_count": 122,
      "outputs": [
        {
          "output_type": "stream",
          "text": [
            "10148.259824985607\n"
          ],
          "name": "stdout"
        }
      ]
    },
    {
      "cell_type": "code",
      "metadata": {
        "id": "6D7U-9lxBXrD",
        "colab": {
          "base_uri": "https://localhost:8080/",
          "height": 281
        },
        "outputId": "7988803a-b242-4f11-9015-3bc10e1d6953"
      },
      "source": [
        "# 투자 히스토리\n",
        "plt.plot(total_momey_list)\n",
        "plt.title(\"history\")\n",
        "plt.show()"
      ],
      "execution_count": 123,
      "outputs": [
        {
          "output_type": "display_data",
          "data": {
            "image/png": "[encoded data removed]",
            "text/plain": [
              "<Figure size 432x288 with 1 Axes>"
            ]
          },
          "metadata": {
            "tags": [],
            "needs_background": "light"
          }
        }
      ]
    },
    {
      "cell_type": "code",
      "metadata": {
        "id": "W4re7feKBdCv",
        "colab": {
          "base_uri": "https://localhost:8080/"
        },
        "outputId": "4c074b9e-af4f-4c3e-f330-14e6be2f343d"
      },
      "source": [
        "test_pred_array = np.zeros([test_x_array.shape[0],\n",
        "                           120])\n",
        "for idx in tqdm(range(test_x_array.shape[0])):\n",
        "    try:\n",
        "        x_series = test_x_array[idx,:,1]\n",
        "\n",
        "        x_df = pd.DataFrame()\n",
        "        x_df['ds'] = [start_dt + datetime.timedelta(minutes = time_min) for time_min in np.arange(1, x_series.shape[0]+1).tolist()]\n",
        "        x_df['y'] = x_series.tolist()\n",
        "    \n",
        "        prophet = Prophet(seasonality_mode='multiplicative', \n",
        "                  yearly_seasonality=False,\n",
        "                  weekly_seasonality=False, daily_seasonality=False,\n",
        "                  changepoint_range=0.95,  # changepoint range를 바꿔준다. (큰 영향을 끼치지는 않는듯하다.)\n",
        "                  changepoint_prior_scale=0.08  # 오버피팅, 언더피팅을 피하기 위해 조정해준다.\n",
        "                  )\n",
        "        prophet.add_seasonality(name='first_seasonality', period=1/10, fourier_order=7) # seasonality 추가\n",
        "        prophet.add_seasonality(name='second_seasonality', period=1/8, fourier_order=10) # seasonality 추가\n",
        "        prophet.fit(x_df)\n",
        "\n",
        "        # 120분 테스트 데이터를 예측\n",
        "        future_data = prophet.make_future_dataframe(periods=120, freq='min')\n",
        "        forecast_data = prophet.predict(future_data)\n",
        "\n",
        "        pred_y = forecast_data.yhat.values[-120:]\n",
        "        pred_y_lower = forecast_data.yhat_lower.values[-120:]\n",
        "        pred_y_upper = forecast_data.yhat_upper.values[-120:]\n",
        "\n",
        "        test_pred_array[idx,:] = pred_y\n",
        "    except:\n",
        "        print(idx, \" 샘플은 수렴하지 않습니다.\")\n",
        "        pass"
      ],
      "execution_count": 124,
      "outputs": [
        {
          "output_type": "stream",
          "text": [
            "100%|██████████| 529/529 [47:32<00:00,  5.39s/it]\n"
          ],
          "name": "stderr"
        }
      ]
    },
    {
      "cell_type": "code",
      "metadata": {
        "id": "_iZkIN9xBfUK"
      },
      "source": [
        "submission = array_to_submission(test_x_array, test_pred_array)"
      ],
      "execution_count": 125,
      "outputs": []
    },
    {
      "cell_type": "code",
      "metadata": {
        "id": "13-g0SVuBhgb"
      },
      "source": [
        "submission.to_csv('/content/drive/MyDrive/2021/데이콘/Bit_Trader'+\"/coin_submission5.csv\", index = False)"
      ],
      "execution_count": 126,
      "outputs": []
    },
    {
      "cell_type": "code",
      "metadata": {
        "id": "T4HQImkIlkQw"
      },
      "source": [
        ""
      ],
      "execution_count": null,
      "outputs": []
    }
  ]
}