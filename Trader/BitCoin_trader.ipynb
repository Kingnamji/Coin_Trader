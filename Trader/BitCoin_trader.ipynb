{
  "nbformat": 4,
  "nbformat_minor": 0,
  "metadata": {
    "colab": {
      "name": "BitCoin_trader",
      "provenance": [],
      "collapsed_sections": []
    },
    "kernelspec": {
      "name": "python3",
      "display_name": "Python 3"
    }
  },
  "cells": [
    {
      "cell_type": "code",
      "metadata": {
        "colab": {
          "base_uri": "https://localhost:8080/"
        },
        "id": "DuY_-zXhFhZM",
        "outputId": "0d5c2890-0982-44c3-a295-1cb4b1960051"
      },
      "source": [
        "!pip install statsmodels==0.11.1\n",
        "!pip install fbprophet"
      ],
      "execution_count": null,
      "outputs": [
        {
          "output_type": "stream",
          "text": [
            "Requirement already satisfied: statsmodels==0.11.1 in /usr/local/lib/python3.7/dist-packages (0.11.1)\n",
            "Requirement already satisfied: patsy>=0.5 in /usr/local/lib/python3.7/dist-packages (from statsmodels==0.11.1) (0.5.1)\n",
            "Requirement already satisfied: scipy>=1.0 in /usr/local/lib/python3.7/dist-packages (from statsmodels==0.11.1) (1.4.1)\n",
            "Requirement already satisfied: pandas>=0.21 in /usr/local/lib/python3.7/dist-packages (from statsmodels==0.11.1) (1.1.5)\n",
            "Requirement already satisfied: numpy>=1.14 in /usr/local/lib/python3.7/dist-packages (from statsmodels==0.11.1) (1.19.5)\n",
            "Requirement already satisfied: six in /usr/local/lib/python3.7/dist-packages (from patsy>=0.5->statsmodels==0.11.1) (1.15.0)\n",
            "Requirement already satisfied: python-dateutil>=2.7.3 in /usr/local/lib/python3.7/dist-packages (from pandas>=0.21->statsmodels==0.11.1) (2.8.1)\n",
            "Requirement already satisfied: pytz>=2017.2 in /usr/local/lib/python3.7/dist-packages (from pandas>=0.21->statsmodels==0.11.1) (2018.9)\n",
            "Requirement already satisfied: fbprophet in /usr/local/lib/python3.7/dist-packages (0.7.1)\n",
            "Requirement already satisfied: Cython>=0.22 in /usr/local/lib/python3.7/dist-packages (from fbprophet) (0.29.22)\n",
            "Requirement already satisfied: cmdstanpy==0.9.5 in /usr/local/lib/python3.7/dist-packages (from fbprophet) (0.9.5)\n",
            "Requirement already satisfied: pystan>=2.14 in /usr/local/lib/python3.7/dist-packages (from fbprophet) (2.19.1.1)\n",
            "Requirement already satisfied: numpy>=1.15.4 in /usr/local/lib/python3.7/dist-packages (from fbprophet) (1.19.5)\n",
            "Requirement already satisfied: pandas>=1.0.4 in /usr/local/lib/python3.7/dist-packages (from fbprophet) (1.1.5)\n",
            "Requirement already satisfied: matplotlib>=2.0.0 in /usr/local/lib/python3.7/dist-packages (from fbprophet) (3.2.2)\n",
            "Requirement already satisfied: LunarCalendar>=0.0.9 in /usr/local/lib/python3.7/dist-packages (from fbprophet) (0.0.9)\n",
            "Requirement already satisfied: convertdate>=2.1.2 in /usr/local/lib/python3.7/dist-packages (from fbprophet) (2.3.1)\n",
            "Requirement already satisfied: holidays>=0.10.2 in /usr/local/lib/python3.7/dist-packages (from fbprophet) (0.10.5.2)\n",
            "Requirement already satisfied: setuptools-git>=1.2 in /usr/local/lib/python3.7/dist-packages (from fbprophet) (1.2)\n",
            "Requirement already satisfied: python-dateutil>=2.8.0 in /usr/local/lib/python3.7/dist-packages (from fbprophet) (2.8.1)\n",
            "Requirement already satisfied: tqdm>=4.36.1 in /usr/local/lib/python3.7/dist-packages (from fbprophet) (4.41.1)\n",
            "Requirement already satisfied: pytz>=2017.2 in /usr/local/lib/python3.7/dist-packages (from pandas>=1.0.4->fbprophet) (2018.9)\n",
            "Requirement already satisfied: cycler>=0.10 in /usr/local/lib/python3.7/dist-packages (from matplotlib>=2.0.0->fbprophet) (0.10.0)\n",
            "Requirement already satisfied: kiwisolver>=1.0.1 in /usr/local/lib/python3.7/dist-packages (from matplotlib>=2.0.0->fbprophet) (1.3.1)\n",
            "Requirement already satisfied: pyparsing!=2.0.4,!=2.1.2,!=2.1.6,>=2.0.1 in /usr/local/lib/python3.7/dist-packages (from matplotlib>=2.0.0->fbprophet) (2.4.7)\n",
            "Requirement already satisfied: ephem>=3.7.5.3 in /usr/local/lib/python3.7/dist-packages (from LunarCalendar>=0.0.9->fbprophet) (3.7.7.1)\n",
            "Requirement already satisfied: pymeeus!=0.3.8,<=1,>=0.3.6 in /usr/local/lib/python3.7/dist-packages (from convertdate>=2.1.2->fbprophet) (0.5.9)\n",
            "Requirement already satisfied: six in /usr/local/lib/python3.7/dist-packages (from holidays>=0.10.2->fbprophet) (1.15.0)\n",
            "Requirement already satisfied: hijri-converter in /usr/local/lib/python3.7/dist-packages (from holidays>=0.10.2->fbprophet) (2.1.1)\n",
            "Requirement already satisfied: korean-lunar-calendar in /usr/local/lib/python3.7/dist-packages (from holidays>=0.10.2->fbprophet) (0.2.1)\n"
          ],
          "name": "stdout"
        }
      ]
    },
    {
      "cell_type": "code",
      "metadata": {
        "id": "5fX-oJICFdHC"
      },
      "source": [
        "import numpy as np\n",
        "import pandas as pd\n",
        "import gc\n",
        "import math\n",
        "import os.path\n",
        "import time\n",
        "import matplotlib.pyplot as plt\n",
        "from datetime import timedelta, datetime\n",
        "from dateutil import parser\n",
        "from tqdm import tqdm\n",
        "import copy\n",
        "from statsmodels.tsa.arima.model import ARIMA\n",
        "from statsmodels.graphics.tsaplots import plot_acf, plot_pacf\n",
        "from fbprophet import Prophet\n",
        "import warnings\n",
        "import datetime\n",
        "warnings.filterwarnings(\"ignore\")"
      ],
      "execution_count": null,
      "outputs": []
    },
    {
      "cell_type": "code",
      "metadata": {
        "id": "w54vV-9t9iAq"
      },
      "source": [
        "# csv파일 읽어오기\n",
        "path = '/content/drive/MyDrive/contest/bitcoin'\n",
        "train_x_df = pd.read_csv(path  + \"/train_x_df.csv\")\n",
        "train_y_df = pd.read_csv(path  + \"/train_y_df.csv\")\n",
        "test_x_df = pd.read_csv(path  + \"/test_x_df.csv\")"
      ],
      "execution_count": null,
      "outputs": []
    },
    {
      "cell_type": "code",
      "metadata": {
        "colab": {
          "base_uri": "https://localhost:8080/"
        },
        "id": "8V1lE0JbMVML",
        "outputId": "d66bb996-ddbb-4c52-ab6a-fd2990c060b2"
      },
      "source": [
        "print(f'train_x shape: {train_x_df.shape}')\n",
        "print(f'train_y shape: {train_y_df.shape}')\n",
        "print(f'test_x shape: {test_x_df.shape}')"
      ],
      "execution_count": null,
      "outputs": [
        {
          "output_type": "stream",
          "text": [
            "train_x shape: (10159560, 12)\n",
            "train_y shape: (883440, 12)\n",
            "test_x shape: (730020, 12)\n"
          ],
          "name": "stdout"
        }
      ]
    },
    {
      "cell_type": "code",
      "metadata": {
        "colab": {
          "base_uri": "https://localhost:8080/",
          "height": 224
        },
        "id": "UGq8ICYpO3k7",
        "outputId": "93725973-c8c4-406d-c3b1-ee51f283a426"
      },
      "source": [
        "train_x_df.head()"
      ],
      "execution_count": null,
      "outputs": [
        {
          "output_type": "execute_result",
          "data": {
            "text/html": [
              "<div>\n",
              "<style scoped>\n",
              "    .dataframe tbody tr th:only-of-type {\n",
              "        vertical-align: middle;\n",
              "    }\n",
              "\n",
              "    .dataframe tbody tr th {\n",
              "        vertical-align: top;\n",
              "    }\n",
              "\n",
              "    .dataframe thead th {\n",
              "        text-align: right;\n",
              "    }\n",
              "</style>\n",
              "<table border=\"1\" class=\"dataframe\">\n",
              "  <thead>\n",
              "    <tr style=\"text-align: right;\">\n",
              "      <th></th>\n",
              "      <th>sample_id</th>\n",
              "      <th>time</th>\n",
              "      <th>coin_index</th>\n",
              "      <th>open</th>\n",
              "      <th>high</th>\n",
              "      <th>low</th>\n",
              "      <th>close</th>\n",
              "      <th>volume</th>\n",
              "      <th>quote_av</th>\n",
              "      <th>trades</th>\n",
              "      <th>tb_base_av</th>\n",
              "      <th>tb_quote_av</th>\n",
              "    </tr>\n",
              "  </thead>\n",
              "  <tbody>\n",
              "    <tr>\n",
              "      <th>0</th>\n",
              "      <td>0</td>\n",
              "      <td>0</td>\n",
              "      <td>7</td>\n",
              "      <td>1.010004</td>\n",
              "      <td>1.010004</td>\n",
              "      <td>1.009612</td>\n",
              "      <td>1.010004</td>\n",
              "      <td>8.382875e+05</td>\n",
              "      <td>43160.632812</td>\n",
              "      <td>451.157288</td>\n",
              "      <td>7.326834e+05</td>\n",
              "      <td>37725.183594</td>\n",
              "    </tr>\n",
              "    <tr>\n",
              "      <th>1</th>\n",
              "      <td>0</td>\n",
              "      <td>1</td>\n",
              "      <td>7</td>\n",
              "      <td>1.009808</td>\n",
              "      <td>1.009808</td>\n",
              "      <td>1.009808</td>\n",
              "      <td>1.009808</td>\n",
              "      <td>1.622420e+05</td>\n",
              "      <td>8352.220703</td>\n",
              "      <td>39.231071</td>\n",
              "      <td>0.000000e+00</td>\n",
              "      <td>0.000000</td>\n",
              "    </tr>\n",
              "    <tr>\n",
              "      <th>2</th>\n",
              "      <td>0</td>\n",
              "      <td>2</td>\n",
              "      <td>7</td>\n",
              "      <td>1.009808</td>\n",
              "      <td>1.010200</td>\n",
              "      <td>1.009808</td>\n",
              "      <td>1.010200</td>\n",
              "      <td>1.664967e+04</td>\n",
              "      <td>857.377808</td>\n",
              "      <td>58.846603</td>\n",
              "      <td>1.664967e+04</td>\n",
              "      <td>857.377808</td>\n",
              "    </tr>\n",
              "    <tr>\n",
              "      <th>3</th>\n",
              "      <td>0</td>\n",
              "      <td>3</td>\n",
              "      <td>7</td>\n",
              "      <td>1.010200</td>\n",
              "      <td>1.011181</td>\n",
              "      <td>1.010200</td>\n",
              "      <td>1.011181</td>\n",
              "      <td>2.586971e+06</td>\n",
              "      <td>133310.343750</td>\n",
              "      <td>431.541779</td>\n",
              "      <td>2.189147e+06</td>\n",
              "      <td>112811.046875</td>\n",
              "    </tr>\n",
              "    <tr>\n",
              "      <th>4</th>\n",
              "      <td>0</td>\n",
              "      <td>4</td>\n",
              "      <td>7</td>\n",
              "      <td>1.010985</td>\n",
              "      <td>1.010985</td>\n",
              "      <td>1.010200</td>\n",
              "      <td>1.010200</td>\n",
              "      <td>1.129996e+06</td>\n",
              "      <td>58216.867188</td>\n",
              "      <td>176.539810</td>\n",
              "      <td>0.000000e+00</td>\n",
              "      <td>0.000000</td>\n",
              "    </tr>\n",
              "  </tbody>\n",
              "</table>\n",
              "</div>"
            ],
            "text/plain": [
              "   sample_id  time  coin_index  ...      trades    tb_base_av    tb_quote_av\n",
              "0          0     0           7  ...  451.157288  7.326834e+05   37725.183594\n",
              "1          0     1           7  ...   39.231071  0.000000e+00       0.000000\n",
              "2          0     2           7  ...   58.846603  1.664967e+04     857.377808\n",
              "3          0     3           7  ...  431.541779  2.189147e+06  112811.046875\n",
              "4          0     4           7  ...  176.539810  0.000000e+00       0.000000\n",
              "\n",
              "[5 rows x 12 columns]"
            ]
          },
          "metadata": {
            "tags": []
          },
          "execution_count": 24
        }
      ]
    },
    {
      "cell_type": "code",
      "metadata": {
        "colab": {
          "base_uri": "https://localhost:8080/",
          "height": 224
        },
        "id": "uW6HrhooO7OJ",
        "outputId": "47d320d5-3ba5-402a-f497-5218d392bb09"
      },
      "source": [
        "train_y_df.head()"
      ],
      "execution_count": null,
      "outputs": [
        {
          "output_type": "execute_result",
          "data": {
            "text/html": [
              "<div>\n",
              "<style scoped>\n",
              "    .dataframe tbody tr th:only-of-type {\n",
              "        vertical-align: middle;\n",
              "    }\n",
              "\n",
              "    .dataframe tbody tr th {\n",
              "        vertical-align: top;\n",
              "    }\n",
              "\n",
              "    .dataframe thead th {\n",
              "        text-align: right;\n",
              "    }\n",
              "</style>\n",
              "<table border=\"1\" class=\"dataframe\">\n",
              "  <thead>\n",
              "    <tr style=\"text-align: right;\">\n",
              "      <th></th>\n",
              "      <th>sample_id</th>\n",
              "      <th>time</th>\n",
              "      <th>coin_index</th>\n",
              "      <th>open</th>\n",
              "      <th>high</th>\n",
              "      <th>low</th>\n",
              "      <th>close</th>\n",
              "      <th>volume</th>\n",
              "      <th>quote_av</th>\n",
              "      <th>trades</th>\n",
              "      <th>tb_base_av</th>\n",
              "      <th>tb_quote_av</th>\n",
              "    </tr>\n",
              "  </thead>\n",
              "  <tbody>\n",
              "    <tr>\n",
              "      <th>0</th>\n",
              "      <td>0</td>\n",
              "      <td>0</td>\n",
              "      <td>7</td>\n",
              "      <td>1.000392</td>\n",
              "      <td>1.000588</td>\n",
              "      <td>1.000392</td>\n",
              "      <td>1.000588</td>\n",
              "      <td>8.305119e+05</td>\n",
              "      <td>42356.179688</td>\n",
              "      <td>137.308746</td>\n",
              "      <td>8.305119e+05</td>\n",
              "      <td>42356.179688</td>\n",
              "    </tr>\n",
              "    <tr>\n",
              "      <th>1</th>\n",
              "      <td>0</td>\n",
              "      <td>1</td>\n",
              "      <td>7</td>\n",
              "      <td>1.000588</td>\n",
              "      <td>1.001177</td>\n",
              "      <td>1.000392</td>\n",
              "      <td>1.001177</td>\n",
              "      <td>5.320066e+05</td>\n",
              "      <td>27140.638672</td>\n",
              "      <td>294.233032</td>\n",
              "      <td>4.882738e+05</td>\n",
              "      <td>24909.861328</td>\n",
              "    </tr>\n",
              "    <tr>\n",
              "      <th>2</th>\n",
              "      <td>0</td>\n",
              "      <td>2</td>\n",
              "      <td>7</td>\n",
              "      <td>1.001177</td>\n",
              "      <td>1.001177</td>\n",
              "      <td>1.001177</td>\n",
              "      <td>1.001177</td>\n",
              "      <td>5.113770e+05</td>\n",
              "      <td>26100.681641</td>\n",
              "      <td>58.846603</td>\n",
              "      <td>5.113770e+05</td>\n",
              "      <td>26100.681641</td>\n",
              "    </tr>\n",
              "    <tr>\n",
              "      <th>3</th>\n",
              "      <td>0</td>\n",
              "      <td>3</td>\n",
              "      <td>7</td>\n",
              "      <td>1.001177</td>\n",
              "      <td>1.001373</td>\n",
              "      <td>1.001177</td>\n",
              "      <td>1.001373</td>\n",
              "      <td>1.134853e+06</td>\n",
              "      <td>57929.410156</td>\n",
              "      <td>137.308746</td>\n",
              "      <td>1.095514e+06</td>\n",
              "      <td>55921.156250</td>\n",
              "    </tr>\n",
              "    <tr>\n",
              "      <th>4</th>\n",
              "      <td>0</td>\n",
              "      <td>4</td>\n",
              "      <td>7</td>\n",
              "      <td>1.000981</td>\n",
              "      <td>1.000981</td>\n",
              "      <td>0.999804</td>\n",
              "      <td>1.000196</td>\n",
              "      <td>5.801173e+06</td>\n",
              "      <td>295872.343750</td>\n",
              "      <td>666.928162</td>\n",
              "      <td>9.911239e+05</td>\n",
              "      <td>50528.589844</td>\n",
              "    </tr>\n",
              "  </tbody>\n",
              "</table>\n",
              "</div>"
            ],
            "text/plain": [
              "   sample_id  time  coin_index  ...      trades    tb_base_av   tb_quote_av\n",
              "0          0     0           7  ...  137.308746  8.305119e+05  42356.179688\n",
              "1          0     1           7  ...  294.233032  4.882738e+05  24909.861328\n",
              "2          0     2           7  ...   58.846603  5.113770e+05  26100.681641\n",
              "3          0     3           7  ...  137.308746  1.095514e+06  55921.156250\n",
              "4          0     4           7  ...  666.928162  9.911239e+05  50528.589844\n",
              "\n",
              "[5 rows x 12 columns]"
            ]
          },
          "metadata": {
            "tags": []
          },
          "execution_count": 31
        }
      ]
    },
    {
      "cell_type": "code",
      "metadata": {
        "colab": {
          "base_uri": "https://localhost:8080/",
          "height": 224
        },
        "id": "uvWlKASfPfUv",
        "outputId": "db0b3464-cb07-4272-9770-83f6255300d5"
      },
      "source": [
        "test_x_df.head()"
      ],
      "execution_count": null,
      "outputs": [
        {
          "output_type": "execute_result",
          "data": {
            "text/html": [
              "<div>\n",
              "<style scoped>\n",
              "    .dataframe tbody tr th:only-of-type {\n",
              "        vertical-align: middle;\n",
              "    }\n",
              "\n",
              "    .dataframe tbody tr th {\n",
              "        vertical-align: top;\n",
              "    }\n",
              "\n",
              "    .dataframe thead th {\n",
              "        text-align: right;\n",
              "    }\n",
              "</style>\n",
              "<table border=\"1\" class=\"dataframe\">\n",
              "  <thead>\n",
              "    <tr style=\"text-align: right;\">\n",
              "      <th></th>\n",
              "      <th>sample_id</th>\n",
              "      <th>time</th>\n",
              "      <th>coin_index</th>\n",
              "      <th>open</th>\n",
              "      <th>high</th>\n",
              "      <th>low</th>\n",
              "      <th>close</th>\n",
              "      <th>volume</th>\n",
              "      <th>quote_av</th>\n",
              "      <th>trades</th>\n",
              "      <th>tb_base_av</th>\n",
              "      <th>tb_quote_av</th>\n",
              "    </tr>\n",
              "  </thead>\n",
              "  <tbody>\n",
              "    <tr>\n",
              "      <th>0</th>\n",
              "      <td>0</td>\n",
              "      <td>0</td>\n",
              "      <td>7</td>\n",
              "      <td>1.003541</td>\n",
              "      <td>1.007110</td>\n",
              "      <td>1.003541</td>\n",
              "      <td>1.006090</td>\n",
              "      <td>486928.96875</td>\n",
              "      <td>182543.687500</td>\n",
              "      <td>332.671570</td>\n",
              "      <td>287449.968750</td>\n",
              "      <td>107758.375000</td>\n",
              "    </tr>\n",
              "    <tr>\n",
              "      <th>1</th>\n",
              "      <td>0</td>\n",
              "      <td>1</td>\n",
              "      <td>7</td>\n",
              "      <td>1.006117</td>\n",
              "      <td>1.006331</td>\n",
              "      <td>1.004829</td>\n",
              "      <td>1.005634</td>\n",
              "      <td>824485.37500</td>\n",
              "      <td>309019.750000</td>\n",
              "      <td>407.790955</td>\n",
              "      <td>560290.250000</td>\n",
              "      <td>210005.125000</td>\n",
              "    </tr>\n",
              "    <tr>\n",
              "      <th>2</th>\n",
              "      <td>0</td>\n",
              "      <td>2</td>\n",
              "      <td>7</td>\n",
              "      <td>1.005929</td>\n",
              "      <td>1.005983</td>\n",
              "      <td>1.004266</td>\n",
              "      <td>1.005366</td>\n",
              "      <td>478614.56250</td>\n",
              "      <td>179301.843750</td>\n",
              "      <td>276.332031</td>\n",
              "      <td>214270.265625</td>\n",
              "      <td>80283.554688</td>\n",
              "    </tr>\n",
              "    <tr>\n",
              "      <th>3</th>\n",
              "      <td>0</td>\n",
              "      <td>3</td>\n",
              "      <td>7</td>\n",
              "      <td>1.005044</td>\n",
              "      <td>1.005956</td>\n",
              "      <td>1.004910</td>\n",
              "      <td>1.005795</td>\n",
              "      <td>334366.84375</td>\n",
              "      <td>125305.117188</td>\n",
              "      <td>166.335785</td>\n",
              "      <td>56401.246094</td>\n",
              "      <td>21135.490234</td>\n",
              "    </tr>\n",
              "    <tr>\n",
              "      <th>4</th>\n",
              "      <td>0</td>\n",
              "      <td>4</td>\n",
              "      <td>7</td>\n",
              "      <td>1.005580</td>\n",
              "      <td>1.006466</td>\n",
              "      <td>1.005285</td>\n",
              "      <td>1.005929</td>\n",
              "      <td>560916.68750</td>\n",
              "      <td>210316.796875</td>\n",
              "      <td>303.160370</td>\n",
              "      <td>138711.703125</td>\n",
              "      <td>52010.964844</td>\n",
              "    </tr>\n",
              "  </tbody>\n",
              "</table>\n",
              "</div>"
            ],
            "text/plain": [
              "   sample_id  time  coin_index  ...      trades     tb_base_av    tb_quote_av\n",
              "0          0     0           7  ...  332.671570  287449.968750  107758.375000\n",
              "1          0     1           7  ...  407.790955  560290.250000  210005.125000\n",
              "2          0     2           7  ...  276.332031  214270.265625   80283.554688\n",
              "3          0     3           7  ...  166.335785   56401.246094   21135.490234\n",
              "4          0     4           7  ...  303.160370  138711.703125   52010.964844\n",
              "\n",
              "[5 rows x 12 columns]"
            ]
          },
          "metadata": {
            "tags": []
          },
          "execution_count": 32
        }
      ]
    },
    {
      "cell_type": "code",
      "metadata": {
        "id": "jdfEi9QGNF9Z"
      },
      "source": [
        "def df2d_to_array3d(df_2d):\n",
        "    # 입력 받은 2차원 데이터 프레임을 3차원 numpy array로 변경하는 함수\n",
        "    feature_size = df_2d.iloc[:,2:].shape[1]\n",
        "    time_size = len(df_2d.time.value_counts())\n",
        "    sample_size = len(df_2d.sample_id.value_counts())\n",
        "    sample_index = df_2d.sample_id.value_counts().index\n",
        "    array_3d = df_2d.iloc[:,2:].values.reshape([sample_size, time_size, feature_size])\n",
        "    return array_3d"
      ],
      "execution_count": null,
      "outputs": []
    },
    {
      "cell_type": "code",
      "metadata": {
        "id": "Wv2jAsbZNJvf"
      },
      "source": [
        "# 함수 사용해서 3차원으로 변경\n",
        "train_x_array = df2d_to_array3d(train_x_df)\n",
        "train_y_array = df2d_to_array3d(train_y_df)\n",
        "test_x_array = df2d_to_array3d(test_x_df)"
      ],
      "execution_count": null,
      "outputs": []
    },
    {
      "cell_type": "code",
      "metadata": {
        "colab": {
          "base_uri": "https://localhost:8080/"
        },
        "id": "qTt7FLU0NSOg",
        "outputId": "3c0dd570-a519-4414-c196-8ca84cca6868"
      },
      "source": [
        "print(f'train_x_3d shape: {train_x_array.shape}')\n",
        "print(f'train_y_3d shape: {train_y_array.shape}')\n",
        "print(f'test_x_3d shape: {test_x_array.shape}')"
      ],
      "execution_count": null,
      "outputs": [
        {
          "output_type": "stream",
          "text": [
            "train_x_3d shape: (7362, 1380, 10)\n",
            "train_y_3d shape: (7362, 120, 10)\n",
            "test_x_3d shape: (529, 1380, 10)\n"
          ],
          "name": "stdout"
        }
      ]
    },
    {
      "cell_type": "code",
      "metadata": {
        "id": "I8zs-PIUPA_w"
      },
      "source": [
        "def plot_series(x_series, y_series):\n",
        "    #입력 series와 출력 series를 연속적으로 연결하여 시각적으로 보여주기\n",
        "    plt.plot(x_series, label = 'input_series')\n",
        "    plt.plot(np.arange(len(x_series), len(x_series)+len(y_series)),\n",
        "             y_series, label = 'output_series')\n",
        "    plt.axhline(1, c = 'red')\n",
        "    plt.legend()"
      ],
      "execution_count": null,
      "outputs": []
    },
    {
      "cell_type": "code",
      "metadata": {
        "colab": {
          "base_uri": "https://localhost:8080/",
          "height": 265
        },
        "id": "pjEyVRoxPC9q",
        "outputId": "af1be30c-1b03-459b-a3a8-0ccfbe12b2c7"
      },
      "source": [
        "# sample_id n에 해당하는 sample의 분단위 시가 변동 정보 시각화\n",
        "idx = 1001\n",
        "plot_series(train_x_array[idx,:,1], train_y_array[idx,:,1])\n",
        "plt.show()"
      ],
      "execution_count": null,
      "outputs": [
        {
          "output_type": "display_data",
          "data": {
            "image/png": "[encoded data removed]",
            "text/plain": [
              "<Figure size 432x288 with 1 Axes>"
            ]
          },
          "metadata": {
            "tags": [],
            "needs_background": "light"
          }
        }
      ]
    }
  ]
}