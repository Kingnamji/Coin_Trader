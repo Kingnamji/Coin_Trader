{
  "nbformat": 4,
  "nbformat_minor": 0,
  "metadata": {
    "colab": {
      "name": "BitCoin_trader",
      "provenance": [],
      "collapsed_sections": [],
      "toc_visible": true
    },
    "kernelspec": {
      "name": "python3",
      "display_name": "Python 3"
    },
    "accelerator": "GPU"
  },
  "cells": [
    {
      "cell_type": "markdown",
      "metadata": {
        "id": "wXMszYt8PkMA"
      },
      "source": [
        "# 라이브러리 불러오기"
      ]
    },
    {
      "cell_type": "code",
      "metadata": {
        "id": "DuY_-zXhFhZM",
        "colab": {
          "base_uri": "https://localhost:8080/"
        },
        "outputId": "d159bca4-441a-4a95-909d-6d57e41a572c"
      },
      "source": [
        "# 통계 모델들, fbprophet 설치\n",
        "!pip install statsmodels==0.11.1\n",
        "!pip install fbprophet"
      ],
      "execution_count": 1,
      "outputs": [
        {
          "output_type": "stream",
          "text": [
            "Requirement already satisfied: statsmodels==0.11.1 in /usr/local/lib/python3.7/dist-packages (0.11.1)\n",
            "Requirement already satisfied: numpy>=1.14 in /usr/local/lib/python3.7/dist-packages (from statsmodels==0.11.1) (1.19.5)\n",
            "Requirement already satisfied: patsy>=0.5 in /usr/local/lib/python3.7/dist-packages (from statsmodels==0.11.1) (0.5.1)\n",
            "Requirement already satisfied: pandas>=0.21 in /usr/local/lib/python3.7/dist-packages (from statsmodels==0.11.1) (1.1.5)\n",
            "Requirement already satisfied: scipy>=1.0 in /usr/local/lib/python3.7/dist-packages (from statsmodels==0.11.1) (1.4.1)\n",
            "Requirement already satisfied: six in /usr/local/lib/python3.7/dist-packages (from patsy>=0.5->statsmodels==0.11.1) (1.15.0)\n",
            "Requirement already satisfied: pytz>=2017.2 in /usr/local/lib/python3.7/dist-packages (from pandas>=0.21->statsmodels==0.11.1) (2018.9)\n",
            "Requirement already satisfied: python-dateutil>=2.7.3 in /usr/local/lib/python3.7/dist-packages (from pandas>=0.21->statsmodels==0.11.1) (2.8.1)\n",
            "Requirement already satisfied: fbprophet in /usr/local/lib/python3.7/dist-packages (0.7.1)\n",
            "Requirement already satisfied: Cython>=0.22 in /usr/local/lib/python3.7/dist-packages (from fbprophet) (0.29.22)\n",
            "Requirement already satisfied: cmdstanpy==0.9.5 in /usr/local/lib/python3.7/dist-packages (from fbprophet) (0.9.5)\n",
            "Requirement already satisfied: pystan>=2.14 in /usr/local/lib/python3.7/dist-packages (from fbprophet) (2.19.1.1)\n",
            "Requirement already satisfied: numpy>=1.15.4 in /usr/local/lib/python3.7/dist-packages (from fbprophet) (1.19.5)\n",
            "Requirement already satisfied: pandas>=1.0.4 in /usr/local/lib/python3.7/dist-packages (from fbprophet) (1.1.5)\n",
            "Requirement already satisfied: matplotlib>=2.0.0 in /usr/local/lib/python3.7/dist-packages (from fbprophet) (3.2.2)\n",
            "Requirement already satisfied: LunarCalendar>=0.0.9 in /usr/local/lib/python3.7/dist-packages (from fbprophet) (0.0.9)\n",
            "Requirement already satisfied: convertdate>=2.1.2 in /usr/local/lib/python3.7/dist-packages (from fbprophet) (2.3.1)\n",
            "Requirement already satisfied: holidays>=0.10.2 in /usr/local/lib/python3.7/dist-packages (from fbprophet) (0.10.5.2)\n",
            "Requirement already satisfied: setuptools-git>=1.2 in /usr/local/lib/python3.7/dist-packages (from fbprophet) (1.2)\n",
            "Requirement already satisfied: python-dateutil>=2.8.0 in /usr/local/lib/python3.7/dist-packages (from fbprophet) (2.8.1)\n",
            "Requirement already satisfied: tqdm>=4.36.1 in /usr/local/lib/python3.7/dist-packages (from fbprophet) (4.41.1)\n",
            "Requirement already satisfied: pytz>=2017.2 in /usr/local/lib/python3.7/dist-packages (from pandas>=1.0.4->fbprophet) (2018.9)\n",
            "Requirement already satisfied: cycler>=0.10 in /usr/local/lib/python3.7/dist-packages (from matplotlib>=2.0.0->fbprophet) (0.10.0)\n",
            "Requirement already satisfied: pyparsing!=2.0.4,!=2.1.2,!=2.1.6,>=2.0.1 in /usr/local/lib/python3.7/dist-packages (from matplotlib>=2.0.0->fbprophet) (2.4.7)\n",
            "Requirement already satisfied: kiwisolver>=1.0.1 in /usr/local/lib/python3.7/dist-packages (from matplotlib>=2.0.0->fbprophet) (1.3.1)\n",
            "Requirement already satisfied: ephem>=3.7.5.3 in /usr/local/lib/python3.7/dist-packages (from LunarCalendar>=0.0.9->fbprophet) (3.7.7.1)\n",
            "Requirement already satisfied: pymeeus!=0.3.8,<=1,>=0.3.6 in /usr/local/lib/python3.7/dist-packages (from convertdate>=2.1.2->fbprophet) (0.5.9)\n",
            "Requirement already satisfied: six in /usr/local/lib/python3.7/dist-packages (from holidays>=0.10.2->fbprophet) (1.15.0)\n",
            "Requirement already satisfied: korean-lunar-calendar in /usr/local/lib/python3.7/dist-packages (from holidays>=0.10.2->fbprophet) (0.2.1)\n",
            "Requirement already satisfied: hijri-converter in /usr/local/lib/python3.7/dist-packages (from holidays>=0.10.2->fbprophet) (2.1.1)\n"
          ],
          "name": "stdout"
        }
      ]
    },
    {
      "cell_type": "code",
      "metadata": {
        "id": "5fX-oJICFdHC"
      },
      "source": [
        "import numpy as np\n",
        "import pandas as pd\n",
        "import gc\n",
        "import math\n",
        "import os.path\n",
        "import time\n",
        "import matplotlib.pyplot as plt\n",
        "from datetime import timedelta, datetime\n",
        "from dateutil import parser\n",
        "from tqdm import tqdm\n",
        "import copy\n",
        "from statsmodels.tsa.arima.model import ARIMA\n",
        "from statsmodels.graphics.tsaplots import plot_acf, plot_pacf\n",
        "from fbprophet import Prophet\n",
        "import warnings\n",
        "import datetime\n",
        "warnings.filterwarnings(\"ignore\")"
      ],
      "execution_count": 2,
      "outputs": []
    },
    {
      "cell_type": "markdown",
      "metadata": {
        "id": "zXmaOmz7Pt2V"
      },
      "source": [
        "# 데이터 처리"
      ]
    },
    {
      "cell_type": "code",
      "metadata": {
        "id": "w54vV-9t9iAq"
      },
      "source": [
        "# csv파일 읽어오기\n",
        "path = '/content/drive/MyDrive/contest/bitcoin'\n",
        "train_x_df = pd.read_csv(path  + \"/train_x_df.csv\")\n",
        "train_y_df = pd.read_csv(path  + \"/train_y_df.csv\")\n",
        "test_x_df = pd.read_csv(path  + \"/test_x_df.csv\")"
      ],
      "execution_count": 3,
      "outputs": []
    },
    {
      "cell_type": "code",
      "metadata": {
        "id": "8V1lE0JbMVML",
        "colab": {
          "base_uri": "https://localhost:8080/"
        },
        "outputId": "4199c6fc-c9d2-438a-b5de-56503a0b344e"
      },
      "source": [
        "print(f'train_x shape: {train_x_df.shape}')\n",
        "print(f'train_y shape: {train_y_df.shape}')\n",
        "print(f'test_x shape: {test_x_df.shape}')"
      ],
      "execution_count": 4,
      "outputs": [
        {
          "output_type": "stream",
          "text": [
            "train_x shape: (10159560, 12)\n",
            "train_y shape: (883440, 12)\n",
            "test_x shape: (730020, 12)\n"
          ],
          "name": "stdout"
        }
      ]
    },
    {
      "cell_type": "code",
      "metadata": {
        "id": "UGq8ICYpO3k7",
        "colab": {
          "base_uri": "https://localhost:8080/"
        },
        "outputId": "1222569b-7ed7-4992-90b6-bc19239b1f96"
      },
      "source": [
        "print(train_x_df.head())\n",
        "print('-------------------------------------------------------------')\n",
        "print(train_x_df.info())\n",
        "print('-------------------------------------------------------------')\n",
        "print(train_x_df.describe())\n",
        "# print(train_x_df.isnull().sum()) NULL 값 없음 확인완료"
      ],
      "execution_count": 5,
      "outputs": [
        {
          "output_type": "stream",
          "text": [
            "   sample_id  time  coin_index  ...      trades    tb_base_av    tb_quote_av\n",
            "0          0     0           7  ...  451.157288  7.326834e+05   37725.183594\n",
            "1          0     1           7  ...   39.231071  0.000000e+00       0.000000\n",
            "2          0     2           7  ...   58.846603  1.664967e+04     857.377808\n",
            "3          0     3           7  ...  431.541779  2.189147e+06  112811.046875\n",
            "4          0     4           7  ...  176.539810  0.000000e+00       0.000000\n",
            "\n",
            "[5 rows x 12 columns]\n",
            "-------------------------------------------------------------\n",
            "<class 'pandas.core.frame.DataFrame'>\n",
            "RangeIndex: 10159560 entries, 0 to 10159559\n",
            "Data columns (total 12 columns):\n",
            " #   Column       Dtype  \n",
            "---  ------       -----  \n",
            " 0   sample_id    int64  \n",
            " 1   time         int64  \n",
            " 2   coin_index   int64  \n",
            " 3   open         float64\n",
            " 4   high         float64\n",
            " 5   low          float64\n",
            " 6   close        float64\n",
            " 7   volume       float64\n",
            " 8   quote_av     float64\n",
            " 9   trades       float64\n",
            " 10  tb_base_av   float64\n",
            " 11  tb_quote_av  float64\n",
            "dtypes: float64(9), int64(3)\n",
            "memory usage: 930.1 MB\n",
            "None\n",
            "-------------------------------------------------------------\n",
            "          sample_id          time  ...    tb_base_av   tb_quote_av\n",
            "count  1.015956e+07  1.015956e+07  ...  1.015956e+07  1.015956e+07\n",
            "mean   3.680500e+03  6.895000e+02  ...  3.647911e+05  2.106137e+04\n",
            "std    2.125226e+03  3.983716e+02  ...  5.268894e+06  1.117901e+05\n",
            "min    0.000000e+00  0.000000e+00  ...  0.000000e+00  0.000000e+00\n",
            "25%    1.840000e+03  3.447500e+02  ...  5.671815e-03  1.066213e+01\n",
            "50%    3.680500e+03  6.895000e+02  ...  1.039115e+00  1.152704e+02\n",
            "75%    5.521000e+03  1.034250e+03  ...  9.016594e+03  4.863686e+03\n",
            "max    7.361000e+03  1.379000e+03  ...  7.340513e+09  2.320023e+07\n",
            "\n",
            "[8 rows x 12 columns]\n"
          ],
          "name": "stdout"
        }
      ]
    },
    {
      "cell_type": "code",
      "metadata": {
        "id": "uW6HrhooO7OJ",
        "colab": {
          "base_uri": "https://localhost:8080/"
        },
        "outputId": "50ac53af-3916-4df1-c051-191d324d1cda"
      },
      "source": [
        "print(train_y_df.head())\n",
        "print('-------------------------------------------------------------')\n",
        "print(train_y_df.info())\n",
        "print('-------------------------------------------------------------')\n",
        "print(train_y_df.describe())\n",
        "# print(train_y_df.isnull().sum()) NULL 값 없음 확인완료"
      ],
      "execution_count": 6,
      "outputs": [
        {
          "output_type": "stream",
          "text": [
            "   sample_id  time  coin_index  ...      trades    tb_base_av   tb_quote_av\n",
            "0          0     0           7  ...  137.308746  8.305119e+05  42356.179688\n",
            "1          0     1           7  ...  294.233032  4.882738e+05  24909.861328\n",
            "2          0     2           7  ...   58.846603  5.113770e+05  26100.681641\n",
            "3          0     3           7  ...  137.308746  1.095514e+06  55921.156250\n",
            "4          0     4           7  ...  666.928162  9.911239e+05  50528.589844\n",
            "\n",
            "[5 rows x 12 columns]\n",
            "-------------------------------------------------------------\n",
            "<class 'pandas.core.frame.DataFrame'>\n",
            "RangeIndex: 883440 entries, 0 to 883439\n",
            "Data columns (total 12 columns):\n",
            " #   Column       Non-Null Count   Dtype  \n",
            "---  ------       --------------   -----  \n",
            " 0   sample_id    883440 non-null  int64  \n",
            " 1   time         883440 non-null  int64  \n",
            " 2   coin_index   883440 non-null  int64  \n",
            " 3   open         883440 non-null  float64\n",
            " 4   high         883440 non-null  float64\n",
            " 5   low          883440 non-null  float64\n",
            " 6   close        883440 non-null  float64\n",
            " 7   volume       883440 non-null  float64\n",
            " 8   quote_av     883440 non-null  float64\n",
            " 9   trades       883440 non-null  float64\n",
            " 10  tb_base_av   883440 non-null  float64\n",
            " 11  tb_quote_av  883440 non-null  float64\n",
            "dtypes: float64(9), int64(3)\n",
            "memory usage: 80.9 MB\n",
            "None\n",
            "-------------------------------------------------------------\n",
            "           sample_id           time  ...    tb_base_av   tb_quote_av\n",
            "count  883440.000000  883440.000000  ...  8.834400e+05  8.834400e+05\n",
            "mean     3680.500000      59.500000  ...  3.529742e+05  2.053159e+04\n",
            "std      2125.227524      34.639833  ...  4.836148e+06  1.019837e+05\n",
            "min         0.000000       0.000000  ...  0.000000e+00  0.000000e+00\n",
            "25%      1840.000000      29.750000  ...  5.787930e-03  1.067757e+01\n",
            "50%      3680.500000      59.500000  ...  1.043598e+00  1.159318e+02\n",
            "75%      5521.000000      89.250000  ...  8.772491e+03  4.886511e+03\n",
            "max      7361.000000     119.000000  ...  1.908554e+09  8.438416e+06\n",
            "\n",
            "[8 rows x 12 columns]\n"
          ],
          "name": "stdout"
        }
      ]
    },
    {
      "cell_type": "code",
      "metadata": {
        "id": "uvWlKASfPfUv",
        "colab": {
          "base_uri": "https://localhost:8080/"
        },
        "outputId": "b3d171df-488d-415e-8882-fd3c0e32646b"
      },
      "source": [
        "print(test_x_df.head())\n",
        "print('-------------------------------------------------------------')\n",
        "print(test_x_df.info())\n",
        "print('-------------------------------------------------------------')\n",
        "print(test_x_df.describe())\n",
        "# print(test_x_df.isnull().sum()) NULL 값 없음 확인완료"
      ],
      "execution_count": 7,
      "outputs": [
        {
          "output_type": "stream",
          "text": [
            "   sample_id  time  coin_index  ...      trades     tb_base_av    tb_quote_av\n",
            "0          0     0           7  ...  332.671570  287449.968750  107758.375000\n",
            "1          0     1           7  ...  407.790955  560290.250000  210005.125000\n",
            "2          0     2           7  ...  276.332031  214270.265625   80283.554688\n",
            "3          0     3           7  ...  166.335785   56401.246094   21135.490234\n",
            "4          0     4           7  ...  303.160370  138711.703125   52010.964844\n",
            "\n",
            "[5 rows x 12 columns]\n",
            "-------------------------------------------------------------\n",
            "<class 'pandas.core.frame.DataFrame'>\n",
            "RangeIndex: 730020 entries, 0 to 730019\n",
            "Data columns (total 12 columns):\n",
            " #   Column       Non-Null Count   Dtype  \n",
            "---  ------       --------------   -----  \n",
            " 0   sample_id    730020 non-null  int64  \n",
            " 1   time         730020 non-null  int64  \n",
            " 2   coin_index   730020 non-null  int64  \n",
            " 3   open         730020 non-null  float64\n",
            " 4   high         730020 non-null  float64\n",
            " 5   low          730020 non-null  float64\n",
            " 6   close        730020 non-null  float64\n",
            " 7   volume       730020 non-null  float64\n",
            " 8   quote_av     730020 non-null  float64\n",
            " 9   trades       730020 non-null  float64\n",
            " 10  tb_base_av   730020 non-null  float64\n",
            " 11  tb_quote_av  730020 non-null  float64\n",
            "dtypes: float64(9), int64(3)\n",
            "memory usage: 66.8 MB\n",
            "None\n",
            "-------------------------------------------------------------\n",
            "           sample_id           time  ...    tb_base_av   tb_quote_av\n",
            "count  730020.000000  730020.000000  ...  7.300200e+05  7.300200e+05\n",
            "mean      264.000000     689.500000  ...  3.903638e+05  9.925072e+04\n",
            "std       152.708978     398.371854  ...  2.005648e+06  4.268118e+05\n",
            "min         0.000000       0.000000  ...  0.000000e+00  0.000000e+00\n",
            "25%       132.000000     344.750000  ...  3.648973e-01  2.334793e+02\n",
            "50%       264.000000     689.500000  ...  1.658845e+02  2.198869e+03\n",
            "75%       396.000000    1034.250000  ...  1.446413e+05  4.106598e+04\n",
            "max       528.000000    1379.000000  ...  2.255709e+08  3.681243e+07\n",
            "\n",
            "[8 rows x 12 columns]\n"
          ],
          "name": "stdout"
        }
      ]
    },
    {
      "cell_type": "markdown",
      "metadata": {
        "id": "owX-JNzPTQAK"
      },
      "source": [
        "주문량, 거래량, 거래 건 수 등에서 0값이 포함된 데이터는 지워주기로 결정.\n",
        "\n",
        "- volume, trades, quote_av, tb_base_av, tb_quote_av \n",
        "\n",
        "데이터 형태를 2차원에서 3차원 Numpy array로 바꾸는 과정 중 문제가 발생. \n",
        "\n",
        "따라서 지우지 않는 방향으로 다시 모색"
      ]
    },
    {
      "cell_type": "code",
      "metadata": {
        "id": "QVUWN3LPTPZ_",
        "colab": {
          "base_uri": "https://localhost:8080/",
          "height": 107
        },
        "outputId": "3ece6f02-65b1-42ab-efe9-47dbe666824a"
      },
      "source": [
        "'''\n",
        "# 위에서 선정한 column들에 대해 0인 값을 갖는 행은 모두 지워준다.\n",
        "idx_trainx = train_x_df[(train_x_df['volume'] == 0) | (train_x_df['trades'] == 0) | (train_x_df['quote_av'] == 0) | (train_x_df['tb_base_av'] == 0) | (train_x_df['tb_quote_av'] == 0)].index\n",
        "idx_trainy = train_y_df[(train_y_df['volume'] == 0) | (train_y_df['trades'] == 0) | (train_y_df['quote_av'] == 0) | (train_y_df['tb_base_av'] == 0) | (train_y_df['tb_quote_av'] == 0)].index\n",
        "idx_testx =  test_x_df[(test_x_df['volume'] == 0) | (test_x_df['trades'] == 0) | (test_x_df['quote_av'] == 0) | (test_x_df['tb_base_av'] == 0) | (test_x_df['tb_quote_av'] == 0)].index\n",
        "train_x_df = train_x_df.drop(idx_trainx)\n",
        "train_y_df = train_y_df.drop(idx_trainy)\n",
        "test_x_df = test_x_df.drop(idx_testx)\n",
        "\n",
        "print(f'train_x shape: {train_x_df.shape}')\n",
        "print(f'train_y shape: {train_y_df.shape}')\n",
        "print(f'test_x shape: {test_x_df.shape}')\n",
        "'''"
      ],
      "execution_count": 8,
      "outputs": [
        {
          "output_type": "execute_result",
          "data": {
            "application/vnd.google.colaboratory.intrinsic+json": {
              "type": "string"
            },
            "text/plain": [
              "\"\\n# 위에서 선정한 column들에 대해 0인 값을 갖는 행은 모두 지워준다.\\nidx_trainx = train_x_df[(train_x_df['volume'] == 0) | (train_x_df['trades'] == 0) | (train_x_df['quote_av'] == 0) | (train_x_df['tb_base_av'] == 0) | (train_x_df['tb_quote_av'] == 0)].index\\nidx_trainy = train_y_df[(train_y_df['volume'] == 0) | (train_y_df['trades'] == 0) | (train_y_df['quote_av'] == 0) | (train_y_df['tb_base_av'] == 0) | (train_y_df['tb_quote_av'] == 0)].index\\nidx_testx =  test_x_df[(test_x_df['volume'] == 0) | (test_x_df['trades'] == 0) | (test_x_df['quote_av'] == 0) | (test_x_df['tb_base_av'] == 0) | (test_x_df['tb_quote_av'] == 0)].index\\ntrain_x_df = train_x_df.drop(idx_trainx)\\ntrain_y_df = train_y_df.drop(idx_trainy)\\ntest_x_df = test_x_df.drop(idx_testx)\\n\\nprint(f'train_x shape: {train_x_df.shape}')\\nprint(f'train_y shape: {train_y_df.shape}')\\nprint(f'test_x shape: {test_x_df.shape}')\\n\""
            ]
          },
          "metadata": {
            "tags": []
          },
          "execution_count": 8
        }
      ]
    },
    {
      "cell_type": "code",
      "metadata": {
        "id": "jdfEi9QGNF9Z"
      },
      "source": [
        "def df2d_to_array3d(df_2d):\n",
        "    # 입력 받은 2차원 데이터 프레임을 3차원 numpy array로 변경하는 함수\n",
        "    feature_size = df_2d.iloc[:,2:].shape[1]\n",
        "    time_size = len(df_2d.time.value_counts())\n",
        "    sample_size = len(df_2d.sample_id.value_counts())\n",
        "    array_3d = df_2d.iloc[:,2:].values.reshape([sample_size, time_size, feature_size])\n",
        "    return array_3d"
      ],
      "execution_count": 9,
      "outputs": []
    },
    {
      "cell_type": "code",
      "metadata": {
        "id": "Wv2jAsbZNJvf"
      },
      "source": [
        "# 함수 사용해서 3차원으로 변경\n",
        "train_x_array = df2d_to_array3d(train_x_df)\n",
        "train_y_array = df2d_to_array3d(train_y_df)\n",
        "test_x_array = df2d_to_array3d(test_x_df)"
      ],
      "execution_count": 10,
      "outputs": []
    },
    {
      "cell_type": "code",
      "metadata": {
        "id": "qTt7FLU0NSOg",
        "colab": {
          "base_uri": "https://localhost:8080/"
        },
        "outputId": "eb60ee0f-fa2f-4b38-cefa-8ec5220c4f6b"
      },
      "source": [
        "print(f'train_x_3d shape: {train_x_array.shape}')\n",
        "print(f'train_y_3d shape: {train_y_array.shape}')\n",
        "print(f'test_x_3d shape: {test_x_array.shape}')"
      ],
      "execution_count": 11,
      "outputs": [
        {
          "output_type": "stream",
          "text": [
            "train_x_3d shape: (7362, 1380, 10)\n",
            "train_y_3d shape: (7362, 120, 10)\n",
            "test_x_3d shape: (529, 1380, 10)\n"
          ],
          "name": "stdout"
        }
      ]
    },
    {
      "cell_type": "code",
      "metadata": {
        "id": "I8zs-PIUPA_w"
      },
      "source": [
        "def plot_series(x_series, y_series):\n",
        "    #입력 x_series와 출력 y_series를 연속적으로 연결하여 시각적으로 보여주기\n",
        "    plt.plot(x_series, label = 'input_series')\n",
        "    plt.plot(np.arange(len(x_series), len(x_series)+len(y_series)),\n",
        "             y_series, label = 'output_series')\n",
        "    plt.axhline(1, c = 'black')\n",
        "    plt.legend()"
      ],
      "execution_count": 12,
      "outputs": []
    },
    {
      "cell_type": "code",
      "metadata": {
        "id": "pjEyVRoxPC9q",
        "colab": {
          "base_uri": "https://localhost:8080/",
          "height": 265
        },
        "outputId": "e3bb9463-7aec-455d-8c19-d22343b72631"
      },
      "source": [
        "# sample_id n에 해당하는 sample의 분단위 시가 변동 정보 시각화\n",
        "n = 1141\n",
        "idx = n\n",
        "plot_series(train_x_array[idx,:,1], train_y_array[idx,:,1])\n",
        "plt.show()"
      ],
      "execution_count": 13,
      "outputs": [
        {
          "output_type": "display_data",
          "data": {
            "image/png": "[encoded data removed]",
            "text/plain": [
              "<Figure size 432x288 with 1 Axes>"
            ]
          },
          "metadata": {
            "tags": [],
            "needs_background": "light"
          }
        }
      ]
    },
    {
      "cell_type": "markdown",
      "metadata": {
        "id": "ZgnbTMVX-_MQ"
      },
      "source": [
        "# 모델 훈련\n"
      ]
    },
    {
      "cell_type": "markdown",
      "metadata": {
        "id": "8-nDKo0PAtRh"
      },
      "source": [
        "train 샘플로 훈련해보기"
      ]
    },
    {
      "cell_type": "code",
      "metadata": {
        "id": "92FYeMgu_CAU",
        "colab": {
          "base_uri": "https://localhost:8080/"
        },
        "outputId": "327ca7b0-e983-45cc-85f2-a5f2afb65237"
      },
      "source": [
        "start_time = '2021-01-31 00:00:00'\n",
        "start_dt = datetime.datetime.strptime(start_time, '%Y-%m-%d %H:%M:%S')\n",
        "print(start_dt)     "
      ],
      "execution_count": 54,
      "outputs": [
        {
          "output_type": "stream",
          "text": [
            "2021-01-31 00:00:00\n"
          ],
          "name": "stdout"
        }
      ]
    },
    {
      "cell_type": "code",
      "metadata": {
        "id": "EHw2PfTq_GWI"
      },
      "source": [
        "idx = 523\n",
        "x_series = train_x_array[idx,:,1]\n",
        "y_series = train_y_array[idx,:,1]"
      ],
      "execution_count": 352,
      "outputs": []
    },
    {
      "cell_type": "code",
      "metadata": {
        "id": "F3W97RTS_4Fu"
      },
      "source": [
        "# prophet 모델의 학습을 위한 가공 (ds, y 칼럼이 필요하다.)\n",
        "x_df = pd.DataFrame()\n",
        "x_df['ds'] = [start_dt + datetime.timedelta(minutes = time_min) for time_min in np.arange(1, x_series.shape[0]+1).tolist()]\n",
        "x_df['y'] = x_series.tolist() "
      ],
      "execution_count": 353,
      "outputs": []
    },
    {
      "cell_type": "code",
      "metadata": {
        "id": "xB247j4J_5_f",
        "colab": {
          "base_uri": "https://localhost:8080/",
          "height": 204
        },
        "outputId": "d474988a-be7e-47db-a9e5-f793b9deafc8"
      },
      "source": [
        "x_df.head()"
      ],
      "execution_count": 259,
      "outputs": [
        {
          "output_type": "execute_result",
          "data": {
            "text/html": [
              "<div>\n",
              "<style scoped>\n",
              "    .dataframe tbody tr th:only-of-type {\n",
              "        vertical-align: middle;\n",
              "    }\n",
              "\n",
              "    .dataframe tbody tr th {\n",
              "        vertical-align: top;\n",
              "    }\n",
              "\n",
              "    .dataframe thead th {\n",
              "        text-align: right;\n",
              "    }\n",
              "</style>\n",
              "<table border=\"1\" class=\"dataframe\">\n",
              "  <thead>\n",
              "    <tr style=\"text-align: right;\">\n",
              "      <th></th>\n",
              "      <th>ds</th>\n",
              "      <th>y</th>\n",
              "    </tr>\n",
              "  </thead>\n",
              "  <tbody>\n",
              "    <tr>\n",
              "      <th>0</th>\n",
              "      <td>2021-01-31 00:01:00</td>\n",
              "      <td>0.949885</td>\n",
              "    </tr>\n",
              "    <tr>\n",
              "      <th>1</th>\n",
              "      <td>2021-01-31 00:02:00</td>\n",
              "      <td>0.952684</td>\n",
              "    </tr>\n",
              "    <tr>\n",
              "      <th>2</th>\n",
              "      <td>2021-01-31 00:03:00</td>\n",
              "      <td>0.953193</td>\n",
              "    </tr>\n",
              "    <tr>\n",
              "      <th>3</th>\n",
              "      <td>2021-01-31 00:04:00</td>\n",
              "      <td>0.951921</td>\n",
              "    </tr>\n",
              "    <tr>\n",
              "      <th>4</th>\n",
              "      <td>2021-01-31 00:05:00</td>\n",
              "      <td>0.952938</td>\n",
              "    </tr>\n",
              "  </tbody>\n",
              "</table>\n",
              "</div>"
            ],
            "text/plain": [
              "                   ds         y\n",
              "0 2021-01-31 00:01:00  0.949885\n",
              "1 2021-01-31 00:02:00  0.952684\n",
              "2 2021-01-31 00:03:00  0.953193\n",
              "3 2021-01-31 00:04:00  0.951921\n",
              "4 2021-01-31 00:05:00  0.952938"
            ]
          },
          "metadata": {
            "tags": []
          },
          "execution_count": 259
        }
      ]
    },
    {
      "cell_type": "code",
      "metadata": {
        "id": "QUBZZt-t_88O",
        "colab": {
          "base_uri": "https://localhost:8080/"
        },
        "outputId": "5f073759-e53d-41dc-cc2f-a593df2b7f6d"
      },
      "source": [
        "model = Prophet(#seasonality_mode='multiplicative',# 점점 증가하는 seasonality의 경우 multiplicative를 설정해준다.\n",
        "                  yearly_seasonality=False,\n",
        "                  weekly_seasonality=False, daily_seasonality=False,\n",
        "                  changepoint_range=0.92,  # changepoint range를 바꿔준다. (큰 영향을 끼치지는 않는듯하다.)\n",
        "                  changepoint_prior_scale=0.1  # 오버피팅, 언더피팅을 피하기 위해 조정해준다.\n",
        "                )\n",
        "model.add_seasonality(name='first_seasonality', period=1/8, fourier_order=15) # seasonality 추가\n",
        "model.add_seasonality(name='second_seasonality', period=1/15, fourier_order=10) # seasonality 추가\n",
        "#model.add_seasonality(name='third_seasonality', period=1/24, fourier_order=5) # seasonality 추가\n",
        "model.fit(x_df)"
      ],
      "execution_count": 359,
      "outputs": [
        {
          "output_type": "execute_result",
          "data": {
            "text/plain": [
              "<fbprophet.forecaster.Prophet at 0x7f4edaf78e90>"
            ]
          },
          "metadata": {
            "tags": []
          },
          "execution_count": 359
        }
      ]
    },
    {
      "cell_type": "code",
      "metadata": {
        "id": "OmTPiiWVCU9T",
        "colab": {
          "base_uri": "https://localhost:8080/",
          "height": 204
        },
        "outputId": "c0587a8e-2847-4fea-a0e8-d370abba5a5a"
      },
      "source": [
        "# 120분 테스트 데이터를 예측\n",
        "forecast = model.make_future_dataframe(periods=120, freq='min') # 120분을 예측\n",
        "forecast_data = model.predict(forecast)\n",
        "forecast_data[['ds', 'yhat', 'yhat_lower', 'yhat_upper']].tail(5) "
      ],
      "execution_count": 360,
      "outputs": [
        {
          "output_type": "execute_result",
          "data": {
            "text/html": [
              "<div>\n",
              "<style scoped>\n",
              "    .dataframe tbody tr th:only-of-type {\n",
              "        vertical-align: middle;\n",
              "    }\n",
              "\n",
              "    .dataframe tbody tr th {\n",
              "        vertical-align: top;\n",
              "    }\n",
              "\n",
              "    .dataframe thead th {\n",
              "        text-align: right;\n",
              "    }\n",
              "</style>\n",
              "<table border=\"1\" class=\"dataframe\">\n",
              "  <thead>\n",
              "    <tr style=\"text-align: right;\">\n",
              "      <th></th>\n",
              "      <th>ds</th>\n",
              "      <th>yhat</th>\n",
              "      <th>yhat_lower</th>\n",
              "      <th>yhat_upper</th>\n",
              "    </tr>\n",
              "  </thead>\n",
              "  <tbody>\n",
              "    <tr>\n",
              "      <th>1495</th>\n",
              "      <td>2021-02-01 00:56:00</td>\n",
              "      <td>1.009965</td>\n",
              "      <td>0.982243</td>\n",
              "      <td>1.038209</td>\n",
              "    </tr>\n",
              "    <tr>\n",
              "      <th>1496</th>\n",
              "      <td>2021-02-01 00:57:00</td>\n",
              "      <td>1.009936</td>\n",
              "      <td>0.981421</td>\n",
              "      <td>1.039591</td>\n",
              "    </tr>\n",
              "    <tr>\n",
              "      <th>1497</th>\n",
              "      <td>2021-02-01 00:58:00</td>\n",
              "      <td>1.009961</td>\n",
              "      <td>0.980961</td>\n",
              "      <td>1.039009</td>\n",
              "    </tr>\n",
              "    <tr>\n",
              "      <th>1498</th>\n",
              "      <td>2021-02-01 00:59:00</td>\n",
              "      <td>1.010028</td>\n",
              "      <td>0.980307</td>\n",
              "      <td>1.038805</td>\n",
              "    </tr>\n",
              "    <tr>\n",
              "      <th>1499</th>\n",
              "      <td>2021-02-01 01:00:00</td>\n",
              "      <td>1.010117</td>\n",
              "      <td>0.980302</td>\n",
              "      <td>1.039800</td>\n",
              "    </tr>\n",
              "  </tbody>\n",
              "</table>\n",
              "</div>"
            ],
            "text/plain": [
              "                      ds      yhat  yhat_lower  yhat_upper\n",
              "1495 2021-02-01 00:56:00  1.009965    0.982243    1.038209\n",
              "1496 2021-02-01 00:57:00  1.009936    0.981421    1.039591\n",
              "1497 2021-02-01 00:58:00  1.009961    0.980961    1.039009\n",
              "1498 2021-02-01 00:59:00  1.010028    0.980307    1.038805\n",
              "1499 2021-02-01 01:00:00  1.010117    0.980302    1.039800"
            ]
          },
          "metadata": {
            "tags": []
          },
          "execution_count": 360
        }
      ]
    },
    {
      "cell_type": "code",
      "metadata": {
        "colab": {
          "base_uri": "https://localhost:8080/",
          "height": 441
        },
        "id": "QWeajomYCXi7",
        "outputId": "8aa2b3bb-4477-47ff-db0b-2455fb2b6efd"
      },
      "source": [
        "# 만들어진 데이터를 확인\n",
        "from fbprophet.plot import add_changepoints_to_plot\n",
        "fig1 = model.plot(forecast_data)\n",
        "a = add_changepoints_to_plot(fig1.gca(), model, forecast_data)"
      ],
      "execution_count": 361,
      "outputs": [
        {
          "output_type": "display_data",
          "data": {
            "image/png": "[encoded data removed]",
            "text/plain": [
              "<Figure size 720x432 with 1 Axes>"
            ]
          },
          "metadata": {
            "tags": []
          }
        }
      ]
    },
    {
      "cell_type": "code",
      "metadata": {
        "colab": {
          "base_uri": "https://localhost:8080/",
          "height": 657
        },
        "id": "EtNkH0JxCZeQ",
        "outputId": "c0901b0a-6df3-47ad-99d5-ad027d5d238c"
      },
      "source": [
        "# 데이터 trend 및 추가한 seasonality 확인\n",
        "fig2 = model.plot_components(forecast_data)"
      ],
      "execution_count": 362,
      "outputs": [
        {
          "output_type": "display_data",
          "data": {
            "image/png": "[encoded data removed]",
            "text/plain": [
              "<Figure size 648x648 with 3 Axes>"
            ]
          },
          "metadata": {
            "tags": []
          }
        }
      ]
    },
    {
      "cell_type": "code",
      "metadata": {
        "colab": {
          "base_uri": "https://localhost:8080/",
          "height": 265
        },
        "id": "BXRADZ3IAXwC",
        "outputId": "536ca755-be1d-4654-edee-62a3d8ec50ef"
      },
      "source": [
        "pred_y = forecast_data.yhat.values[-120:]\n",
        "pred_y_lower = forecast_data.yhat_lower.values[-120:]\n",
        "pred_y_upper = forecast_data.yhat_upper.values[-120:]\n",
        "\n",
        "plot_series(x_series, y_series)\n",
        "plt.plot(np.arange(1380, 1380+120), pred_y, label = 'prediction')\n",
        "plt.plot(np.arange(1380, 1380+120), pred_y_lower, label = 'prediction_lower')\n",
        "plt.plot(np.arange(1380, 1380+120), pred_y_upper, label = 'prediction_upper')\n",
        "plt.legend()\n",
        "plt.show()"
      ],
      "execution_count": 363,
      "outputs": [
        {
          "output_type": "display_data",
          "data": {
            "image/png": "[encoded data removed]",
            "text/plain": [
              "<Figure size 432x288 with 1 Axes>"
            ]
          },
          "metadata": {
            "tags": [],
            "needs_background": "light"
          }
        }
      ]
    },
    {
      "cell_type": "code",
      "metadata": {
        "id": "fCpMCiuEAooS"
      },
      "source": [
        "# train 데이터 상단의 n개 샘플로 validation set를 구성하여 학습 및 추론\n",
        "n = 300\n",
        "valid_x_df = train_x_df[train_x_df.sample_id < n]\n",
        "valid_y_df = train_y_df[train_y_df.sample_id < n]\n",
        "\n",
        "valid_x_array = df2d_to_array3d(valid_x_df)\n",
        "valid_y_array = df2d_to_array3d(valid_y_df)\n",
        "valid_pred_array = np.zeros([n, 120])"
      ],
      "execution_count": 325,
      "outputs": []
    },
    {
      "cell_type": "markdown",
      "metadata": {
        "id": "lu52MF5NFGqn"
      },
      "source": [
        "prediction의 방법 고민\n",
        "\n",
        "1. 1분 단위로 recursive하게 t일 때의output을 input의 끝에 붙이고 그 다음은 t+1 일 때의 output을 예측하기\n",
        "\n",
        "2. 바로 120분을 예측"
      ]
    },
    {
      "cell_type": "code",
      "metadata": {
        "colab": {
          "base_uri": "https://localhost:8080/"
        },
        "id": "9jisBrMrBAEN",
        "outputId": "3aedfea3-1815-4835-bd25-b199e7d235f0"
      },
      "source": [
        "for idx in tqdm(range(valid_x_array.shape[0])):\n",
        "    try:\n",
        "        x_series = valid_x_array[idx,:,1]\n",
        "\n",
        "        x_df = pd.DataFrame()\n",
        "        x_df['ds'] = [start_dt + datetime.timedelta(minutes = time_min) for time_min in np.arange(1, x_series.shape[0]+1).tolist()]\n",
        "        x_df['y'] = x_series.tolist()\n",
        "\n",
        "        prophet = Prophet(seasonality_mode='multiplicative', \n",
        "                  yearly_seasonality=False,\n",
        "                  weekly_seasonality=False, daily_seasonality=False,\n",
        "                  changepoint_range=0.97,  # changepoint range를 바꿔준다. (큰 영향을 끼치지는 않는듯하다.)\n",
        "                  changepoint_prior_scale=0.1  # 오버피팅, 언더피팅을 피하기 위해 조정해준다.\n",
        "                  )\n",
        "        #prophet.add_seasonality(name='first_seasonality', period=1/12, fourier_order=10) # seasonality 추가\n",
        "        prophet.add_seasonality(name='second_seasonality', period=1/24, fourier_order=15) # seasonality 추가\n",
        "        prophet.fit(x_df)\n",
        "\n",
        "        # 120분 테스트 데이터를 예측\n",
        "        future_data = prophet.make_future_dataframe(periods=120, freq='min')\n",
        "        forecast_data = prophet.predict(future_data)\n",
        "\n",
        "        pred_y = forecast_data.yhat.values[-120:]\n",
        "        pred_y_lower = forecast_data.yhat_lower.values[-120:]\n",
        "        pred_y_upper = forecast_data.yhat_upper.values[-120:]\n",
        "\n",
        "        valid_pred_array[idx,:] = pred_y\n",
        "    except:\n",
        "        print(idx, \" 샘플은 수렴하지 않습니다.\")\n",
        "        pass\n"
      ],
      "execution_count": 24,
      "outputs": [
        {
          "output_type": "stream",
          "text": [
            "100%|██████████| 300/300 [21:04<00:00,  4.22s/it]\n"
          ],
          "name": "stderr"
        }
      ]
    },
    {
      "cell_type": "code",
      "metadata": {
        "colab": {
          "base_uri": "https://localhost:8080/"
        },
        "id": "GLNpW4eetFH5",
        "outputId": "da694f9f-b770-400e-a1f6-5f5e736269ae"
      },
      "source": [
        "print(valid_pred_array)\n",
        "print(np.argmax(valid_pred_array,axis=1))"
      ],
      "execution_count": 25,
      "outputs": [
        {
          "output_type": "stream",
          "text": [
            "[[1.0006971  1.00053183 1.0005051  ... 0.99677283 0.99677238 0.99659992]\n",
            " [0.99870326 0.99845471 0.99793273 ... 1.00180204 1.00181554 1.00159868]\n",
            " [0.99822179 0.99838133 0.99858754 ... 1.0078933  1.0080087  1.00780229]\n",
            " ...\n",
            " [1.00002958 0.99965321 0.99946688 ... 1.0237297  1.02430029 1.02444057]\n",
            " [1.00060369 1.00056319 1.00063707 ... 0.99418176 0.99412713 0.99392098]\n",
            " [1.00588123 1.00595004 1.00610037 ... 1.00156439 1.0014704  1.00130739]]\n",
            "[  0 118 113   1   0 119   4 118  23   0   0   0 104  11 119 119   2 114\n",
            "   3  83   0 115   9  44   5 112  80   2   0 119   2  24   0   0 119  26\n",
            "   0 119   0 119 119 116   0 111   1 113 118 119 119   0 119   1 119   0\n",
            " 118 105 119 119   0 116 117   9   0   4   6 109   0   6   0   0   1 106\n",
            " 119 119 118   0   1 119  86   6 100   9   0   0  22  76 119 119   0   8\n",
            " 119  23 117   8 117 119 116   0  30 118 118   0   0 118   1 119 104 116\n",
            "   0   0 116   0   3   2 118 119 118   0   5   0   5   3  21 119   9 111\n",
            "   0 119   0   0 114   0   2   0   0   0   0   0 113  12   4 116   0 119\n",
            " 117   5   0   4 119  44   0  13   6  13   0  12   0 119 116  77 119 114\n",
            "   0   0   0  11   0   0   0   2 119   3 105  95 116   0   7 115   0   0\n",
            "  11 119  93 118   6 106   3   2 119 116   0  45   4 106 119   0   0 119\n",
            "   7 119  30   0 118  35 112 107   0 119  23  63 100 119   3   0 119 105\n",
            " 119   0   5   0 119 109   0  22  98 116 119   0 113   0   0   1   0 113\n",
            "   0 119 117   0 119   0 109   2   0 119 118  74   2 116   1   0 119   0\n",
            "  14   0 119   0 117 117 119   8   4   0   3   0   0   0  75   0   0   0\n",
            "   8   9 119 115   0 119 117  18 107   0   0   0   8   0   0 113 119   3\n",
            " 119   0  18   0 115 119 101 115   5 119   6  46]\n"
          ],
          "name": "stdout"
        }
      ]
    },
    {
      "cell_type": "markdown",
      "metadata": {
        "id": "Z8VDqjGO9IVf"
      },
      "source": [
        "n%를 기준으로 100% 매수를 선택한 이유\n",
        "- 529번의 기회동안 n%가 오를거라 예측하는 샘플은 많지 않을 것\n",
        "- 대회의 특성상 안전하게 낮은 점수를 받는 것 보다는 위험을 감수하고 큰 점수를 받는 것이 낫다"
      ]
    },
    {
      "cell_type": "code",
      "metadata": {
        "id": "I-F1mpUJBC5K"
      },
      "source": [
        "def array_to_submission(x_array, pred_array):\n",
        "    # 입력 x_arrry와 출력 pred_arry를 통해서 \n",
        "    # buy_quantitiy와 sell_time을 결정\n",
        "    submission = pd.DataFrame(np.zeros([pred_array.shape[0],2], np.int64),\n",
        "                columns = ['buy_quantity', 'sell_time'])\n",
        "    submission = submission.reset_index()\n",
        "    submission.loc[:, 'buy_quantity'] = 0.1\n",
        "    \n",
        "    buy_price = []\n",
        "    for idx, sell_time in enumerate(np.argmax(pred_array, axis = 1)):\n",
        "        buy_price.append(pred_array[idx, sell_time])\n",
        "    buy_price = np.array(buy_price)\n",
        "    # 7% 이상 상승으로 예측한 sample에 대해서만 100% 매수\n",
        "    submission.loc[:, 'buy_quantity'] = (buy_price > 1.07) * 1\n",
        "    # 모델의 예측값 중 최대 값에 해당하는 시간에 매도\n",
        "    submission['sell_time'] = np.argmax(pred_array, axis = 1)\n",
        "    submission.columns = ['sample_id','buy_quantity', 'sell_time']\n",
        "    return submission"
      ],
      "execution_count": 37,
      "outputs": []
    },
    {
      "cell_type": "code",
      "metadata": {
        "id": "2qf5dNQpBEzw"
      },
      "source": [
        "valid_submission = array_to_submission(valid_x_array, valid_pred_array)"
      ],
      "execution_count": 27,
      "outputs": []
    },
    {
      "cell_type": "code",
      "metadata": {
        "colab": {
          "base_uri": "https://localhost:8080/",
          "height": 419
        },
        "id": "RDe8iDe-BGz4",
        "outputId": "e09b07a3-c4b9-47df-9538-0644b11da77b"
      },
      "source": [
        "valid_submission"
      ],
      "execution_count": 28,
      "outputs": [
        {
          "output_type": "execute_result",
          "data": {
            "text/html": [
              "<div>\n",
              "<style scoped>\n",
              "    .dataframe tbody tr th:only-of-type {\n",
              "        vertical-align: middle;\n",
              "    }\n",
              "\n",
              "    .dataframe tbody tr th {\n",
              "        vertical-align: top;\n",
              "    }\n",
              "\n",
              "    .dataframe thead th {\n",
              "        text-align: right;\n",
              "    }\n",
              "</style>\n",
              "<table border=\"1\" class=\"dataframe\">\n",
              "  <thead>\n",
              "    <tr style=\"text-align: right;\">\n",
              "      <th></th>\n",
              "      <th>sample_id</th>\n",
              "      <th>buy_quantity</th>\n",
              "      <th>sell_time</th>\n",
              "    </tr>\n",
              "  </thead>\n",
              "  <tbody>\n",
              "    <tr>\n",
              "      <th>0</th>\n",
              "      <td>0</td>\n",
              "      <td>0</td>\n",
              "      <td>0</td>\n",
              "    </tr>\n",
              "    <tr>\n",
              "      <th>1</th>\n",
              "      <td>1</td>\n",
              "      <td>0</td>\n",
              "      <td>118</td>\n",
              "    </tr>\n",
              "    <tr>\n",
              "      <th>2</th>\n",
              "      <td>2</td>\n",
              "      <td>0</td>\n",
              "      <td>113</td>\n",
              "    </tr>\n",
              "    <tr>\n",
              "      <th>3</th>\n",
              "      <td>3</td>\n",
              "      <td>0</td>\n",
              "      <td>1</td>\n",
              "    </tr>\n",
              "    <tr>\n",
              "      <th>4</th>\n",
              "      <td>4</td>\n",
              "      <td>0</td>\n",
              "      <td>0</td>\n",
              "    </tr>\n",
              "    <tr>\n",
              "      <th>...</th>\n",
              "      <td>...</td>\n",
              "      <td>...</td>\n",
              "      <td>...</td>\n",
              "    </tr>\n",
              "    <tr>\n",
              "      <th>295</th>\n",
              "      <td>295</td>\n",
              "      <td>0</td>\n",
              "      <td>115</td>\n",
              "    </tr>\n",
              "    <tr>\n",
              "      <th>296</th>\n",
              "      <td>296</td>\n",
              "      <td>0</td>\n",
              "      <td>5</td>\n",
              "    </tr>\n",
              "    <tr>\n",
              "      <th>297</th>\n",
              "      <td>297</td>\n",
              "      <td>0</td>\n",
              "      <td>119</td>\n",
              "    </tr>\n",
              "    <tr>\n",
              "      <th>298</th>\n",
              "      <td>298</td>\n",
              "      <td>0</td>\n",
              "      <td>6</td>\n",
              "    </tr>\n",
              "    <tr>\n",
              "      <th>299</th>\n",
              "      <td>299</td>\n",
              "      <td>0</td>\n",
              "      <td>46</td>\n",
              "    </tr>\n",
              "  </tbody>\n",
              "</table>\n",
              "<p>300 rows × 3 columns</p>\n",
              "</div>"
            ],
            "text/plain": [
              "     sample_id  buy_quantity  sell_time\n",
              "0            0             0          0\n",
              "1            1             0        118\n",
              "2            2             0        113\n",
              "3            3             0          1\n",
              "4            4             0          0\n",
              "..         ...           ...        ...\n",
              "295        295             0        115\n",
              "296        296             0          5\n",
              "297        297             0        119\n",
              "298        298             0          6\n",
              "299        299             0         46\n",
              "\n",
              "[300 rows x 3 columns]"
            ]
          },
          "metadata": {
            "tags": []
          },
          "execution_count": 28
        }
      ]
    },
    {
      "cell_type": "code",
      "metadata": {
        "colab": {
          "base_uri": "https://localhost:8080/"
        },
        "id": "VBVUEmoSBIS3",
        "outputId": "77fa05d8-ad09-4f31-c4fb-f542a13cd25f"
      },
      "source": [
        "# 위에서 학습한 n가지 sample에 대해\n",
        "# i가지 case에서 설정한 % 이상 상승한다고 추론함.\n",
        "valid_submission.buy_quantity.value_counts()"
      ],
      "execution_count": 29,
      "outputs": [
        {
          "output_type": "execute_result",
          "data": {
            "text/plain": [
              "0    294\n",
              "1      6\n",
              "Name: buy_quantity, dtype: int64"
            ]
          },
          "metadata": {
            "tags": []
          },
          "execution_count": 29
        }
      ]
    },
    {
      "cell_type": "code",
      "metadata": {
        "id": "lOqp6rZ0BQqg"
      },
      "source": [
        "def df2d_to_answer(df_2d):\n",
        "    # valid_y_df로부터\n",
        "    # open 가격 정보가 포함된\n",
        "    # [샘플 수, 120분] 크기의 \n",
        "    # 2차원 array를 반환하는 함수\n",
        "    feature_size = df_2d.iloc[:,2:].shape[1]\n",
        "    time_size = len(df_2d.time.value_counts())\n",
        "    sample_size = len(df_2d.sample_id.value_counts())\n",
        "    sample_index = df_2d.sample_id.value_counts().index\n",
        "    array_2d = df_2d.open.values.reshape([sample_size, time_size])\n",
        "    sample_index = list(sample_index)\n",
        "    return array_2d, sample_index\n",
        "\n",
        "\n",
        "def COIN(y_df, submission, df2d_to_answer = df2d_to_answer):\n",
        "    # 2차원 데이터프레임에서 open 시점 데이터만 추출하여 array로 복원\n",
        "    # sample_id정보를 index에 저장\n",
        "    y_array, index = df2d_to_answer(y_df)\n",
        "    \n",
        "    # index 기준으로 submission을 다시 선택\n",
        "    submission = submission.set_index(submission.columns[0])\n",
        "    submission = submission.iloc[index, :]    \n",
        "    \n",
        "    # 초기 투자 비용은 10000 달러\n",
        "    total_momey      = 10000 # dollars\n",
        "    total_momey_list = []\n",
        "    \n",
        "    # 가장 처음 sample_id값\n",
        "    start_index = submission.index[0]\n",
        "    for row_idx in submission.index:\n",
        "        sell_time  = submission.loc[row_idx, 'sell_time']\n",
        "        buy_price  = y_array[row_idx - start_index, 0]\n",
        "        sell_price = y_array[row_idx - start_index, sell_time]\n",
        "        buy_quantity = submission.loc[row_idx, 'buy_quantity'] * total_momey\n",
        "        residual = total_momey - buy_quantity\n",
        "        ratio = sell_price / buy_price\n",
        "        total_momey = buy_quantity * ratio * 0.9995 * 0.9995 + residual        \n",
        "        total_momey_list.append(total_momey)\n",
        "        \n",
        "    return total_momey, total_momey_list"
      ],
      "execution_count": 30,
      "outputs": []
    },
    {
      "cell_type": "code",
      "metadata": {
        "id": "2nSguTxjBSkf"
      },
      "source": [
        "total_momey, total_momey_list = COIN(valid_y_df, valid_submission)"
      ],
      "execution_count": 31,
      "outputs": []
    },
    {
      "cell_type": "code",
      "metadata": {
        "id": "1olB8FwtBWFn"
      },
      "source": [
        "# 투자 후 금액\n",
        "print(total_momey)"
      ],
      "execution_count": null,
      "outputs": []
    },
    {
      "cell_type": "code",
      "metadata": {
        "id": "6D7U-9lxBXrD"
      },
      "source": [
        "# 투자 히스토리\n",
        "plt.plot(total_momey_list)\n",
        "plt.title(\"history\")\n",
        "plt.show()"
      ],
      "execution_count": null,
      "outputs": []
    },
    {
      "cell_type": "code",
      "metadata": {
        "id": "W4re7feKBdCv",
        "colab": {
          "base_uri": "https://localhost:8080/"
        },
        "outputId": "2f596a71-8935-4666-c5e5-a89981da7af9"
      },
      "source": [
        "test_pred_array = np.zeros([test_x_array.shape[0],\n",
        "                           120])\n",
        "for idx in tqdm(range(test_x_array.shape[0])):\n",
        "    try:\n",
        "        x_series = test_x_array[idx,:,1]\n",
        "\n",
        "        x_df = pd.DataFrame()\n",
        "        x_df['ds'] = [start_dt + datetime.timedelta(minutes = time_min) for time_min in np.arange(1, x_series.shape[0]+1).tolist()]\n",
        "        x_df['y'] = x_series.tolist()\n",
        "    \n",
        "        prophet = Prophet(seasonality_mode='multiplicative', \n",
        "                  yearly_seasonality=False,\n",
        "                  weekly_seasonality=False, daily_seasonality=False,\n",
        "                  changepoint_range=0.97,  # changepoint range를 바꿔준다. (큰 영향을 끼치지는 않는듯하다.)\n",
        "                  changepoint_prior_scale=0.1  # 오버피팅, 언더피팅을 피하기 위해 조정해준다.\n",
        "                  )\n",
        "        #prophet.add_seasonality(name='first_seasonality', period=1/12, fourier_order=10) # seasonality 추가\n",
        "        prophet.add_seasonality(name='second_seasonality', period=1/24, fourier_order=15) # seasonality 추가\n",
        "        prophet.fit(x_df)\n",
        "\n",
        "        # 120분 테스트 데이터를 예측\n",
        "        future_data = prophet.make_future_dataframe(periods=120, freq='min')\n",
        "        forecast_data = prophet.predict(future_data)\n",
        "\n",
        "        pred_y = forecast_data.yhat.values[-120:]\n",
        "        pred_y_lower = forecast_data.yhat_lower.values[-120:]\n",
        "        pred_y_upper = forecast_data.yhat_upper.values[-120:]\n",
        "\n",
        "        test_pred_array[idx,:] = pred_y\n",
        "    except:\n",
        "        print(idx, \" 샘플은 수렴하지 않습니다.\")\n",
        "        pass"
      ],
      "execution_count": 34,
      "outputs": [
        {
          "output_type": "stream",
          "text": [
            "100%|██████████| 529/529 [37:14<00:00,  4.22s/it]\n"
          ],
          "name": "stderr"
        }
      ]
    },
    {
      "cell_type": "code",
      "metadata": {
        "id": "_iZkIN9xBfUK"
      },
      "source": [
        "submission = array_to_submission(test_x_array, test_pred_array)"
      ],
      "execution_count": 38,
      "outputs": []
    },
    {
      "cell_type": "code",
      "metadata": {
        "id": "13-g0SVuBhgb"
      },
      "source": [
        "submission.to_csv(path+\"/coin_submission.csv\", index = False)"
      ],
      "execution_count": 39,
      "outputs": []
    }
  ]
}