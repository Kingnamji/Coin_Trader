{
  "nbformat": 4,
  "nbformat_minor": 0,
  "metadata": {
    "accelerator": "GPU",
    "colab": {
      "name": "BitCoin_trader",
      "provenance": [],
      "collapsed_sections": [],
      "toc_visible": true
    },
    "kernelspec": {
      "display_name": "Python 3",
      "name": "python3"
    },
    "widgets": {
      "application/vnd.jupyter.widget-state+json": {
        "87bfb80ad3b244e3a5421d36be1996d4": {
          "model_module": "@jupyter-widgets/controls",
          "model_name": "HBoxModel",
          "state": {
            "_dom_classes": [],
            "_model_module": "@jupyter-widgets/controls",
            "_model_module_version": "1.5.0",
            "_model_name": "HBoxModel",
            "_view_count": null,
            "_view_module": "@jupyter-widgets/controls",
            "_view_module_version": "1.5.0",
            "_view_name": "HBoxView",
            "box_style": "",
            "children": [
              "IPY_MODEL_ea2cd3ef64cc41e9a60875c8293b9f3d",
              "IPY_MODEL_297ed70eb7ac48e48f8c5d822fd28e72"
            ],
            "layout": "IPY_MODEL_f4d36c7cfe3b4c15bd73ddf18cdb4d19"
          }
        },
        "ea2cd3ef64cc41e9a60875c8293b9f3d": {
          "model_module": "@jupyter-widgets/controls",
          "model_name": "FloatProgressModel",
          "state": {
            "_dom_classes": [],
            "_model_module": "@jupyter-widgets/controls",
            "_model_module_version": "1.5.0",
            "_model_name": "FloatProgressModel",
            "_view_count": null,
            "_view_module": "@jupyter-widgets/controls",
            "_view_module_version": "1.5.0",
            "_view_name": "ProgressView",
            "bar_style": "success",
            "description": "100%",
            "description_tooltip": null,
            "layout": "IPY_MODEL_16a92c9ebf294430840b54b1aef5032a",
            "max": 1,
            "min": 0,
            "orientation": "horizontal",
            "style": "IPY_MODEL_3ebc7a8b0a4142ac8b43bbd481468046",
            "value": 1
          }
        },
        "297ed70eb7ac48e48f8c5d822fd28e72": {
          "model_module": "@jupyter-widgets/controls",
          "model_name": "HTMLModel",
          "state": {
            "_dom_classes": [],
            "_model_module": "@jupyter-widgets/controls",
            "_model_module_version": "1.5.0",
            "_model_name": "HTMLModel",
            "_view_count": null,
            "_view_module": "@jupyter-widgets/controls",
            "_view_module_version": "1.5.0",
            "_view_name": "HTMLView",
            "description": "",
            "description_tooltip": null,
            "layout": "IPY_MODEL_aa60620368074cd794f5370045417499",
            "placeholder": "​",
            "style": "IPY_MODEL_21870ae8568140c185367a8c02ec85ac",
            "value": " 1/1 [00:26&lt;00:00, 26.84s/it]"
          }
        },
        "f4d36c7cfe3b4c15bd73ddf18cdb4d19": {
          "model_module": "@jupyter-widgets/base",
          "model_name": "LayoutModel",
          "state": {
            "_model_module": "@jupyter-widgets/base",
            "_model_module_version": "1.2.0",
            "_model_name": "LayoutModel",
            "_view_count": null,
            "_view_module": "@jupyter-widgets/base",
            "_view_module_version": "1.2.0",
            "_view_name": "LayoutView",
            "align_content": null,
            "align_items": null,
            "align_self": null,
            "border": null,
            "bottom": null,
            "display": null,
            "flex": null,
            "flex_flow": null,
            "grid_area": null,
            "grid_auto_columns": null,
            "grid_auto_flow": null,
            "grid_auto_rows": null,
            "grid_column": null,
            "grid_gap": null,
            "grid_row": null,
            "grid_template_areas": null,
            "grid_template_columns": null,
            "grid_template_rows": null,
            "height": null,
            "justify_content": null,
            "justify_items": null,
            "left": null,
            "margin": null,
            "max_height": null,
            "max_width": null,
            "min_height": null,
            "min_width": null,
            "object_fit": null,
            "object_position": null,
            "order": null,
            "overflow": null,
            "overflow_x": null,
            "overflow_y": null,
            "padding": null,
            "right": null,
            "top": null,
            "visibility": null,
            "width": null
          }
        },
        "16a92c9ebf294430840b54b1aef5032a": {
          "model_module": "@jupyter-widgets/base",
          "model_name": "LayoutModel",
          "state": {
            "_model_module": "@jupyter-widgets/base",
            "_model_module_version": "1.2.0",
            "_model_name": "LayoutModel",
            "_view_count": null,
            "_view_module": "@jupyter-widgets/base",
            "_view_module_version": "1.2.0",
            "_view_name": "LayoutView",
            "align_content": null,
            "align_items": null,
            "align_self": null,
            "border": null,
            "bottom": null,
            "display": null,
            "flex": null,
            "flex_flow": null,
            "grid_area": null,
            "grid_auto_columns": null,
            "grid_auto_flow": null,
            "grid_auto_rows": null,
            "grid_column": null,
            "grid_gap": null,
            "grid_row": null,
            "grid_template_areas": null,
            "grid_template_columns": null,
            "grid_template_rows": null,
            "height": null,
            "justify_content": null,
            "justify_items": null,
            "left": null,
            "margin": null,
            "max_height": null,
            "max_width": null,
            "min_height": null,
            "min_width": null,
            "object_fit": null,
            "object_position": null,
            "order": null,
            "overflow": null,
            "overflow_x": null,
            "overflow_y": null,
            "padding": null,
            "right": null,
            "top": null,
            "visibility": null,
            "width": null
          }
        },
        "3ebc7a8b0a4142ac8b43bbd481468046": {
          "model_module": "@jupyter-widgets/controls",
          "model_name": "ProgressStyleModel",
          "state": {
            "_model_module": "@jupyter-widgets/controls",
            "_model_module_version": "1.5.0",
            "_model_name": "ProgressStyleModel",
            "_view_count": null,
            "_view_module": "@jupyter-widgets/base",
            "_view_module_version": "1.2.0",
            "_view_name": "StyleView",
            "bar_color": null,
            "description_width": "initial"
          }
        },
        "aa60620368074cd794f5370045417499": {
          "model_module": "@jupyter-widgets/base",
          "model_name": "LayoutModel",
          "state": {
            "_model_module": "@jupyter-widgets/base",
            "_model_module_version": "1.2.0",
            "_model_name": "LayoutModel",
            "_view_count": null,
            "_view_module": "@jupyter-widgets/base",
            "_view_module_version": "1.2.0",
            "_view_name": "LayoutView",
            "align_content": null,
            "align_items": null,
            "align_self": null,
            "border": null,
            "bottom": null,
            "display": null,
            "flex": null,
            "flex_flow": null,
            "grid_area": null,
            "grid_auto_columns": null,
            "grid_auto_flow": null,
            "grid_auto_rows": null,
            "grid_column": null,
            "grid_gap": null,
            "grid_row": null,
            "grid_template_areas": null,
            "grid_template_columns": null,
            "grid_template_rows": null,
            "height": null,
            "justify_content": null,
            "justify_items": null,
            "left": null,
            "margin": null,
            "max_height": null,
            "max_width": null,
            "min_height": null,
            "min_width": null,
            "object_fit": null,
            "object_position": null,
            "order": null,
            "overflow": null,
            "overflow_x": null,
            "overflow_y": null,
            "padding": null,
            "right": null,
            "top": null,
            "visibility": null,
            "width": null
          }
        },
        "21870ae8568140c185367a8c02ec85ac": {
          "model_module": "@jupyter-widgets/controls",
          "model_name": "DescriptionStyleModel",
          "state": {
            "_model_module": "@jupyter-widgets/controls",
            "_model_module_version": "1.5.0",
            "_model_name": "DescriptionStyleModel",
            "_view_count": null,
            "_view_module": "@jupyter-widgets/base",
            "_view_module_version": "1.2.0",
            "_view_name": "StyleView",
            "description_width": ""
          }
        }
      }
    }
  },
  "cells": [
    {
      "cell_type": "markdown",
      "metadata": {
        "id": "wXMszYt8PkMA"
      },
      "source": [
        "# 라이브러리 불러오기"
      ]
    },
    {
      "cell_type": "code",
      "metadata": {
        "colab": {
          "base_uri": "https://localhost:8080/"
        },
        "id": "DuY_-zXhFhZM",
        "outputId": "9b1b2b85-0f12-4b5f-8e2e-554e95043ddc"
      },
      "source": [
        "# 통계 모델들, fbprophet 설치\n",
        "!pip install statsmodels==0.11.1\n",
        "!pip install fbprophet"
      ],
      "execution_count": null,
      "outputs": [
        {
          "output_type": "stream",
          "text": [
            "Collecting statsmodels==0.11.1\n",
            "\u001b[?25l  Downloading https://files.pythonhosted.org/packages/7b/6a/0bf4184c3fb6f9f43df997b88de5784b4cb2f6bd19a5dc213463971076cf/statsmodels-0.11.1-cp37-cp37m-manylinux1_x86_64.whl (8.7MB)\n",
            "\u001b[K     |████████████████████████████████| 8.7MB 8.6MB/s \n",
            "\u001b[?25hRequirement already satisfied: numpy>=1.14 in /usr/local/lib/python3.7/dist-packages (from statsmodels==0.11.1) (1.19.5)\n",
            "Requirement already satisfied: pandas>=0.21 in /usr/local/lib/python3.7/dist-packages (from statsmodels==0.11.1) (1.1.5)\n",
            "Requirement already satisfied: patsy>=0.5 in /usr/local/lib/python3.7/dist-packages (from statsmodels==0.11.1) (0.5.1)\n",
            "Requirement already satisfied: scipy>=1.0 in /usr/local/lib/python3.7/dist-packages (from statsmodels==0.11.1) (1.4.1)\n",
            "Requirement already satisfied: python-dateutil>=2.7.3 in /usr/local/lib/python3.7/dist-packages (from pandas>=0.21->statsmodels==0.11.1) (2.8.1)\n",
            "Requirement already satisfied: pytz>=2017.2 in /usr/local/lib/python3.7/dist-packages (from pandas>=0.21->statsmodels==0.11.1) (2018.9)\n",
            "Requirement already satisfied: six in /usr/local/lib/python3.7/dist-packages (from patsy>=0.5->statsmodels==0.11.1) (1.15.0)\n",
            "Installing collected packages: statsmodels\n",
            "  Found existing installation: statsmodels 0.10.2\n",
            "    Uninstalling statsmodels-0.10.2:\n",
            "      Successfully uninstalled statsmodels-0.10.2\n",
            "Successfully installed statsmodels-0.11.1\n",
            "Requirement already satisfied: fbprophet in /usr/local/lib/python3.7/dist-packages (0.7.1)\n",
            "Requirement already satisfied: Cython>=0.22 in /usr/local/lib/python3.7/dist-packages (from fbprophet) (0.29.22)\n",
            "Requirement already satisfied: cmdstanpy==0.9.5 in /usr/local/lib/python3.7/dist-packages (from fbprophet) (0.9.5)\n",
            "Requirement already satisfied: pystan>=2.14 in /usr/local/lib/python3.7/dist-packages (from fbprophet) (2.19.1.1)\n",
            "Requirement already satisfied: numpy>=1.15.4 in /usr/local/lib/python3.7/dist-packages (from fbprophet) (1.19.5)\n",
            "Requirement already satisfied: pandas>=1.0.4 in /usr/local/lib/python3.7/dist-packages (from fbprophet) (1.1.5)\n",
            "Requirement already satisfied: matplotlib>=2.0.0 in /usr/local/lib/python3.7/dist-packages (from fbprophet) (3.2.2)\n",
            "Requirement already satisfied: LunarCalendar>=0.0.9 in /usr/local/lib/python3.7/dist-packages (from fbprophet) (0.0.9)\n",
            "Requirement already satisfied: convertdate>=2.1.2 in /usr/local/lib/python3.7/dist-packages (from fbprophet) (2.3.2)\n",
            "Requirement already satisfied: holidays>=0.10.2 in /usr/local/lib/python3.7/dist-packages (from fbprophet) (0.10.5.2)\n",
            "Requirement already satisfied: setuptools-git>=1.2 in /usr/local/lib/python3.7/dist-packages (from fbprophet) (1.2)\n",
            "Requirement already satisfied: python-dateutil>=2.8.0 in /usr/local/lib/python3.7/dist-packages (from fbprophet) (2.8.1)\n",
            "Requirement already satisfied: tqdm>=4.36.1 in /usr/local/lib/python3.7/dist-packages (from fbprophet) (4.41.1)\n",
            "Requirement already satisfied: pytz>=2017.2 in /usr/local/lib/python3.7/dist-packages (from pandas>=1.0.4->fbprophet) (2018.9)\n",
            "Requirement already satisfied: kiwisolver>=1.0.1 in /usr/local/lib/python3.7/dist-packages (from matplotlib>=2.0.0->fbprophet) (1.3.1)\n",
            "Requirement already satisfied: cycler>=0.10 in /usr/local/lib/python3.7/dist-packages (from matplotlib>=2.0.0->fbprophet) (0.10.0)\n",
            "Requirement already satisfied: pyparsing!=2.0.4,!=2.1.2,!=2.1.6,>=2.0.1 in /usr/local/lib/python3.7/dist-packages (from matplotlib>=2.0.0->fbprophet) (2.4.7)\n",
            "Requirement already satisfied: ephem>=3.7.5.3 in /usr/local/lib/python3.7/dist-packages (from LunarCalendar>=0.0.9->fbprophet) (3.7.7.1)\n",
            "Requirement already satisfied: pymeeus<=1,>=0.3.13 in /usr/local/lib/python3.7/dist-packages (from convertdate>=2.1.2->fbprophet) (0.5.11)\n",
            "Requirement already satisfied: hijri-converter in /usr/local/lib/python3.7/dist-packages (from holidays>=0.10.2->fbprophet) (2.1.1)\n",
            "Requirement already satisfied: six in /usr/local/lib/python3.7/dist-packages (from holidays>=0.10.2->fbprophet) (1.15.0)\n",
            "Requirement already satisfied: korean-lunar-calendar in /usr/local/lib/python3.7/dist-packages (from holidays>=0.10.2->fbprophet) (0.2.1)\n"
          ],
          "name": "stdout"
        }
      ]
    },
    {
      "cell_type": "code",
      "metadata": {
        "id": "5fX-oJICFdHC"
      },
      "source": [
        "import numpy as np\n",
        "import pandas as pd\n",
        "import gc\n",
        "import math\n",
        "import os.path\n",
        "import time\n",
        "import matplotlib.pyplot as plt\n",
        "from datetime import timedelta, datetime\n",
        "from dateutil import parser\n",
        "from tqdm import tqdm\n",
        "import copy\n",
        "from statsmodels.tsa.arima.model import ARIMA\n",
        "from statsmodels.graphics.tsaplots import plot_acf, plot_pacf\n",
        "from fbprophet import Prophet\n",
        "import warnings\n",
        "import datetime\n",
        "warnings.filterwarnings(\"ignore\")"
      ],
      "execution_count": null,
      "outputs": []
    },
    {
      "cell_type": "markdown",
      "metadata": {
        "id": "zXmaOmz7Pt2V"
      },
      "source": [
        "# 데이터 불러오기 "
      ]
    },
    {
      "cell_type": "code",
      "metadata": {
        "id": "w54vV-9t9iAq"
      },
      "source": [
        "# csv파일 읽어오기\n",
        "path = '/content/drive/MyDrive/contest/bitcoin'\n",
        "train_x_df = pd.read_csv(path  + \"/train_x_df.csv\")\n",
        "train_y_df = pd.read_csv(path  + \"/train_y_df.csv\")\n",
        "test_x_df = pd.read_csv(path  + \"/test_x_df.csv\")"
      ],
      "execution_count": null,
      "outputs": []
    },
    {
      "cell_type": "code",
      "metadata": {
        "colab": {
          "base_uri": "https://localhost:8080/"
        },
        "id": "8V1lE0JbMVML",
        "outputId": "eeb7ccfa-85ed-45aa-8c61-47e293e91001"
      },
      "source": [
        "print(f'train_x shape: {train_x_df.shape}')\n",
        "print(f'train_y shape: {train_y_df.shape}')\n",
        "print(f'test_x shape: {test_x_df.shape}')"
      ],
      "execution_count": null,
      "outputs": [
        {
          "output_type": "stream",
          "text": [
            "train_x shape: (10159560, 12)\n",
            "train_y shape: (883440, 12)\n",
            "test_x shape: (730020, 12)\n"
          ],
          "name": "stdout"
        }
      ]
    },
    {
      "cell_type": "code",
      "metadata": {
        "colab": {
          "base_uri": "https://localhost:8080/"
        },
        "id": "UGq8ICYpO3k7",
        "outputId": "a8d47949-9939-4724-be2a-a33340525112"
      },
      "source": [
        "print(train_x_df.head())\n",
        "print('-------------------------------------------------------------')\n",
        "print(train_x_df.info())\n",
        "print('-------------------------------------------------------------')\n",
        "print(train_x_df.describe())\n",
        "# print(train_x_df.isnull().sum()) NULL 값 없음 확인완료"
      ],
      "execution_count": null,
      "outputs": [
        {
          "output_type": "stream",
          "text": [
            "   sample_id  time  coin_index  ...      trades    tb_base_av    tb_quote_av\n",
            "0          0     0           7  ...  451.157288  7.326834e+05   37725.183594\n",
            "1          0     1           7  ...   39.231071  0.000000e+00       0.000000\n",
            "2          0     2           7  ...   58.846603  1.664967e+04     857.377808\n",
            "3          0     3           7  ...  431.541779  2.189147e+06  112811.046875\n",
            "4          0     4           7  ...  176.539810  0.000000e+00       0.000000\n",
            "\n",
            "[5 rows x 12 columns]\n",
            "-------------------------------------------------------------\n",
            "<class 'pandas.core.frame.DataFrame'>\n",
            "RangeIndex: 10159560 entries, 0 to 10159559\n",
            "Data columns (total 12 columns):\n",
            " #   Column       Dtype  \n",
            "---  ------       -----  \n",
            " 0   sample_id    int64  \n",
            " 1   time         int64  \n",
            " 2   coin_index   int64  \n",
            " 3   open         float64\n",
            " 4   high         float64\n",
            " 5   low          float64\n",
            " 6   close        float64\n",
            " 7   volume       float64\n",
            " 8   quote_av     float64\n",
            " 9   trades       float64\n",
            " 10  tb_base_av   float64\n",
            " 11  tb_quote_av  float64\n",
            "dtypes: float64(9), int64(3)\n",
            "memory usage: 930.1 MB\n",
            "None\n",
            "-------------------------------------------------------------\n",
            "          sample_id          time  ...    tb_base_av   tb_quote_av\n",
            "count  1.015956e+07  1.015956e+07  ...  1.015956e+07  1.015956e+07\n",
            "mean   3.680500e+03  6.895000e+02  ...  3.647911e+05  2.106137e+04\n",
            "std    2.125226e+03  3.983716e+02  ...  5.268894e+06  1.117901e+05\n",
            "min    0.000000e+00  0.000000e+00  ...  0.000000e+00  0.000000e+00\n",
            "25%    1.840000e+03  3.447500e+02  ...  5.671815e-03  1.066213e+01\n",
            "50%    3.680500e+03  6.895000e+02  ...  1.039115e+00  1.152704e+02\n",
            "75%    5.521000e+03  1.034250e+03  ...  9.016594e+03  4.863686e+03\n",
            "max    7.361000e+03  1.379000e+03  ...  7.340513e+09  2.320023e+07\n",
            "\n",
            "[8 rows x 12 columns]\n"
          ],
          "name": "stdout"
        }
      ]
    },
    {
      "cell_type": "code",
      "metadata": {
        "colab": {
          "base_uri": "https://localhost:8080/"
        },
        "id": "uW6HrhooO7OJ",
        "outputId": "a923c802-0173-4fb7-e2c4-c55ad2244933"
      },
      "source": [
        "print(train_y_df.head())\n",
        "print('-------------------------------------------------------------')\n",
        "print(train_y_df.info())\n",
        "print('-------------------------------------------------------------')\n",
        "print(train_y_df.describe())\n",
        "# print(train_y_df.isnull().sum()) NULL 값 없음 확인완료"
      ],
      "execution_count": null,
      "outputs": [
        {
          "output_type": "stream",
          "text": [
            "   sample_id  time  coin_index  ...      trades    tb_base_av   tb_quote_av\n",
            "0          0     0           7  ...  137.308746  8.305119e+05  42356.179688\n",
            "1          0     1           7  ...  294.233032  4.882738e+05  24909.861328\n",
            "2          0     2           7  ...   58.846603  5.113770e+05  26100.681641\n",
            "3          0     3           7  ...  137.308746  1.095514e+06  55921.156250\n",
            "4          0     4           7  ...  666.928162  9.911239e+05  50528.589844\n",
            "\n",
            "[5 rows x 12 columns]\n",
            "-------------------------------------------------------------\n",
            "<class 'pandas.core.frame.DataFrame'>\n",
            "RangeIndex: 883440 entries, 0 to 883439\n",
            "Data columns (total 12 columns):\n",
            " #   Column       Non-Null Count   Dtype  \n",
            "---  ------       --------------   -----  \n",
            " 0   sample_id    883440 non-null  int64  \n",
            " 1   time         883440 non-null  int64  \n",
            " 2   coin_index   883440 non-null  int64  \n",
            " 3   open         883440 non-null  float64\n",
            " 4   high         883440 non-null  float64\n",
            " 5   low          883440 non-null  float64\n",
            " 6   close        883440 non-null  float64\n",
            " 7   volume       883440 non-null  float64\n",
            " 8   quote_av     883440 non-null  float64\n",
            " 9   trades       883440 non-null  float64\n",
            " 10  tb_base_av   883440 non-null  float64\n",
            " 11  tb_quote_av  883440 non-null  float64\n",
            "dtypes: float64(9), int64(3)\n",
            "memory usage: 80.9 MB\n",
            "None\n",
            "-------------------------------------------------------------\n",
            "           sample_id           time  ...    tb_base_av   tb_quote_av\n",
            "count  883440.000000  883440.000000  ...  8.834400e+05  8.834400e+05\n",
            "mean     3680.500000      59.500000  ...  3.529742e+05  2.053159e+04\n",
            "std      2125.227524      34.639833  ...  4.836148e+06  1.019837e+05\n",
            "min         0.000000       0.000000  ...  0.000000e+00  0.000000e+00\n",
            "25%      1840.000000      29.750000  ...  5.787930e-03  1.067757e+01\n",
            "50%      3680.500000      59.500000  ...  1.043598e+00  1.159318e+02\n",
            "75%      5521.000000      89.250000  ...  8.772491e+03  4.886511e+03\n",
            "max      7361.000000     119.000000  ...  1.908554e+09  8.438416e+06\n",
            "\n",
            "[8 rows x 12 columns]\n"
          ],
          "name": "stdout"
        }
      ]
    },
    {
      "cell_type": "code",
      "metadata": {
        "colab": {
          "base_uri": "https://localhost:8080/"
        },
        "id": "uvWlKASfPfUv",
        "outputId": "d3f57be2-5823-43b6-be52-25f8f5b885b3"
      },
      "source": [
        "print(test_x_df.head())\n",
        "print('-------------------------------------------------------------')\n",
        "print(test_x_df.info())\n",
        "print('-------------------------------------------------------------')\n",
        "print(test_x_df.describe())\n",
        "# print(test_x_df.isnull().sum()) NULL 값 없음 확인완료"
      ],
      "execution_count": null,
      "outputs": [
        {
          "output_type": "stream",
          "text": [
            "   sample_id  time  coin_index  ...      trades     tb_base_av    tb_quote_av\n",
            "0          0     0           7  ...  332.671570  287449.968750  107758.375000\n",
            "1          0     1           7  ...  407.790955  560290.250000  210005.125000\n",
            "2          0     2           7  ...  276.332031  214270.265625   80283.554688\n",
            "3          0     3           7  ...  166.335785   56401.246094   21135.490234\n",
            "4          0     4           7  ...  303.160370  138711.703125   52010.964844\n",
            "\n",
            "[5 rows x 12 columns]\n",
            "-------------------------------------------------------------\n",
            "<class 'pandas.core.frame.DataFrame'>\n",
            "RangeIndex: 730020 entries, 0 to 730019\n",
            "Data columns (total 12 columns):\n",
            " #   Column       Non-Null Count   Dtype  \n",
            "---  ------       --------------   -----  \n",
            " 0   sample_id    730020 non-null  int64  \n",
            " 1   time         730020 non-null  int64  \n",
            " 2   coin_index   730020 non-null  int64  \n",
            " 3   open         730020 non-null  float64\n",
            " 4   high         730020 non-null  float64\n",
            " 5   low          730020 non-null  float64\n",
            " 6   close        730020 non-null  float64\n",
            " 7   volume       730020 non-null  float64\n",
            " 8   quote_av     730020 non-null  float64\n",
            " 9   trades       730020 non-null  float64\n",
            " 10  tb_base_av   730020 non-null  float64\n",
            " 11  tb_quote_av  730020 non-null  float64\n",
            "dtypes: float64(9), int64(3)\n",
            "memory usage: 66.8 MB\n",
            "None\n",
            "-------------------------------------------------------------\n",
            "           sample_id           time  ...    tb_base_av   tb_quote_av\n",
            "count  730020.000000  730020.000000  ...  7.300200e+05  7.300200e+05\n",
            "mean      264.000000     689.500000  ...  3.903638e+05  9.925072e+04\n",
            "std       152.708978     398.371854  ...  2.005648e+06  4.268118e+05\n",
            "min         0.000000       0.000000  ...  0.000000e+00  0.000000e+00\n",
            "25%       132.000000     344.750000  ...  3.648973e-01  2.334793e+02\n",
            "50%       264.000000     689.500000  ...  1.658845e+02  2.198869e+03\n",
            "75%       396.000000    1034.250000  ...  1.446413e+05  4.106598e+04\n",
            "max       528.000000    1379.000000  ...  2.255709e+08  3.681243e+07\n",
            "\n",
            "[8 rows x 12 columns]\n"
          ],
          "name": "stdout"
        }
      ]
    },
    {
      "cell_type": "markdown",
      "metadata": {
        "id": "0-OX3mkz0FaE"
      },
      "source": [
        "# EDA // 데이터 전처리"
      ]
    },
    {
      "cell_type": "code",
      "metadata": {
        "colab": {
          "base_uri": "https://localhost:8080/",
          "height": 441
        },
        "id": "OOOlJlEa0dBs",
        "outputId": "1da3f256-b781-47ff-901d-18e9022bc6e9"
      },
      "source": [
        "# 상관계수 확인\n",
        "corr_x = train_x_df.corr(method =\"pearson\")\n",
        "corr_x"
      ],
      "execution_count": null,
      "outputs": [
        {
          "output_type": "execute_result",
          "data": {
            "text/html": [
              "<div>\n",
              "<style scoped>\n",
              "    .dataframe tbody tr th:only-of-type {\n",
              "        vertical-align: middle;\n",
              "    }\n",
              "\n",
              "    .dataframe tbody tr th {\n",
              "        vertical-align: top;\n",
              "    }\n",
              "\n",
              "    .dataframe thead th {\n",
              "        text-align: right;\n",
              "    }\n",
              "</style>\n",
              "<table border=\"1\" class=\"dataframe\">\n",
              "  <thead>\n",
              "    <tr style=\"text-align: right;\">\n",
              "      <th></th>\n",
              "      <th>sample_id</th>\n",
              "      <th>time</th>\n",
              "      <th>coin_index</th>\n",
              "      <th>open</th>\n",
              "      <th>high</th>\n",
              "      <th>low</th>\n",
              "      <th>close</th>\n",
              "      <th>volume</th>\n",
              "      <th>quote_av</th>\n",
              "      <th>trades</th>\n",
              "      <th>tb_base_av</th>\n",
              "      <th>tb_quote_av</th>\n",
              "    </tr>\n",
              "  </thead>\n",
              "  <tbody>\n",
              "    <tr>\n",
              "      <th>sample_id</th>\n",
              "      <td>1.000000</td>\n",
              "      <td>0.000000e+00</td>\n",
              "      <td>4.278576e-03</td>\n",
              "      <td>-0.011692</td>\n",
              "      <td>-0.011690</td>\n",
              "      <td>-0.011662</td>\n",
              "      <td>-0.011676</td>\n",
              "      <td>-0.000407</td>\n",
              "      <td>0.010186</td>\n",
              "      <td>0.009696</td>\n",
              "      <td>-0.000393</td>\n",
              "      <td>0.009447</td>\n",
              "    </tr>\n",
              "    <tr>\n",
              "      <th>time</th>\n",
              "      <td>0.000000</td>\n",
              "      <td>1.000000e+00</td>\n",
              "      <td>3.894486e-18</td>\n",
              "      <td>-0.012273</td>\n",
              "      <td>-0.012346</td>\n",
              "      <td>-0.012248</td>\n",
              "      <td>-0.012289</td>\n",
              "      <td>-0.000277</td>\n",
              "      <td>-0.000464</td>\n",
              "      <td>-0.000708</td>\n",
              "      <td>-0.000444</td>\n",
              "      <td>-0.000394</td>\n",
              "    </tr>\n",
              "    <tr>\n",
              "      <th>coin_index</th>\n",
              "      <td>0.004279</td>\n",
              "      <td>3.894486e-18</td>\n",
              "      <td>1.000000e+00</td>\n",
              "      <td>-0.010498</td>\n",
              "      <td>-0.010721</td>\n",
              "      <td>-0.010341</td>\n",
              "      <td>-0.010520</td>\n",
              "      <td>0.006909</td>\n",
              "      <td>0.000136</td>\n",
              "      <td>0.010454</td>\n",
              "      <td>0.006393</td>\n",
              "      <td>-0.000206</td>\n",
              "    </tr>\n",
              "    <tr>\n",
              "      <th>open</th>\n",
              "      <td>-0.011692</td>\n",
              "      <td>-1.227325e-02</td>\n",
              "      <td>-1.049803e-02</td>\n",
              "      <td>1.000000</td>\n",
              "      <td>0.998631</td>\n",
              "      <td>0.999254</td>\n",
              "      <td>0.999071</td>\n",
              "      <td>0.009158</td>\n",
              "      <td>0.025290</td>\n",
              "      <td>0.022769</td>\n",
              "      <td>0.004867</td>\n",
              "      <td>0.019132</td>\n",
              "    </tr>\n",
              "    <tr>\n",
              "      <th>high</th>\n",
              "      <td>-0.011690</td>\n",
              "      <td>-1.234571e-02</td>\n",
              "      <td>-1.072102e-02</td>\n",
              "      <td>0.998631</td>\n",
              "      <td>1.000000</td>\n",
              "      <td>0.997830</td>\n",
              "      <td>0.998898</td>\n",
              "      <td>0.014944</td>\n",
              "      <td>0.033986</td>\n",
              "      <td>0.032518</td>\n",
              "      <td>0.011817</td>\n",
              "      <td>0.029751</td>\n",
              "    </tr>\n",
              "    <tr>\n",
              "      <th>low</th>\n",
              "      <td>-0.011662</td>\n",
              "      <td>-1.224846e-02</td>\n",
              "      <td>-1.034080e-02</td>\n",
              "      <td>0.999254</td>\n",
              "      <td>0.997830</td>\n",
              "      <td>1.000000</td>\n",
              "      <td>0.999315</td>\n",
              "      <td>0.002101</td>\n",
              "      <td>0.014780</td>\n",
              "      <td>0.011092</td>\n",
              "      <td>0.001434</td>\n",
              "      <td>0.012224</td>\n",
              "    </tr>\n",
              "    <tr>\n",
              "      <th>close</th>\n",
              "      <td>-0.011676</td>\n",
              "      <td>-1.228935e-02</td>\n",
              "      <td>-1.052042e-02</td>\n",
              "      <td>0.999071</td>\n",
              "      <td>0.998898</td>\n",
              "      <td>0.999315</td>\n",
              "      <td>1.000000</td>\n",
              "      <td>0.008074</td>\n",
              "      <td>0.024175</td>\n",
              "      <td>0.021432</td>\n",
              "      <td>0.007229</td>\n",
              "      <td>0.022276</td>\n",
              "    </tr>\n",
              "    <tr>\n",
              "      <th>volume</th>\n",
              "      <td>-0.000407</td>\n",
              "      <td>-2.768361e-04</td>\n",
              "      <td>6.909391e-03</td>\n",
              "      <td>0.009158</td>\n",
              "      <td>0.014944</td>\n",
              "      <td>0.002101</td>\n",
              "      <td>0.008074</td>\n",
              "      <td>1.000000</td>\n",
              "      <td>0.420857</td>\n",
              "      <td>0.573042</td>\n",
              "      <td>0.794751</td>\n",
              "      <td>0.372958</td>\n",
              "    </tr>\n",
              "    <tr>\n",
              "      <th>quote_av</th>\n",
              "      <td>0.010186</td>\n",
              "      <td>-4.641555e-04</td>\n",
              "      <td>1.357815e-04</td>\n",
              "      <td>0.025290</td>\n",
              "      <td>0.033986</td>\n",
              "      <td>0.014780</td>\n",
              "      <td>0.024175</td>\n",
              "      <td>0.420857</td>\n",
              "      <td>1.000000</td>\n",
              "      <td>0.826307</td>\n",
              "      <td>0.344711</td>\n",
              "      <td>0.920649</td>\n",
              "    </tr>\n",
              "    <tr>\n",
              "      <th>trades</th>\n",
              "      <td>0.009696</td>\n",
              "      <td>-7.075427e-04</td>\n",
              "      <td>1.045373e-02</td>\n",
              "      <td>0.022769</td>\n",
              "      <td>0.032518</td>\n",
              "      <td>0.011092</td>\n",
              "      <td>0.021432</td>\n",
              "      <td>0.573042</td>\n",
              "      <td>0.826307</td>\n",
              "      <td>1.000000</td>\n",
              "      <td>0.466903</td>\n",
              "      <td>0.754661</td>\n",
              "    </tr>\n",
              "    <tr>\n",
              "      <th>tb_base_av</th>\n",
              "      <td>-0.000393</td>\n",
              "      <td>-4.444006e-04</td>\n",
              "      <td>6.393173e-03</td>\n",
              "      <td>0.004867</td>\n",
              "      <td>0.011817</td>\n",
              "      <td>0.001434</td>\n",
              "      <td>0.007229</td>\n",
              "      <td>0.794751</td>\n",
              "      <td>0.344711</td>\n",
              "      <td>0.466903</td>\n",
              "      <td>1.000000</td>\n",
              "      <td>0.425748</td>\n",
              "    </tr>\n",
              "    <tr>\n",
              "      <th>tb_quote_av</th>\n",
              "      <td>0.009447</td>\n",
              "      <td>-3.943029e-04</td>\n",
              "      <td>-2.063932e-04</td>\n",
              "      <td>0.019132</td>\n",
              "      <td>0.029751</td>\n",
              "      <td>0.012224</td>\n",
              "      <td>0.022276</td>\n",
              "      <td>0.372958</td>\n",
              "      <td>0.920649</td>\n",
              "      <td>0.754661</td>\n",
              "      <td>0.425748</td>\n",
              "      <td>1.000000</td>\n",
              "    </tr>\n",
              "  </tbody>\n",
              "</table>\n",
              "</div>"
            ],
            "text/plain": [
              "             sample_id          time  ...  tb_base_av  tb_quote_av\n",
              "sample_id     1.000000  0.000000e+00  ...   -0.000393     0.009447\n",
              "time          0.000000  1.000000e+00  ...   -0.000444    -0.000394\n",
              "coin_index    0.004279  3.894486e-18  ...    0.006393    -0.000206\n",
              "open         -0.011692 -1.227325e-02  ...    0.004867     0.019132\n",
              "high         -0.011690 -1.234571e-02  ...    0.011817     0.029751\n",
              "low          -0.011662 -1.224846e-02  ...    0.001434     0.012224\n",
              "close        -0.011676 -1.228935e-02  ...    0.007229     0.022276\n",
              "volume       -0.000407 -2.768361e-04  ...    0.794751     0.372958\n",
              "quote_av      0.010186 -4.641555e-04  ...    0.344711     0.920649\n",
              "trades        0.009696 -7.075427e-04  ...    0.466903     0.754661\n",
              "tb_base_av   -0.000393 -4.444006e-04  ...    1.000000     0.425748\n",
              "tb_quote_av   0.009447 -3.943029e-04  ...    0.425748     1.000000\n",
              "\n",
              "[12 rows x 12 columns]"
            ]
          },
          "metadata": {
            "tags": []
          },
          "execution_count": 8
        }
      ]
    },
    {
      "cell_type": "code",
      "metadata": {
        "colab": {
          "base_uri": "https://localhost:8080/",
          "height": 441
        },
        "id": "RNURInkV0ffs",
        "outputId": "b8931d49-1014-4aa8-b696-239c6daad2dd"
      },
      "source": [
        "corr_y = train_y_df.corr(method =\"pearson\")\n",
        "corr_y"
      ],
      "execution_count": null,
      "outputs": [
        {
          "output_type": "execute_result",
          "data": {
            "text/html": [
              "<div>\n",
              "<style scoped>\n",
              "    .dataframe tbody tr th:only-of-type {\n",
              "        vertical-align: middle;\n",
              "    }\n",
              "\n",
              "    .dataframe tbody tr th {\n",
              "        vertical-align: top;\n",
              "    }\n",
              "\n",
              "    .dataframe thead th {\n",
              "        text-align: right;\n",
              "    }\n",
              "</style>\n",
              "<table border=\"1\" class=\"dataframe\">\n",
              "  <thead>\n",
              "    <tr style=\"text-align: right;\">\n",
              "      <th></th>\n",
              "      <th>sample_id</th>\n",
              "      <th>time</th>\n",
              "      <th>coin_index</th>\n",
              "      <th>open</th>\n",
              "      <th>high</th>\n",
              "      <th>low</th>\n",
              "      <th>close</th>\n",
              "      <th>volume</th>\n",
              "      <th>quote_av</th>\n",
              "      <th>trades</th>\n",
              "      <th>tb_base_av</th>\n",
              "      <th>tb_quote_av</th>\n",
              "    </tr>\n",
              "  </thead>\n",
              "  <tbody>\n",
              "    <tr>\n",
              "      <th>sample_id</th>\n",
              "      <td>1.000000</td>\n",
              "      <td>0.000000e+00</td>\n",
              "      <td>4.278576e-03</td>\n",
              "      <td>-0.001195</td>\n",
              "      <td>-0.000799</td>\n",
              "      <td>-0.001522</td>\n",
              "      <td>-0.000991</td>\n",
              "      <td>-0.001144</td>\n",
              "      <td>0.008835</td>\n",
              "      <td>0.006470</td>\n",
              "      <td>-0.000310</td>\n",
              "      <td>0.008538</td>\n",
              "    </tr>\n",
              "    <tr>\n",
              "      <th>time</th>\n",
              "      <td>0.000000</td>\n",
              "      <td>1.000000e+00</td>\n",
              "      <td>-5.054400e-21</td>\n",
              "      <td>0.003800</td>\n",
              "      <td>0.003148</td>\n",
              "      <td>0.004450</td>\n",
              "      <td>0.003753</td>\n",
              "      <td>-0.000989</td>\n",
              "      <td>-0.001685</td>\n",
              "      <td>-0.002170</td>\n",
              "      <td>-0.002156</td>\n",
              "      <td>-0.002411</td>\n",
              "    </tr>\n",
              "    <tr>\n",
              "      <th>coin_index</th>\n",
              "      <td>0.004279</td>\n",
              "      <td>-5.054400e-21</td>\n",
              "      <td>1.000000e+00</td>\n",
              "      <td>-0.002687</td>\n",
              "      <td>-0.003532</td>\n",
              "      <td>-0.002090</td>\n",
              "      <td>-0.002722</td>\n",
              "      <td>0.006538</td>\n",
              "      <td>-0.003210</td>\n",
              "      <td>0.007859</td>\n",
              "      <td>0.005997</td>\n",
              "      <td>-0.003572</td>\n",
              "    </tr>\n",
              "    <tr>\n",
              "      <th>open</th>\n",
              "      <td>-0.001195</td>\n",
              "      <td>3.800312e-03</td>\n",
              "      <td>-2.686648e-03</td>\n",
              "      <td>1.000000</td>\n",
              "      <td>0.993176</td>\n",
              "      <td>0.992726</td>\n",
              "      <td>0.991055</td>\n",
              "      <td>0.019498</td>\n",
              "      <td>0.034898</td>\n",
              "      <td>0.034660</td>\n",
              "      <td>0.023497</td>\n",
              "      <td>0.039227</td>\n",
              "    </tr>\n",
              "    <tr>\n",
              "      <th>high</th>\n",
              "      <td>-0.000799</td>\n",
              "      <td>3.147511e-03</td>\n",
              "      <td>-3.531888e-03</td>\n",
              "      <td>0.993176</td>\n",
              "      <td>1.000000</td>\n",
              "      <td>0.985593</td>\n",
              "      <td>0.993624</td>\n",
              "      <td>0.036652</td>\n",
              "      <td>0.061292</td>\n",
              "      <td>0.064435</td>\n",
              "      <td>0.044354</td>\n",
              "      <td>0.071560</td>\n",
              "    </tr>\n",
              "    <tr>\n",
              "      <th>low</th>\n",
              "      <td>-0.001522</td>\n",
              "      <td>4.449805e-03</td>\n",
              "      <td>-2.090215e-03</td>\n",
              "      <td>0.992726</td>\n",
              "      <td>0.985593</td>\n",
              "      <td>1.000000</td>\n",
              "      <td>0.993612</td>\n",
              "      <td>-0.001162</td>\n",
              "      <td>0.002478</td>\n",
              "      <td>-0.001718</td>\n",
              "      <td>0.013639</td>\n",
              "      <td>0.018443</td>\n",
              "    </tr>\n",
              "    <tr>\n",
              "      <th>close</th>\n",
              "      <td>-0.000991</td>\n",
              "      <td>3.753107e-03</td>\n",
              "      <td>-2.721523e-03</td>\n",
              "      <td>0.991055</td>\n",
              "      <td>0.993624</td>\n",
              "      <td>0.993612</td>\n",
              "      <td>1.000000</td>\n",
              "      <td>0.017120</td>\n",
              "      <td>0.031818</td>\n",
              "      <td>0.030984</td>\n",
              "      <td>0.031256</td>\n",
              "      <td>0.049745</td>\n",
              "    </tr>\n",
              "    <tr>\n",
              "      <th>volume</th>\n",
              "      <td>-0.001144</td>\n",
              "      <td>-9.893845e-04</td>\n",
              "      <td>6.537747e-03</td>\n",
              "      <td>0.019498</td>\n",
              "      <td>0.036652</td>\n",
              "      <td>-0.001162</td>\n",
              "      <td>0.017120</td>\n",
              "      <td>1.000000</td>\n",
              "      <td>0.413802</td>\n",
              "      <td>0.572350</td>\n",
              "      <td>0.795492</td>\n",
              "      <td>0.365074</td>\n",
              "    </tr>\n",
              "    <tr>\n",
              "      <th>quote_av</th>\n",
              "      <td>0.008835</td>\n",
              "      <td>-1.685352e-03</td>\n",
              "      <td>-3.210465e-03</td>\n",
              "      <td>0.034898</td>\n",
              "      <td>0.061292</td>\n",
              "      <td>0.002478</td>\n",
              "      <td>0.031818</td>\n",
              "      <td>0.413802</td>\n",
              "      <td>1.000000</td>\n",
              "      <td>0.822412</td>\n",
              "      <td>0.339014</td>\n",
              "      <td>0.918006</td>\n",
              "    </tr>\n",
              "    <tr>\n",
              "      <th>trades</th>\n",
              "      <td>0.006470</td>\n",
              "      <td>-2.169733e-03</td>\n",
              "      <td>7.859498e-03</td>\n",
              "      <td>0.034660</td>\n",
              "      <td>0.064435</td>\n",
              "      <td>-0.001718</td>\n",
              "      <td>0.030984</td>\n",
              "      <td>0.572350</td>\n",
              "      <td>0.822412</td>\n",
              "      <td>1.000000</td>\n",
              "      <td>0.480647</td>\n",
              "      <td>0.746228</td>\n",
              "    </tr>\n",
              "    <tr>\n",
              "      <th>tb_base_av</th>\n",
              "      <td>-0.000310</td>\n",
              "      <td>-2.156282e-03</td>\n",
              "      <td>5.996844e-03</td>\n",
              "      <td>0.023497</td>\n",
              "      <td>0.044354</td>\n",
              "      <td>0.013639</td>\n",
              "      <td>0.031256</td>\n",
              "      <td>0.795492</td>\n",
              "      <td>0.339014</td>\n",
              "      <td>0.480647</td>\n",
              "      <td>1.000000</td>\n",
              "      <td>0.420552</td>\n",
              "    </tr>\n",
              "    <tr>\n",
              "      <th>tb_quote_av</th>\n",
              "      <td>0.008538</td>\n",
              "      <td>-2.411060e-03</td>\n",
              "      <td>-3.572448e-03</td>\n",
              "      <td>0.039227</td>\n",
              "      <td>0.071560</td>\n",
              "      <td>0.018443</td>\n",
              "      <td>0.049745</td>\n",
              "      <td>0.365074</td>\n",
              "      <td>0.918006</td>\n",
              "      <td>0.746228</td>\n",
              "      <td>0.420552</td>\n",
              "      <td>1.000000</td>\n",
              "    </tr>\n",
              "  </tbody>\n",
              "</table>\n",
              "</div>"
            ],
            "text/plain": [
              "             sample_id          time  ...  tb_base_av  tb_quote_av\n",
              "sample_id     1.000000  0.000000e+00  ...   -0.000310     0.008538\n",
              "time          0.000000  1.000000e+00  ...   -0.002156    -0.002411\n",
              "coin_index    0.004279 -5.054400e-21  ...    0.005997    -0.003572\n",
              "open         -0.001195  3.800312e-03  ...    0.023497     0.039227\n",
              "high         -0.000799  3.147511e-03  ...    0.044354     0.071560\n",
              "low          -0.001522  4.449805e-03  ...    0.013639     0.018443\n",
              "close        -0.000991  3.753107e-03  ...    0.031256     0.049745\n",
              "volume       -0.001144 -9.893845e-04  ...    0.795492     0.365074\n",
              "quote_av      0.008835 -1.685352e-03  ...    0.339014     0.918006\n",
              "trades        0.006470 -2.169733e-03  ...    0.480647     0.746228\n",
              "tb_base_av   -0.000310 -2.156282e-03  ...    1.000000     0.420552\n",
              "tb_quote_av   0.008538 -2.411060e-03  ...    0.420552     1.000000\n",
              "\n",
              "[12 rows x 12 columns]"
            ]
          },
          "metadata": {
            "tags": []
          },
          "execution_count": 9
        }
      ]
    },
    {
      "cell_type": "code",
      "metadata": {
        "colab": {
          "base_uri": "https://localhost:8080/",
          "height": 457
        },
        "id": "5f8AHoML0oyB",
        "outputId": "9e5f1255-16d4-4c3f-c5d1-46dfdb2b046d"
      },
      "source": [
        "# 시각화 1, 히스토그램\n",
        "train_x_df.hist(bins=70, figsize=(10,7))\n",
        "plt.show()"
      ],
      "execution_count": null,
      "outputs": [
        {
          "output_type": "display_data",
          "data": {
            "image/png": "[encoded data removed]",
            "text/plain": [
              "<Figure size 720x504 with 12 Axes>"
            ]
          },
          "metadata": {
            "tags": [],
            "needs_background": "light"
          }
        }
      ]
    },
    {
      "cell_type": "code",
      "metadata": {
        "colab": {
          "base_uri": "https://localhost:8080/",
          "height": 103
        },
        "id": "yVknkmAi0rls",
        "outputId": "95d7b03c-1b82-47c9-c289-45667d968973"
      },
      "source": [
        "'''\n",
        "# 시각화2, 산점도\n",
        "fig, axes = plt.subplots(2, 3, figsize=(10,7))\n",
        "train_x_df.plot(x='time', y='open', kind='scatter', alpha=0.1, ax=axes[0,0])\n",
        "train_x_df.plot(x='volume', y='open', kind='scatter', alpha=0.1, ax=axes[0,1])\n",
        "train_x_df.plot(x='trades', y='open', kind='scatter', alpha=0.1, ax=axes[0,2])\n",
        "train_x_df.plot(x='quote_av', y='open', kind='scatter', alpha=0.1, ax=axes[1,0])\n",
        "train_x_df.plot(x='tb_base_av', y='open', kind='scatter', alpha=0.1, ax=axes[1,1])\n",
        "train_x_df.plot(x='tb_quote_av', y='open', kind='scatter', alpha=0.1, ax=axes[1,2])\n",
        "\n",
        "fig.tight_layout()\n",
        "'''"
      ],
      "execution_count": null,
      "outputs": [
        {
          "output_type": "execute_result",
          "data": {
            "application/vnd.google.colaboratory.intrinsic+json": {
              "type": "string"
            },
            "text/plain": [
              "\"\\n# 시각화2, 산점도\\nfig, axes = plt.subplots(2, 3, figsize=(10,7))\\ntrain_x_df.plot(x='time', y='open', kind='scatter', alpha=0.1, ax=axes[0,0])\\ntrain_x_df.plot(x='volume', y='open', kind='scatter', alpha=0.1, ax=axes[0,1])\\ntrain_x_df.plot(x='trades', y='open', kind='scatter', alpha=0.1, ax=axes[0,2])\\ntrain_x_df.plot(x='quote_av', y='open', kind='scatter', alpha=0.1, ax=axes[1,0])\\ntrain_x_df.plot(x='tb_base_av', y='open', kind='scatter', alpha=0.1, ax=axes[1,1])\\ntrain_x_df.plot(x='tb_quote_av', y='open', kind='scatter', alpha=0.1, ax=axes[1,2])\\n\\nfig.tight_layout()\\n\""
            ]
          },
          "metadata": {
            "tags": []
          },
          "execution_count": 11
        }
      ]
    },
    {
      "cell_type": "markdown",
      "metadata": {
        "id": "owX-JNzPTQAK"
      },
      "source": [
        "주문량, 거래량, 거래 건 수 등에서 0값이 포함된 데이터는 지워주기로 결정.\n",
        "\n",
        "- volume, trades, quote_av, tb_base_av, tb_quote_av \n",
        "\n",
        "데이터 형태를 2차원에서 3차원 Numpy array로 바꾸는 과정 중 문제가 발생. \n",
        "\n",
        "따라서 지우지 않는 방향으로 다시 모색"
      ]
    },
    {
      "cell_type": "code",
      "metadata": {
        "colab": {
          "base_uri": "https://localhost:8080/",
          "height": 154
        },
        "id": "QVUWN3LPTPZ_",
        "outputId": "0f7edbd6-24b7-413b-d168-09bbbc4362e0"
      },
      "source": [
        "'''\n",
        "# 위에서 선정한 column들에 대해 0인 값을 갖는 행은 모두 지워준다.\n",
        "idx_trainx = train_x_df[(train_x_df['volume'] == 0) | (train_x_df['trades'] == 0) | (train_x_df['quote_av'] == 0) | (train_x_df['tb_base_av'] == 0) | (train_x_df['tb_quote_av'] == 0)].index\n",
        "idx_trainy = train_y_df[(train_y_df['volume'] == 0) | (train_y_df['trades'] == 0) | (train_y_df['quote_av'] == 0) | (train_y_df['tb_base_av'] == 0) | (train_y_df['tb_quote_av'] == 0)].index\n",
        "idx_testx =  test_x_df[(test_x_df['volume'] == 0) | (test_x_df['trades'] == 0) | (test_x_df['quote_av'] == 0) | (test_x_df['tb_base_av'] == 0) | (test_x_df['tb_quote_av'] == 0)].index\n",
        "train_x_df = train_x_df.drop(idx_trainx)\n",
        "train_y_df = train_y_df.drop(idx_trainy)\n",
        "test_x_df = test_x_df.drop(idx_testx)\n",
        "\n",
        "print(f'train_x shape: {train_x_df.shape}')\n",
        "print(f'train_y shape: {train_y_df.shape}')\n",
        "print(f'test_x shape: {test_x_df.shape}')\n",
        "'''"
      ],
      "execution_count": null,
      "outputs": [
        {
          "output_type": "execute_result",
          "data": {
            "application/vnd.google.colaboratory.intrinsic+json": {
              "type": "string"
            },
            "text/plain": [
              "\"\\n# 위에서 선정한 column들에 대해 0인 값을 갖는 행은 모두 지워준다.\\nidx_trainx = train_x_df[(train_x_df['volume'] == 0) | (train_x_df['trades'] == 0) | (train_x_df['quote_av'] == 0) | (train_x_df['tb_base_av'] == 0) | (train_x_df['tb_quote_av'] == 0)].index\\nidx_trainy = train_y_df[(train_y_df['volume'] == 0) | (train_y_df['trades'] == 0) | (train_y_df['quote_av'] == 0) | (train_y_df['tb_base_av'] == 0) | (train_y_df['tb_quote_av'] == 0)].index\\nidx_testx =  test_x_df[(test_x_df['volume'] == 0) | (test_x_df['trades'] == 0) | (test_x_df['quote_av'] == 0) | (test_x_df['tb_base_av'] == 0) | (test_x_df['tb_quote_av'] == 0)].index\\ntrain_x_df = train_x_df.drop(idx_trainx)\\ntrain_y_df = train_y_df.drop(idx_trainy)\\ntest_x_df = test_x_df.drop(idx_testx)\\n\\nprint(f'train_x shape: {train_x_df.shape}')\\nprint(f'train_y shape: {train_y_df.shape}')\\nprint(f'test_x shape: {test_x_df.shape}')\\n\""
            ]
          },
          "metadata": {
            "tags": []
          },
          "execution_count": 12
        }
      ]
    },
    {
      "cell_type": "code",
      "metadata": {
        "id": "OI5VCXqJzxHk"
      },
      "source": [
        "# 위에서 선정한 column들에 대해 0인 값을 갖는 행은 모두 중간값으로 대체한다.\n",
        "#idx_trainx = train_x_df[(train_x_df['volume'] == 0) | (train_x_df['trades'] == 0) | (train_x_df['quote_av'] == 0) | (train_x_df['tb_base_av'] == 0) | (train_x_df['tb_quote_av'] == 0)].index\n",
        "#idx_trainy = train_y_df[(train_y_df['volume'] == 0) | (train_y_df['trades'] == 0) | (train_y_df['quote_av'] == 0) | (train_y_df['tb_base_av'] == 0) | (train_y_df['tb_quote_av'] == 0)].index\n",
        "#idx_testx =  test_x_df[(test_x_df['volume'] == 0) | (test_x_df['trades'] == 0) | (test_x_df['quote_av'] == 0) | (test_x_df['tb_base_av'] == 0) | (test_x_df['tb_quote_av'] == 0)].index\n",
        "\n",
        "x_volume_median = train_x_df['volume'].median()\n",
        "x_trades_median = train_x_df['trades'].median()\n",
        "x_quote_av_median = train_x_df['quote_av'].median()\n",
        "x_tb_base_av_median = train_x_df['tb_base_av'].median()\n",
        "x_tb_quote_av_median = train_x_df['tb_quote_av'].median()\n",
        "\n",
        "train_x_df['volume'] = train_x_df['volume'].replace({0:x_volume_median})\n",
        "train_x_df['trades'] = train_x_df['trades'].replace({0:x_trades_median})\n",
        "train_x_df['quote_av'] = train_x_df['quote_av'].replace({0:x_quote_av_median})\n",
        "train_x_df['tb_base_av'] = train_x_df['tb_base_av'].replace({0:x_tb_base_av_median})\n",
        "train_x_df['tb_quote_av'] = train_x_df['tb_quote_av'].replace({0:x_tb_quote_av_median})\n",
        "\n",
        "y_volume_median = train_y_df['volume'].median()\n",
        "y_trades_median = train_y_df['trades'].median()\n",
        "y_quote_av_median = train_y_df['quote_av'].median()\n",
        "y_tb_base_av_median = train_y_df['tb_base_av'].median()\n",
        "y_tb_quote_av_median = train_y_df['tb_quote_av'].median()\n",
        "\n",
        "train_y_df['volume'] = train_y_df['volume'].replace({0:y_volume_median})\n",
        "train_y_df['trades'] = train_y_df['trades'].replace({0:y_trades_median})\n",
        "train_y_df['quote_av'] = train_y_df['quote_av'].replace({0:y_quote_av_median})\n",
        "train_y_df['tb_base_av'] = train_y_df['tb_base_av'].replace({0:y_tb_base_av_median})\n",
        "train_y_df['tb_quote_av'] = train_y_df['tb_quote_av'].replace({0:y_tb_quote_av_median})\n",
        "\n",
        "tx_volume_median = test_x_df['volume'].median()\n",
        "tx_trades_median = test_x_df['trades'].median()\n",
        "tx_quote_av_median = test_x_df['quote_av'].median()\n",
        "tx_tb_base_av_median = test_x_df['tb_base_av'].median()\n",
        "tx_tb_quote_av_median = test_x_df['tb_quote_av'].median()\n",
        "\n",
        "test_x_df['volume'] = test_x_df['volume'].replace({0:tx_volume_median})\n",
        "test_x_df['trades'] = test_x_df['trades'].replace({0:tx_trades_median})\n",
        "test_x_df['quote_av'] = test_x_df['quote_av'].replace({0:tx_quote_av_median})\n",
        "test_x_df['tb_base_av'] = test_x_df['tb_base_av'].replace({0:tx_tb_base_av_median})\n",
        "test_x_df['tb_quote_av'] = test_x_df['tb_quote_av'].replace({0:tx_tb_quote_av_median})"
      ],
      "execution_count": null,
      "outputs": []
    },
    {
      "cell_type": "code",
      "metadata": {
        "id": "jdfEi9QGNF9Z"
      },
      "source": [
        "def df2d_to_array3d(df_2d):\n",
        "    # 입력 받은 2차원 데이터 프레임을 3차원 numpy array로 변경하는 함수\n",
        "    feature_size = df_2d.iloc[:,2:].shape[1]\n",
        "    time_size = len(df_2d.time.value_counts())\n",
        "    sample_size = len(df_2d.sample_id.value_counts())\n",
        "    array_3d = df_2d.iloc[:,2:].values.reshape([sample_size, time_size, feature_size])\n",
        "    return array_3d"
      ],
      "execution_count": null,
      "outputs": []
    },
    {
      "cell_type": "code",
      "metadata": {
        "id": "Wv2jAsbZNJvf"
      },
      "source": [
        "# 함수 사용해서 3차원으로 변경\n",
        "train_x_array = df2d_to_array3d(train_x_df)\n",
        "train_y_array = df2d_to_array3d(train_y_df)\n",
        "test_x_array = df2d_to_array3d(test_x_df)"
      ],
      "execution_count": null,
      "outputs": []
    },
    {
      "cell_type": "code",
      "metadata": {
        "colab": {
          "base_uri": "https://localhost:8080/"
        },
        "id": "qTt7FLU0NSOg",
        "outputId": "60f1253e-0b89-4b5f-edb7-d3bc18d3570c"
      },
      "source": [
        "print(f'train_x_3d shape: {train_x_array.shape}')\n",
        "print(f'train_y_3d shape: {train_y_array.shape}')\n",
        "print(f'test_x_3d shape: {test_x_array.shape}')"
      ],
      "execution_count": null,
      "outputs": [
        {
          "output_type": "stream",
          "text": [
            "train_x_3d shape: (7362, 1380, 10)\n",
            "train_y_3d shape: (7362, 120, 10)\n",
            "test_x_3d shape: (529, 1380, 10)\n"
          ],
          "name": "stdout"
        }
      ]
    },
    {
      "cell_type": "code",
      "metadata": {
        "id": "I8zs-PIUPA_w"
      },
      "source": [
        "def plot_series(x_series, y_series):\n",
        "    #입력 x_series와 출력 y_series를 연속적으로 연결하여 시각적으로 보여주기\n",
        "    plt.plot(x_series, label = 'input_series')\n",
        "    plt.plot(np.arange(len(x_series), len(x_series)+len(y_series)),\n",
        "             y_series, label = 'output_series')\n",
        "    plt.axhline(1, c = 'black')\n",
        "    plt.legend()"
      ],
      "execution_count": null,
      "outputs": []
    },
    {
      "cell_type": "code",
      "metadata": {
        "colab": {
          "base_uri": "https://localhost:8080/",
          "height": 265
        },
        "id": "pjEyVRoxPC9q",
        "outputId": "0e842037-9add-4a9b-b6f5-73fe825eedbb"
      },
      "source": [
        "# sample_id n에 해당하는 sample의 분단위 시가 변동 정보 시각화\n",
        "n = 1279\n",
        "idx = n\n",
        "plot_series(train_x_array[idx,:,1], train_y_array[idx,:,1])\n",
        "plt.show()"
      ],
      "execution_count": null,
      "outputs": [
        {
          "output_type": "display_data",
          "data": {
            "image/png": "[encoded data removed]",
            "text/plain": [
              "<Figure size 432x288 with 1 Axes>"
            ]
          },
          "metadata": {
            "tags": [],
            "needs_background": "light"
          }
        }
      ]
    },
    {
      "cell_type": "markdown",
      "metadata": {
        "id": "ZgnbTMVX-_MQ"
      },
      "source": [
        "# 모델 훈련\n"
      ]
    },
    {
      "cell_type": "markdown",
      "metadata": {
        "id": "qMiGCYHs1qY8"
      },
      "source": [
        "fbprophet이 두개의 칼럼(ds, y)밖에 사용하지 못해서 다른 모델과 합해서 사용해볼까 고민\n",
        "\n",
        "=> 데이터 확인 후 토의에 따라 다른 칼럼을 일단은 굳이 사용하지 않기로 결정 "
      ]
    },
    {
      "cell_type": "markdown",
      "metadata": {
        "id": "8-nDKo0PAtRh"
      },
      "source": [
        "train 샘플로 훈련해보기"
      ]
    },
    {
      "cell_type": "code",
      "metadata": {
        "colab": {
          "base_uri": "https://localhost:8080/"
        },
        "id": "92FYeMgu_CAU",
        "outputId": "5d53a53b-bad3-48d5-ff94-2167bd991fbc"
      },
      "source": [
        "start_time = '2021-01-31 00:00:00'\n",
        "start_dt = datetime.datetime.strptime(start_time, '%Y-%m-%d %H:%M:%S')\n",
        "print(start_dt)     "
      ],
      "execution_count": null,
      "outputs": [
        {
          "output_type": "stream",
          "text": [
            "2021-01-31 00:00:00\n"
          ],
          "name": "stdout"
        }
      ]
    },
    {
      "cell_type": "code",
      "metadata": {
        "id": "EHw2PfTq_GWI"
      },
      "source": [
        "idx = 1205\n",
        "x_series = train_x_array[idx,:,1]\n",
        "y_series = train_y_array[idx,:,1]"
      ],
      "execution_count": null,
      "outputs": []
    },
    {
      "cell_type": "code",
      "metadata": {
        "id": "F3W97RTS_4Fu"
      },
      "source": [
        "# prophet 모델의 학습을 위한 가공 (ds, y 칼럼이 필요하다.)\n",
        "x_df = pd.DataFrame()\n",
        "x_df['ds'] = [start_dt + datetime.timedelta(minutes = time_min) for time_min in np.arange(1, x_series.shape[0]+1).tolist()]\n",
        "x_df['y'] = x_series.tolist() "
      ],
      "execution_count": null,
      "outputs": []
    },
    {
      "cell_type": "code",
      "metadata": {
        "colab": {
          "base_uri": "https://localhost:8080/",
          "height": 204
        },
        "id": "xB247j4J_5_f",
        "outputId": "e9c252ae-8101-497d-b076-457481225675"
      },
      "source": [
        "x_df.head()"
      ],
      "execution_count": null,
      "outputs": [
        {
          "output_type": "execute_result",
          "data": {
            "text/html": [
              "<div>\n",
              "<style scoped>\n",
              "    .dataframe tbody tr th:only-of-type {\n",
              "        vertical-align: middle;\n",
              "    }\n",
              "\n",
              "    .dataframe tbody tr th {\n",
              "        vertical-align: top;\n",
              "    }\n",
              "\n",
              "    .dataframe thead th {\n",
              "        text-align: right;\n",
              "    }\n",
              "</style>\n",
              "<table border=\"1\" class=\"dataframe\">\n",
              "  <thead>\n",
              "    <tr style=\"text-align: right;\">\n",
              "      <th></th>\n",
              "      <th>ds</th>\n",
              "      <th>y</th>\n",
              "    </tr>\n",
              "  </thead>\n",
              "  <tbody>\n",
              "    <tr>\n",
              "      <th>0</th>\n",
              "      <td>2021-01-31 00:01:00</td>\n",
              "      <td>0.937851</td>\n",
              "    </tr>\n",
              "    <tr>\n",
              "      <th>1</th>\n",
              "      <td>2021-01-31 00:02:00</td>\n",
              "      <td>0.938050</td>\n",
              "    </tr>\n",
              "    <tr>\n",
              "      <th>2</th>\n",
              "      <td>2021-01-31 00:03:00</td>\n",
              "      <td>0.938227</td>\n",
              "    </tr>\n",
              "    <tr>\n",
              "      <th>3</th>\n",
              "      <td>2021-01-31 00:04:00</td>\n",
              "      <td>0.938714</td>\n",
              "    </tr>\n",
              "    <tr>\n",
              "      <th>4</th>\n",
              "      <td>2021-01-31 00:05:00</td>\n",
              "      <td>0.938249</td>\n",
              "    </tr>\n",
              "  </tbody>\n",
              "</table>\n",
              "</div>"
            ],
            "text/plain": [
              "                   ds         y\n",
              "0 2021-01-31 00:01:00  0.937851\n",
              "1 2021-01-31 00:02:00  0.938050\n",
              "2 2021-01-31 00:03:00  0.938227\n",
              "3 2021-01-31 00:04:00  0.938714\n",
              "4 2021-01-31 00:05:00  0.938249"
            ]
          },
          "metadata": {
            "tags": []
          },
          "execution_count": 65
        }
      ]
    },
    {
      "cell_type": "code",
      "metadata": {
        "colab": {
          "base_uri": "https://localhost:8080/"
        },
        "id": "QUBZZt-t_88O",
        "outputId": "037f41cb-3cfa-40e2-95a3-b5eab46e9fcb"
      },
      "source": [
        "model = Prophet(seasonality_mode='multiplicative',# 점점 증가하는 seasonality의 경우 multiplicative를 설정해준다.\n",
        "                  yearly_seasonality=False,\n",
        "                  weekly_seasonality=False, daily_seasonality=False,\n",
        "                  changepoint_range=0.97,  # changepoint range를 바꿔준다. (큰 영향을 끼치지는 않는듯하다.)\n",
        "                  changepoint_prior_scale=0.1  # 오버피팅, 언더피팅을 피하기 위해 조정해준다.\n",
        "                )\n",
        "model.add_seasonality(name='first_seasonality', period=1/8, fourier_order=15) # seasonality 추가\n",
        "model.add_seasonality(name='second_seasonality', period=1/12, fourier_order=7) # seasonality 추가\n",
        "#model.add_seasonality(name='third_seasonality', period=1/144, fourier_order=5) # seasonality 추가\n",
        "model.fit(x_df)"
      ],
      "execution_count": null,
      "outputs": [
        {
          "output_type": "execute_result",
          "data": {
            "text/plain": [
              "<fbprophet.forecaster.Prophet at 0x7ff630a1c810>"
            ]
          },
          "metadata": {
            "tags": []
          },
          "execution_count": 66
        }
      ]
    },
    {
      "cell_type": "code",
      "metadata": {
        "colab": {
          "base_uri": "https://localhost:8080/",
          "height": 204
        },
        "id": "OmTPiiWVCU9T",
        "outputId": "4b3a4701-2434-4d2e-8a9f-90d8f0415616"
      },
      "source": [
        "# 120분 테스트 데이터를 예측\n",
        "forecast = model.make_future_dataframe(periods=120, freq='min') # 120분을 예측\n",
        "forecast_data = model.predict(forecast)\n",
        "forecast_data[['ds', 'yhat', 'yhat_lower', 'yhat_upper']].tail(5) "
      ],
      "execution_count": null,
      "outputs": [
        {
          "output_type": "execute_result",
          "data": {
            "text/html": [
              "<div>\n",
              "<style scoped>\n",
              "    .dataframe tbody tr th:only-of-type {\n",
              "        vertical-align: middle;\n",
              "    }\n",
              "\n",
              "    .dataframe tbody tr th {\n",
              "        vertical-align: top;\n",
              "    }\n",
              "\n",
              "    .dataframe thead th {\n",
              "        text-align: right;\n",
              "    }\n",
              "</style>\n",
              "<table border=\"1\" class=\"dataframe\">\n",
              "  <thead>\n",
              "    <tr style=\"text-align: right;\">\n",
              "      <th></th>\n",
              "      <th>ds</th>\n",
              "      <th>yhat</th>\n",
              "      <th>yhat_lower</th>\n",
              "      <th>yhat_upper</th>\n",
              "    </tr>\n",
              "  </thead>\n",
              "  <tbody>\n",
              "    <tr>\n",
              "      <th>1495</th>\n",
              "      <td>2021-02-01 00:56:00</td>\n",
              "      <td>0.937680</td>\n",
              "      <td>0.906713</td>\n",
              "      <td>0.969900</td>\n",
              "    </tr>\n",
              "    <tr>\n",
              "      <th>1496</th>\n",
              "      <td>2021-02-01 00:57:00</td>\n",
              "      <td>0.937125</td>\n",
              "      <td>0.904651</td>\n",
              "      <td>0.970601</td>\n",
              "    </tr>\n",
              "    <tr>\n",
              "      <th>1497</th>\n",
              "      <td>2021-02-01 00:58:00</td>\n",
              "      <td>0.936518</td>\n",
              "      <td>0.904154</td>\n",
              "      <td>0.970831</td>\n",
              "    </tr>\n",
              "    <tr>\n",
              "      <th>1498</th>\n",
              "      <td>2021-02-01 00:59:00</td>\n",
              "      <td>0.935866</td>\n",
              "      <td>0.902122</td>\n",
              "      <td>0.970753</td>\n",
              "    </tr>\n",
              "    <tr>\n",
              "      <th>1499</th>\n",
              "      <td>2021-02-01 01:00:00</td>\n",
              "      <td>0.935189</td>\n",
              "      <td>0.901877</td>\n",
              "      <td>0.970214</td>\n",
              "    </tr>\n",
              "  </tbody>\n",
              "</table>\n",
              "</div>"
            ],
            "text/plain": [
              "                      ds      yhat  yhat_lower  yhat_upper\n",
              "1495 2021-02-01 00:56:00  0.937680    0.906713    0.969900\n",
              "1496 2021-02-01 00:57:00  0.937125    0.904651    0.970601\n",
              "1497 2021-02-01 00:58:00  0.936518    0.904154    0.970831\n",
              "1498 2021-02-01 00:59:00  0.935866    0.902122    0.970753\n",
              "1499 2021-02-01 01:00:00  0.935189    0.901877    0.970214"
            ]
          },
          "metadata": {
            "tags": []
          },
          "execution_count": 67
        }
      ]
    },
    {
      "cell_type": "code",
      "metadata": {
        "colab": {
          "base_uri": "https://localhost:8080/",
          "height": 441
        },
        "id": "QWeajomYCXi7",
        "outputId": "08961016-fedf-4945-b6f7-5df13dd5d7c7"
      },
      "source": [
        "# 만들어진 데이터를 확인\n",
        "from fbprophet.plot import add_changepoints_to_plot\n",
        "fig1 = model.plot(forecast_data)\n",
        "a = add_changepoints_to_plot(fig1.gca(), model, forecast_data)"
      ],
      "execution_count": null,
      "outputs": [
        {
          "output_type": "display_data",
          "data": {
            "image/png": "[encoded data removed]",
            "text/plain": [
              "<Figure size 720x432 with 1 Axes>"
            ]
          },
          "metadata": {
            "tags": []
          }
        }
      ]
    },
    {
      "cell_type": "code",
      "metadata": {
        "colab": {
          "base_uri": "https://localhost:8080/",
          "height": 657
        },
        "id": "EtNkH0JxCZeQ",
        "outputId": "d0ffbd3a-43f8-43b2-c3d0-b482e31ced4a"
      },
      "source": [
        "# 데이터 trend 및 추가한 seasonality 확인\n",
        "fig2 = model.plot_components(forecast_data)"
      ],
      "execution_count": null,
      "outputs": [
        {
          "output_type": "display_data",
          "data": {
            "image/png": "[encoded data removed]",
            "text/plain": [
              "<Figure size 648x648 with 3 Axes>"
            ]
          },
          "metadata": {
            "tags": []
          }
        }
      ]
    },
    {
      "cell_type": "code",
      "metadata": {
        "colab": {
          "base_uri": "https://localhost:8080/",
          "height": 265
        },
        "id": "BXRADZ3IAXwC",
        "outputId": "cf7db6f9-8569-488b-ba61-9a0cfaf84137"
      },
      "source": [
        "pred_y = forecast_data.yhat.values[-120:]\n",
        "pred_y_lower = forecast_data.yhat_lower.values[-120:]\n",
        "pred_y_upper = forecast_data.yhat_upper.values[-120:]\n",
        "\n",
        "plot_series(x_series, y_series)\n",
        "plt.plot(np.arange(1380, 1380+120), pred_y, label = 'prediction')\n",
        "plt.plot(np.arange(1380, 1380+120), pred_y_lower, label = 'prediction_lower')\n",
        "plt.plot(np.arange(1380, 1380+120), pred_y_upper, label = 'prediction_upper')\n",
        "plt.legend()\n",
        "plt.show()"
      ],
      "execution_count": null,
      "outputs": [
        {
          "output_type": "display_data",
          "data": {
            "image/png": "[encoded data removed]",
            "text/plain": [
              "<Figure size 432x288 with 1 Axes>"
            ]
          },
          "metadata": {
            "tags": [],
            "needs_background": "light"
          }
        }
      ]
    },
    {
      "cell_type": "markdown",
      "metadata": {
        "id": "CDSmgajfCeeO"
      },
      "source": [
        "교차검증 분석\n",
        "\n",
        " yhat과 y값 사이의 오류를 측정"
      ]
    },
    {
      "cell_type": "code",
      "metadata": {
        "colab": {
          "base_uri": "https://localhost:8080/",
          "height": 334,
          "referenced_widgets": [
            "87bfb80ad3b244e3a5421d36be1996d4",
            "ea2cd3ef64cc41e9a60875c8293b9f3d",
            "297ed70eb7ac48e48f8c5d822fd28e72",
            "f4d36c7cfe3b4c15bd73ddf18cdb4d19",
            "16a92c9ebf294430840b54b1aef5032a",
            "3ebc7a8b0a4142ac8b43bbd481468046",
            "aa60620368074cd794f5370045417499",
            "21870ae8568140c185367a8c02ec85ac"
          ]
        },
        "id": "aWeqNgZ2AfiT",
        "outputId": "1d43fe1a-49a6-4b69-c112-6a7fe9dec0ed"
      },
      "source": [
        "from fbprophet.diagnostics import cross_validation\n",
        "df_cv = cross_validation(model, initial = '1259 min', period = '120 min', horizon = '120 min')\n",
        "df_cv.head(7)"
      ],
      "execution_count": null,
      "outputs": [
        {
          "output_type": "stream",
          "text": [
            "INFO:fbprophet:Making 1 forecasts with cutoffs between 2021-01-31 21:00:00 and 2021-01-31 21:00:00\n"
          ],
          "name": "stderr"
        },
        {
          "output_type": "display_data",
          "data": {
            "application/vnd.jupyter.widget-view+json": {
              "model_id": "87bfb80ad3b244e3a5421d36be1996d4",
              "version_major": 2,
              "version_minor": 0
            },
            "text/plain": [
              "HBox(children=(FloatProgress(value=0.0, max=1.0), HTML(value='')))"
            ]
          },
          "metadata": {
            "tags": []
          }
        },
        {
          "output_type": "stream",
          "text": [
            "\n"
          ],
          "name": "stdout"
        },
        {
          "output_type": "execute_result",
          "data": {
            "text/html": [
              "<div>\n",
              "<style scoped>\n",
              "    .dataframe tbody tr th:only-of-type {\n",
              "        vertical-align: middle;\n",
              "    }\n",
              "\n",
              "    .dataframe tbody tr th {\n",
              "        vertical-align: top;\n",
              "    }\n",
              "\n",
              "    .dataframe thead th {\n",
              "        text-align: right;\n",
              "    }\n",
              "</style>\n",
              "<table border=\"1\" class=\"dataframe\">\n",
              "  <thead>\n",
              "    <tr style=\"text-align: right;\">\n",
              "      <th></th>\n",
              "      <th>ds</th>\n",
              "      <th>yhat</th>\n",
              "      <th>yhat_lower</th>\n",
              "      <th>yhat_upper</th>\n",
              "      <th>y</th>\n",
              "      <th>cutoff</th>\n",
              "    </tr>\n",
              "  </thead>\n",
              "  <tbody>\n",
              "    <tr>\n",
              "      <th>0</th>\n",
              "      <td>2021-01-31 21:01:00</td>\n",
              "      <td>0.987946</td>\n",
              "      <td>0.984375</td>\n",
              "      <td>0.991192</td>\n",
              "      <td>0.987263</td>\n",
              "      <td>2021-01-31 21:00:00</td>\n",
              "    </tr>\n",
              "    <tr>\n",
              "      <th>1</th>\n",
              "      <td>2021-01-31 21:02:00</td>\n",
              "      <td>0.988470</td>\n",
              "      <td>0.985160</td>\n",
              "      <td>0.992039</td>\n",
              "      <td>0.986459</td>\n",
              "      <td>2021-01-31 21:00:00</td>\n",
              "    </tr>\n",
              "    <tr>\n",
              "      <th>2</th>\n",
              "      <td>2021-01-31 21:03:00</td>\n",
              "      <td>0.989156</td>\n",
              "      <td>0.985961</td>\n",
              "      <td>0.992677</td>\n",
              "      <td>0.985924</td>\n",
              "      <td>2021-01-31 21:00:00</td>\n",
              "    </tr>\n",
              "    <tr>\n",
              "      <th>3</th>\n",
              "      <td>2021-01-31 21:04:00</td>\n",
              "      <td>0.989922</td>\n",
              "      <td>0.986504</td>\n",
              "      <td>0.993228</td>\n",
              "      <td>0.985918</td>\n",
              "      <td>2021-01-31 21:00:00</td>\n",
              "    </tr>\n",
              "    <tr>\n",
              "      <th>4</th>\n",
              "      <td>2021-01-31 21:05:00</td>\n",
              "      <td>0.990674</td>\n",
              "      <td>0.987073</td>\n",
              "      <td>0.993980</td>\n",
              "      <td>0.985061</td>\n",
              "      <td>2021-01-31 21:00:00</td>\n",
              "    </tr>\n",
              "    <tr>\n",
              "      <th>5</th>\n",
              "      <td>2021-01-31 21:06:00</td>\n",
              "      <td>0.991331</td>\n",
              "      <td>0.987979</td>\n",
              "      <td>0.994792</td>\n",
              "      <td>0.985495</td>\n",
              "      <td>2021-01-31 21:00:00</td>\n",
              "    </tr>\n",
              "    <tr>\n",
              "      <th>6</th>\n",
              "      <td>2021-01-31 21:07:00</td>\n",
              "      <td>0.991835</td>\n",
              "      <td>0.988295</td>\n",
              "      <td>0.995299</td>\n",
              "      <td>0.984948</td>\n",
              "      <td>2021-01-31 21:00:00</td>\n",
              "    </tr>\n",
              "  </tbody>\n",
              "</table>\n",
              "</div>"
            ],
            "text/plain": [
              "                   ds      yhat  ...         y              cutoff\n",
              "0 2021-01-31 21:01:00  0.987946  ...  0.987263 2021-01-31 21:00:00\n",
              "1 2021-01-31 21:02:00  0.988470  ...  0.986459 2021-01-31 21:00:00\n",
              "2 2021-01-31 21:03:00  0.989156  ...  0.985924 2021-01-31 21:00:00\n",
              "3 2021-01-31 21:04:00  0.989922  ...  0.985918 2021-01-31 21:00:00\n",
              "4 2021-01-31 21:05:00  0.990674  ...  0.985061 2021-01-31 21:00:00\n",
              "5 2021-01-31 21:06:00  0.991331  ...  0.985495 2021-01-31 21:00:00\n",
              "6 2021-01-31 21:07:00  0.991835  ...  0.984948 2021-01-31 21:00:00\n",
              "\n",
              "[7 rows x 6 columns]"
            ]
          },
          "metadata": {
            "tags": []
          },
          "execution_count": 28
        }
      ]
    },
    {
      "cell_type": "markdown",
      "metadata": {
        "id": "MRJoffHYClW5"
      },
      "source": [
        "모형 성능 확인\n",
        "\n",
        "MSE, RMSE, MAE, MAPE 등 확인 가능"
      ]
    },
    {
      "cell_type": "code",
      "metadata": {
        "colab": {
          "base_uri": "https://localhost:8080/",
          "height": 266
        },
        "id": "yuEdg5vgBfaB",
        "outputId": "67a98fc1-e394-431a-a2c4-c1cb4be79e1e"
      },
      "source": [
        "from fbprophet.diagnostics import performance_metrics\n",
        "df_p = performance_metrics(df_cv)\n",
        "df_p.head(7)"
      ],
      "execution_count": null,
      "outputs": [
        {
          "output_type": "execute_result",
          "data": {
            "text/html": [
              "<div>\n",
              "<style scoped>\n",
              "    .dataframe tbody tr th:only-of-type {\n",
              "        vertical-align: middle;\n",
              "    }\n",
              "\n",
              "    .dataframe tbody tr th {\n",
              "        vertical-align: top;\n",
              "    }\n",
              "\n",
              "    .dataframe thead th {\n",
              "        text-align: right;\n",
              "    }\n",
              "</style>\n",
              "<table border=\"1\" class=\"dataframe\">\n",
              "  <thead>\n",
              "    <tr style=\"text-align: right;\">\n",
              "      <th></th>\n",
              "      <th>horizon</th>\n",
              "      <th>mse</th>\n",
              "      <th>rmse</th>\n",
              "      <th>mae</th>\n",
              "      <th>mape</th>\n",
              "      <th>mdape</th>\n",
              "      <th>coverage</th>\n",
              "    </tr>\n",
              "  </thead>\n",
              "  <tbody>\n",
              "    <tr>\n",
              "      <th>0</th>\n",
              "      <td>0 days 00:12:00</td>\n",
              "      <td>0.000029</td>\n",
              "      <td>0.005416</td>\n",
              "      <td>0.005035</td>\n",
              "      <td>0.005108</td>\n",
              "      <td>0.005810</td>\n",
              "      <td>0.166667</td>\n",
              "    </tr>\n",
              "    <tr>\n",
              "      <th>1</th>\n",
              "      <td>0 days 00:13:00</td>\n",
              "      <td>0.000032</td>\n",
              "      <td>0.005665</td>\n",
              "      <td>0.005462</td>\n",
              "      <td>0.005541</td>\n",
              "      <td>0.005901</td>\n",
              "      <td>0.083333</td>\n",
              "    </tr>\n",
              "    <tr>\n",
              "      <th>2</th>\n",
              "      <td>0 days 00:14:00</td>\n",
              "      <td>0.000035</td>\n",
              "      <td>0.005876</td>\n",
              "      <td>0.005775</td>\n",
              "      <td>0.005857</td>\n",
              "      <td>0.005901</td>\n",
              "      <td>0.000000</td>\n",
              "    </tr>\n",
              "    <tr>\n",
              "      <th>3</th>\n",
              "      <td>0 days 00:15:00</td>\n",
              "      <td>0.000035</td>\n",
              "      <td>0.005950</td>\n",
              "      <td>0.005887</td>\n",
              "      <td>0.005970</td>\n",
              "      <td>0.005901</td>\n",
              "      <td>0.000000</td>\n",
              "    </tr>\n",
              "    <tr>\n",
              "      <th>4</th>\n",
              "      <td>0 days 00:16:00</td>\n",
              "      <td>0.000037</td>\n",
              "      <td>0.006049</td>\n",
              "      <td>0.006012</td>\n",
              "      <td>0.006096</td>\n",
              "      <td>0.005901</td>\n",
              "      <td>0.000000</td>\n",
              "    </tr>\n",
              "    <tr>\n",
              "      <th>5</th>\n",
              "      <td>0 days 00:17:00</td>\n",
              "      <td>0.000038</td>\n",
              "      <td>0.006173</td>\n",
              "      <td>0.006132</td>\n",
              "      <td>0.006217</td>\n",
              "      <td>0.006292</td>\n",
              "      <td>0.000000</td>\n",
              "    </tr>\n",
              "    <tr>\n",
              "      <th>6</th>\n",
              "      <td>0 days 00:18:00</td>\n",
              "      <td>0.000040</td>\n",
              "      <td>0.006359</td>\n",
              "      <td>0.006301</td>\n",
              "      <td>0.006389</td>\n",
              "      <td>0.006681</td>\n",
              "      <td>0.000000</td>\n",
              "    </tr>\n",
              "  </tbody>\n",
              "</table>\n",
              "</div>"
            ],
            "text/plain": [
              "          horizon       mse      rmse       mae      mape     mdape  coverage\n",
              "0 0 days 00:12:00  0.000029  0.005416  0.005035  0.005108  0.005810  0.166667\n",
              "1 0 days 00:13:00  0.000032  0.005665  0.005462  0.005541  0.005901  0.083333\n",
              "2 0 days 00:14:00  0.000035  0.005876  0.005775  0.005857  0.005901  0.000000\n",
              "3 0 days 00:15:00  0.000035  0.005950  0.005887  0.005970  0.005901  0.000000\n",
              "4 0 days 00:16:00  0.000037  0.006049  0.006012  0.006096  0.005901  0.000000\n",
              "5 0 days 00:17:00  0.000038  0.006173  0.006132  0.006217  0.006292  0.000000\n",
              "6 0 days 00:18:00  0.000040  0.006359  0.006301  0.006389  0.006681  0.000000"
            ]
          },
          "metadata": {
            "tags": []
          },
          "execution_count": 29
        }
      ]
    },
    {
      "cell_type": "markdown",
      "metadata": {
        "id": "uOKUd6Z2CSN2"
      },
      "source": [
        "이제 n개의 샘플로 학습 및 추론을 해보고 모의 투자를 진행해보자."
      ]
    },
    {
      "cell_type": "code",
      "metadata": {
        "id": "fCpMCiuEAooS"
      },
      "source": [
        "# train 데이터 상단의 n개 샘플로 validation set를 구성하여 학습 및 추론\n",
        "n = 700\n",
        "valid_x_df = train_x_df[train_x_df.sample_id < n]\n",
        "valid_y_df = train_y_df[train_y_df.sample_id < n]\n",
        "\n",
        "valid_x_array = df2d_to_array3d(valid_x_df)\n",
        "valid_y_array = df2d_to_array3d(valid_y_df)\n",
        "valid_pred_array = np.zeros([n, 120])"
      ],
      "execution_count": null,
      "outputs": []
    },
    {
      "cell_type": "markdown",
      "metadata": {
        "id": "lu52MF5NFGqn"
      },
      "source": [
        "prediction의 방법 고민\n",
        "\n",
        "1. 1분 단위로 t일 때의output을 input의 끝에 붙이고 그 다음은 t+1 일 때의 output을 예측하기\n",
        "\n",
        "2. 바로 120분을 예측"
      ]
    },
    {
      "cell_type": "code",
      "metadata": {
        "colab": {
          "background_save": true,
          "base_uri": "https://localhost:8080/"
        },
        "id": "9jisBrMrBAEN",
        "outputId": "67d8bb68-5821-4ace-cef0-54a50b57fb53"
      },
      "source": [
        "for idx in tqdm(range(valid_x_array.shape[0])):\n",
        "    try:\n",
        "        x_series = valid_x_array[idx,:,1]\n",
        "\n",
        "        x_df = pd.DataFrame()\n",
        "        x_df['ds'] = [start_dt + datetime.timedelta(minutes = time_min) for time_min in np.arange(1, x_series.shape[0]+1).tolist()]\n",
        "        x_df['y'] = x_series.tolist()\n",
        "\n",
        "        prophet = Prophet(seasonality_mode='multiplicative', \n",
        "                  yearly_seasonality=False,\n",
        "                  weekly_seasonality=False, daily_seasonality=False,\n",
        "                  changepoint_range=0.97,  # changepoint range를 바꿔준다. (큰 영향을 끼치지는 않는듯하다.)\n",
        "                  changepoint_prior_scale=0.1  # 오버피팅, 언더피팅을 피하기 위해 조정해준다.\n",
        "                  )\n",
        "        prophet.add_seasonality(name='first_seasonality', period=1/8, fourier_order=15) # seasonality 추가\n",
        "        prophet.add_seasonality(name='second_seasonality', period=1/12, fourier_order=7) # seasonality 추가\n",
        "        prophet.fit(x_df)\n",
        "\n",
        "        # 120분 테스트 데이터를 예측\n",
        "        future_data = prophet.make_future_dataframe(periods=120, freq='min')\n",
        "        forecast_data = prophet.predict(future_data)\n",
        "\n",
        "        pred_y = forecast_data.yhat.values[-120:]\n",
        "        pred_y_lower = forecast_data.yhat_lower.values[-120:]\n",
        "        pred_y_upper = forecast_data.yhat_upper.values[-120:]\n",
        "\n",
        "        valid_pred_array[idx,:] = pred_y\n",
        "    except:\n",
        "        print(idx, \" 샘플은 수렴하지 않습니다.\")\n",
        "        pass\n"
      ],
      "execution_count": null,
      "outputs": [
        {
          "output_type": "stream",
          "text": [
            "100%|██████████| 700/700 [1:07:02<00:00,  5.75s/it]\n"
          ],
          "name": "stderr"
        }
      ]
    },
    {
      "cell_type": "code",
      "metadata": {
        "colab": {
          "base_uri": "https://localhost:8080/"
        },
        "id": "GLNpW4eetFH5",
        "outputId": "45bf154e-c43c-4a61-ee63-ed5f1ed2f614"
      },
      "source": [
        "print(valid_pred_array)\n",
        "print(np.argmax(valid_pred_array,axis=1))"
      ],
      "execution_count": null,
      "outputs": [
        {
          "output_type": "stream",
          "text": [
            "[[1.00128089 1.00125949 1.00126894 ... 1.02272085 1.02269171 1.02262663]\n",
            " [0.9991915  0.99900462 0.9987667  ... 1.00306992 1.00290597 1.00252641]\n",
            " [0.99802513 0.99799649 0.99806103 ... 1.01198163 1.0116842  1.01147621]\n",
            " ...\n",
            " [1.00227792 1.00248988 1.00278326 ... 1.02980981 1.03004524 1.03023791]\n",
            " [0.99940848 0.99949911 0.999634   ... 1.00269578 1.00244042 1.00226959]\n",
            " [1.00028525 1.00043995 1.00054314 ... 1.00691017 1.00694955 1.0069363 ]]\n",
            "[117  82 110   0   0 112   0 110 119  40   0   0 102  10   4 119   0 115\n",
            " 119   0   0 105 119  45   3 106  80   0   0 119  70   7  59   0   3 102\n",
            " 119 119   3 119   0  55   0  50   5 114 119 119 119   0 119  77 119   0\n",
            "   0  93 119 119   0 103 119  90   0   2 117 119   6   3  47   0 119 119\n",
            "  32 119 119   0   0  23 119   6 106   8   0  25 108   0 119  61  70  49\n",
            "   5  84  23   0 111 119  24   0  51  79 119  15  58   8  66 117   0  46\n",
            "   0   0 117  18 119  98 104 118  90 101  50   0  76  47   0  67   9   0\n",
            "   0  87   0   7   0  50 119   2  55   0   0  17   2   0   0 119 119 119\n",
            " 119   5  37   4 119   0 105  98   0 119  56  38  91 119   0  67  83   0\n",
            "   0  16   0 102   0   0   0   0 119   6  94   0  98   0   7   4 112  26\n",
            "  24  75  92 119  89  39  14   0 119 119  38   0   0 119 119   0  14 119\n",
            "  73 119 119   0  47   0 115  89   0 119 117   0 100 119  18   0 119  48\n",
            " 111   0   0 105 119  93   0  81 100 119 119   0 119 114   0  44   0 119\n",
            "   0 119  56 119 119   0   0  97  11 119 119  80 113   0   0  11  98  14\n",
            "  75   3 119   0 119 111  94 114   4  29   0   0  44   0 119   0  78   0\n",
            "   6  19  10 114   0 119 108  24  33  14   0   0  19   0   1   0 119   0\n",
            " 119   0  10   0 112 119  37   0   0 104  77  46 119   0 117 110  50 119\n",
            " 116 119 119   4 113 119   0 119 119  12 118 119   0 119   0  13   0 119\n",
            " 118   1  30 119   1   0 119 119   7  96 119   3   0   0 119 119 119  80\n",
            "   0 110   0  15   0   0 119   0 119  76   0   5   0   3   0   0   0   0\n",
            "   0   7 119 115  24 119 119   5 119 119 119 119 119   0   0 119 108   0\n",
            " 111 119 119   0   0   0   1   0 119 119   0  55  61 119   8   0  70 119\n",
            "   0   5   0 119   0 117   1 112   4 102  72   2 113  10   0  96  81  26\n",
            " 119 119 119  10 119  61 113  74   0   0 119   0   0   0   0  41  79   0\n",
            " 119 118 119 114 119 104   0   0   0   0   0 119 109  35  16  65   0   4\n",
            " 118  95  84  32   7 119  35  34   0  70 119  83  95   0  11   0  63   0\n",
            "  50  95   9   0  41   0 119   9   7 118  11   0 110  10  14 119   0 107\n",
            " 119 119 119   0   0   0 108  82 118   0   0   0  11 100   0   0   0 119\n",
            "   0   0  95   0   0   0  15  54  47   1   0 119 119 119 109 118   0 119\n",
            "   9  82   0 119 119 110 112 114 117 115 119  56   0   0   0   0   0  85\n",
            " 119 115 119   0   0   0 119  34 119 109   0  18 114   1 119  44 119 119\n",
            "  30 119  74  79   0   2   0 119  28  23   7 119   0   0 119  66   5 110\n",
            "   8 119   6 119 119  98 119   0 119   0 108   0   0   3 119 119   0  53\n",
            "  19  31   2  68   0 107 119 112  58 119 115  67 119   4   0 117 117 119\n",
            "   0 119  23   0 119  12 107  27  63 119   0   0 113 119   0   0 119  30\n",
            "  91 119  54   0   0   0   0   8  65 119  48  43 119   0   0  66   1  90\n",
            " 119 119 119   0   0 119  76   0 117   2   0   0   0   0   0 119  17 119\n",
            " 113   0 119 119 114   9   0 119   0 119   0 119   0   0   4   6   0 113\n",
            " 112   0   0 119   0 119   7   0   3 105 119 118   0   3   0   5   0  10\n",
            " 114   0  69 119 119 119   0 102 119   0  59 104   3 119 119 115  34   6\n",
            " 119   0  93   0  86  99 119   0 119 119   0 119   0   0   0   0 119 119\n",
            "  60  57   0 118   5   0 109   0   0   3 119   0   0 103  18   0 119   0\n",
            "   0   0 110   0  18   0   6  86 119   0 119 119  99   0 116  21   0   0\n",
            " 110 119   0 119   0 105  77   0  10  66 119  99  34   0   3   0 119   0\n",
            "   0 119 119   1   1   0 119 119 117  71   0 119 119 119 118   0 119   3\n",
            "   0 113 113 119 115  34  92   0   1 111   0   0 119 119   0   4  14 119\n",
            "  23  70   0   0   0 119  88   0   0   0  55 119 119 100 119   0  12 119\n",
            " 119 110   0  31   0 112   5   0   0  12 115   2   0 119  95 119 119  37\n",
            "   4  91  24   4   1   0   9  74   0  53  38  26 119   0  39   3  10 119\n",
            "   0  24 119   0  21 119  49   0  78 118   6   6 119   0 119   0 115  81\n",
            " 119   0   0   0  94  13 119   0   0 104 119  60 109  99 119   0 119 102\n",
            " 119  21 119 119   0 119  69  36  50   0 119   0 107 119   0   0   0  97\n",
            "  28   4 119  68   0   1  52 119   3 119  84  23   0 119   0   0  14  26\n",
            "   9   7  64  76 110   7   0   0  64 119   0 116  92   2  16 119   0   7\n",
            "  92 119 119  90  89 119   5   7 119   0  74   0 119   0   0 110 104   0\n",
            "  32 119 119   0   0 119 119 119 111 101]\n"
          ],
          "name": "stdout"
        }
      ]
    },
    {
      "cell_type": "markdown",
      "metadata": {
        "id": "Z8VDqjGO9IVf"
      },
      "source": [
        "n%를 기준으로 100% 매수를 선택한 이유\n",
        "- 529번의 기회동안 n%가 오를거라 예측하는 샘플은 많지 않을 것\n",
        "- 대회의 특성상 안전하게 낮은 점수를 받는 것 보다는 위험을 감수하고 큰 점수를 받는 것이 낫다"
      ]
    },
    {
      "cell_type": "code",
      "metadata": {
        "id": "I-F1mpUJBC5K"
      },
      "source": [
        "def array_to_submission(x_array, pred_array):\n",
        "    # 입력 x_arrry와 출력 pred_arry를 통해서 \n",
        "    # buy_quantitiy와 sell_time을 결정\n",
        "    submission = pd.DataFrame(np.zeros([pred_array.shape[0],2], np.int64),\n",
        "                columns = ['buy_quantity', 'sell_time'])\n",
        "    submission = submission.reset_index()\n",
        "    submission.loc[:, 'buy_quantity'] = 0.1\n",
        "    \n",
        "    buy_price = []\n",
        "    for idx, sell_time in enumerate(np.argmax(pred_array, axis = 1)):\n",
        "        buy_price.append(pred_array[idx, sell_time])\n",
        "    buy_price = np.array(buy_price)\n",
        "    # 11% 초과 상승으로 예측한 sample에 대해서만 100% 매수  + 11% 이하 8.5% 초과 상승으로 예측한 sample에 대해서 40% 매수\n",
        "    submission.loc[:, 'buy_quantity'] = (buy_price > 1.11) * 0.6 + (buy_price>1.085)  * 0.4\n",
        "    # 모델의 예측값 중 최대 값에 해당하는 시간에 매도\n",
        "    submission['sell_time'] = np.argmax(pred_array, axis = 1)\n",
        "    submission.columns = ['sample_id','buy_quantity', 'sell_time']\n",
        "    return submission"
      ],
      "execution_count": null,
      "outputs": []
    },
    {
      "cell_type": "code",
      "metadata": {
        "id": "2qf5dNQpBEzw"
      },
      "source": [
        "valid_submission = array_to_submission(valid_x_array, valid_pred_array)"
      ],
      "execution_count": null,
      "outputs": []
    },
    {
      "cell_type": "code",
      "metadata": {
        "colab": {
          "base_uri": "https://localhost:8080/",
          "height": 419
        },
        "id": "RDe8iDe-BGz4",
        "outputId": "539cdf83-5bd7-4538-c3a2-1a3de925f3e6"
      },
      "source": [
        "valid_submission"
      ],
      "execution_count": null,
      "outputs": [
        {
          "output_type": "execute_result",
          "data": {
            "text/html": [
              "<div>\n",
              "<style scoped>\n",
              "    .dataframe tbody tr th:only-of-type {\n",
              "        vertical-align: middle;\n",
              "    }\n",
              "\n",
              "    .dataframe tbody tr th {\n",
              "        vertical-align: top;\n",
              "    }\n",
              "\n",
              "    .dataframe thead th {\n",
              "        text-align: right;\n",
              "    }\n",
              "</style>\n",
              "<table border=\"1\" class=\"dataframe\">\n",
              "  <thead>\n",
              "    <tr style=\"text-align: right;\">\n",
              "      <th></th>\n",
              "      <th>sample_id</th>\n",
              "      <th>buy_quantity</th>\n",
              "      <th>sell_time</th>\n",
              "    </tr>\n",
              "  </thead>\n",
              "  <tbody>\n",
              "    <tr>\n",
              "      <th>0</th>\n",
              "      <td>0</td>\n",
              "      <td>0.0</td>\n",
              "      <td>117</td>\n",
              "    </tr>\n",
              "    <tr>\n",
              "      <th>1</th>\n",
              "      <td>1</td>\n",
              "      <td>0.0</td>\n",
              "      <td>82</td>\n",
              "    </tr>\n",
              "    <tr>\n",
              "      <th>2</th>\n",
              "      <td>2</td>\n",
              "      <td>0.0</td>\n",
              "      <td>110</td>\n",
              "    </tr>\n",
              "    <tr>\n",
              "      <th>3</th>\n",
              "      <td>3</td>\n",
              "      <td>0.0</td>\n",
              "      <td>0</td>\n",
              "    </tr>\n",
              "    <tr>\n",
              "      <th>4</th>\n",
              "      <td>4</td>\n",
              "      <td>0.0</td>\n",
              "      <td>0</td>\n",
              "    </tr>\n",
              "    <tr>\n",
              "      <th>...</th>\n",
              "      <td>...</td>\n",
              "      <td>...</td>\n",
              "      <td>...</td>\n",
              "    </tr>\n",
              "    <tr>\n",
              "      <th>995</th>\n",
              "      <td>995</td>\n",
              "      <td>0.0</td>\n",
              "      <td>119</td>\n",
              "    </tr>\n",
              "    <tr>\n",
              "      <th>996</th>\n",
              "      <td>996</td>\n",
              "      <td>0.0</td>\n",
              "      <td>119</td>\n",
              "    </tr>\n",
              "    <tr>\n",
              "      <th>997</th>\n",
              "      <td>997</td>\n",
              "      <td>0.0</td>\n",
              "      <td>119</td>\n",
              "    </tr>\n",
              "    <tr>\n",
              "      <th>998</th>\n",
              "      <td>998</td>\n",
              "      <td>0.0</td>\n",
              "      <td>111</td>\n",
              "    </tr>\n",
              "    <tr>\n",
              "      <th>999</th>\n",
              "      <td>999</td>\n",
              "      <td>0.0</td>\n",
              "      <td>101</td>\n",
              "    </tr>\n",
              "  </tbody>\n",
              "</table>\n",
              "<p>1000 rows × 3 columns</p>\n",
              "</div>"
            ],
            "text/plain": [
              "     sample_id  buy_quantity  sell_time\n",
              "0            0           0.0        117\n",
              "1            1           0.0         82\n",
              "2            2           0.0        110\n",
              "3            3           0.0          0\n",
              "4            4           0.0          0\n",
              "..         ...           ...        ...\n",
              "995        995           0.0        119\n",
              "996        996           0.0        119\n",
              "997        997           0.0        119\n",
              "998        998           0.0        111\n",
              "999        999           0.0        101\n",
              "\n",
              "[1000 rows x 3 columns]"
            ]
          },
          "metadata": {
            "tags": []
          },
          "execution_count": 141
        }
      ]
    },
    {
      "cell_type": "code",
      "metadata": {
        "colab": {
          "base_uri": "https://localhost:8080/"
        },
        "id": "VBVUEmoSBIS3",
        "outputId": "bcb8423c-2bba-4b0c-f909-9158e0a6e8a0"
      },
      "source": [
        "# 위에서 학습한 n가지 sample에 대해\n",
        "# i가지 case에서 설정한 % 이상 상승한다고 추론함.\n",
        "valid_submission.buy_quantity.value_counts()"
      ],
      "execution_count": null,
      "outputs": [
        {
          "output_type": "execute_result",
          "data": {
            "text/plain": [
              "0.0    985\n",
              "1.0      9\n",
              "0.4      6\n",
              "Name: buy_quantity, dtype: int64"
            ]
          },
          "metadata": {
            "tags": []
          },
          "execution_count": 142
        }
      ]
    },
    {
      "cell_type": "code",
      "metadata": {
        "id": "lOqp6rZ0BQqg"
      },
      "source": [
        "def df2d_to_answer(df_2d):\n",
        "    # valid_y_df로부터\n",
        "    # open 가격 정보가 포함된\n",
        "    # [샘플 수, 120분] 크기의 \n",
        "    # 2차원 array를 반환하는 함수\n",
        "    feature_size = df_2d.iloc[:,2:].shape[1]\n",
        "    time_size = len(df_2d.time.value_counts())\n",
        "    sample_size = len(df_2d.sample_id.value_counts())\n",
        "    sample_index = df_2d.sample_id.value_counts().index\n",
        "    array_2d = df_2d.open.values.reshape([sample_size, time_size])\n",
        "    sample_index = list(sample_index)\n",
        "    return array_2d, sample_index\n",
        "\n",
        "\n",
        "def COIN(y_df, submission, df2d_to_answer = df2d_to_answer):\n",
        "    # 2차원 데이터프레임에서 open 시점 데이터만 추출하여 array로 복원\n",
        "    # sample_id정보를 index에 저장\n",
        "    y_array, index = df2d_to_answer(y_df)\n",
        "    \n",
        "    # index 기준으로 submission을 다시 선택\n",
        "    submission = submission.set_index(submission.columns[0])\n",
        "    submission = submission.iloc[index, :]    \n",
        "    \n",
        "    # 초기 투자 비용은 10000 달러\n",
        "    total_momey      = 10000 # dollars\n",
        "    total_momey_list = []\n",
        "    \n",
        "    # 가장 처음 sample_id값\n",
        "    start_index = submission.index[0]\n",
        "    for row_idx in submission.index:\n",
        "        sell_time  = submission.loc[row_idx, 'sell_time']\n",
        "        buy_price  = y_array[row_idx - start_index, 0]\n",
        "        sell_price = y_array[row_idx - start_index, sell_time]\n",
        "        buy_quantity = submission.loc[row_idx, 'buy_quantity'] * total_momey\n",
        "        residual = total_momey - buy_quantity\n",
        "        ratio = sell_price / buy_price\n",
        "        total_momey = buy_quantity * ratio * 0.9995 * 0.9995 + residual        \n",
        "        total_momey_list.append(total_momey)\n",
        "        \n",
        "    return total_momey, total_momey_list"
      ],
      "execution_count": null,
      "outputs": []
    },
    {
      "cell_type": "code",
      "metadata": {
        "id": "2nSguTxjBSkf"
      },
      "source": [
        "total_momey, total_momey_list = COIN(valid_y_df, valid_submission)"
      ],
      "execution_count": null,
      "outputs": []
    },
    {
      "cell_type": "code",
      "metadata": {
        "id": "1olB8FwtBWFn"
      },
      "source": [
        "# 투자 후 금액\n",
        "print(total_momey)"
      ],
      "execution_count": null,
      "outputs": []
    },
    {
      "cell_type": "code",
      "metadata": {
        "id": "6D7U-9lxBXrD"
      },
      "source": [
        "# 투자 히스토리\n",
        "plt.plot(total_momey_list)\n",
        "plt.title(\"history\")\n",
        "plt.show()"
      ],
      "execution_count": null,
      "outputs": []
    },
    {
      "cell_type": "code",
      "metadata": {
        "colab": {
          "base_uri": "https://localhost:8080/"
        },
        "id": "W4re7feKBdCv",
        "outputId": "800fec92-9aba-45f1-c924-55a7fd948ad0"
      },
      "source": [
        "test_pred_array = np.zeros([test_x_array.shape[0],\n",
        "                           120])\n",
        "for idx in tqdm(range(test_x_array.shape[0])):\n",
        "    try:\n",
        "        x_series = test_x_array[idx,:,1]\n",
        "\n",
        "        x_df = pd.DataFrame()\n",
        "        x_df['ds'] = [start_dt + datetime.timedelta(minutes = time_min) for time_min in np.arange(1, x_series.shape[0]+1).tolist()]\n",
        "        x_df['y'] = x_series.tolist()\n",
        "    \n",
        "        prophet = Prophet(seasonality_mode='multiplicative', \n",
        "                  yearly_seasonality=False,\n",
        "                  weekly_seasonality=False, daily_seasonality=False,\n",
        "                  changepoint_range=0.97,  # changepoint range를 바꿔준다. (큰 영향을 끼치지는 않는듯하다.)\n",
        "                  changepoint_prior_scale=0.1  # 오버피팅, 언더피팅을 피하기 위해 조정해준다.\n",
        "                  )\n",
        "        prophet.add_seasonality(name='first_seasonality', period=1/8, fourier_order=15) # seasonality 추가\n",
        "        prophet.add_seasonality(name='second_seasonality', period=1/12, fourier_order=7) # seasonality 추가\n",
        "        prophet.fit(x_df)\n",
        "\n",
        "        # 120분 테스트 데이터를 예측\n",
        "        future_data = prophet.make_future_dataframe(periods=120, freq='min')\n",
        "        forecast_data = prophet.predict(future_data)\n",
        "\n",
        "        pred_y = forecast_data.yhat.values[-120:]\n",
        "        pred_y_lower = forecast_data.yhat_lower.values[-120:]\n",
        "        pred_y_upper = forecast_data.yhat_upper.values[-120:]\n",
        "\n",
        "        test_pred_array[idx,:] = pred_y\n",
        "    except:\n",
        "        print(idx, \" 샘플은 수렴하지 않습니다.\")\n",
        "        pass"
      ],
      "execution_count": null,
      "outputs": [
        {
          "output_type": "stream",
          "text": [
            "100%|██████████| 529/529 [48:54<00:00,  5.55s/it]\n"
          ],
          "name": "stderr"
        }
      ]
    },
    {
      "cell_type": "code",
      "metadata": {
        "id": "_iZkIN9xBfUK"
      },
      "source": [
        "submission = array_to_submission(test_x_array, test_pred_array)"
      ],
      "execution_count": null,
      "outputs": []
    },
    {
      "cell_type": "code",
      "metadata": {
        "id": "13-g0SVuBhgb"
      },
      "source": [
        "submission.to_csv(path+\"/coin_submission19.csv\", index = False)"
      ],
      "execution_count": null,
      "outputs": []
    }
  ]
}