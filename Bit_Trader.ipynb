{
  "nbformat": 4,
  "nbformat_minor": 0,
  "metadata": {
    "colab": {
      "name": "Bit_Trader.ipynb",
      "provenance": [],
      "collapsed_sections": [],
      "mount_file_id": "1sVi8xpYekwKByTwRIfisWb7aRZzajLRz",
      "authorship_tag": "ABX9TyPrElu1hnqj9XNUrps4Pp91",
      "include_colab_link": true
    },
    "kernelspec": {
      "name": "python3",
      "display_name": "Python 3"
    },
    "accelerator": "GPU"
  },
  "cells": [
    {
      "cell_type": "markdown",
      "metadata": {
        "id": "view-in-github",
        "colab_type": "text"
      },
      "source": [
        "<a href=\"https://colab.research.google.com/github/Kingnamji/DACON_BIT_TRADER/blob/main/Bit_Trader.ipynb\" target=\"_parent\"><img src=\"https://colab.research.google.com/assets/colab-badge.svg\" alt=\"Open In Colab\"/></a>"
      ]
    },
    {
      "cell_type": "markdown",
      "metadata": {
        "id": "pE2cdmn-1pWm"
      },
      "source": [
        "데이콘 인공지능 비트 트레이더 경진대회"
      ]
    },
    {
      "cell_type": "code",
      "metadata": {
        "colab": {
          "base_uri": "https://localhost:8080/"
        },
        "id": "AAac5VYZWwle",
        "outputId": "0752a544-a4b5-404c-a1e5-7b8aa4af0a28"
      },
      "source": [
        "!pip install statsmodels"
      ],
      "execution_count": 3,
      "outputs": [
        {
          "output_type": "stream",
          "text": [
            "Requirement already satisfied: statsmodels in /usr/local/lib/python3.7/dist-packages (0.10.2)\n",
            "Requirement already satisfied: patsy>=0.4.0 in /usr/local/lib/python3.7/dist-packages (from statsmodels) (0.5.1)\n",
            "Requirement already satisfied: numpy>=1.11 in /usr/local/lib/python3.7/dist-packages (from statsmodels) (1.19.5)\n",
            "Requirement already satisfied: pandas>=0.19 in /usr/local/lib/python3.7/dist-packages (from statsmodels) (1.1.5)\n",
            "Requirement already satisfied: scipy>=0.18 in /usr/local/lib/python3.7/dist-packages (from statsmodels) (1.4.1)\n",
            "Requirement already satisfied: six in /usr/local/lib/python3.7/dist-packages (from patsy>=0.4.0->statsmodels) (1.15.0)\n",
            "Requirement already satisfied: pytz>=2017.2 in /usr/local/lib/python3.7/dist-packages (from pandas>=0.19->statsmodels) (2018.9)\n",
            "Requirement already satisfied: python-dateutil>=2.7.3 in /usr/local/lib/python3.7/dist-packages (from pandas>=0.19->statsmodels) (2.8.1)\n"
          ],
          "name": "stdout"
        }
      ]
    },
    {
      "cell_type": "code",
      "metadata": {
        "colab": {
          "base_uri": "https://localhost:8080/"
        },
        "id": "beHQF1hBWgIX",
        "outputId": "4d8381c5-f725-4515-d5c4-7941203882e7"
      },
      "source": [
        "!pip install pmdarima"
      ],
      "execution_count": 4,
      "outputs": [
        {
          "output_type": "stream",
          "text": [
            "Collecting pmdarima\n",
            "\u001b[?25l  Downloading https://files.pythonhosted.org/packages/e4/a8/bdf15174e35d072e145d16388b1d3bc7605b752610170cb022a290411427/pmdarima-1.8.0-cp37-cp37m-manylinux1_x86_64.whl (1.5MB)\n",
            "\u001b[K     |████████████████████████████████| 1.5MB 16.4MB/s \n",
            "\u001b[?25hRequirement already satisfied: joblib>=0.11 in /usr/local/lib/python3.7/dist-packages (from pmdarima) (1.0.1)\n",
            "Requirement already satisfied: scikit-learn>=0.22 in /usr/local/lib/python3.7/dist-packages (from pmdarima) (0.22.2.post1)\n",
            "Requirement already satisfied: urllib3 in /usr/local/lib/python3.7/dist-packages (from pmdarima) (1.24.3)\n",
            "Requirement already satisfied: scipy>=1.3.2 in /usr/local/lib/python3.7/dist-packages (from pmdarima) (1.4.1)\n",
            "Requirement already satisfied: numpy>=1.17.3 in /usr/local/lib/python3.7/dist-packages (from pmdarima) (1.19.5)\n",
            "Collecting statsmodels!=0.12.0,>=0.11\n",
            "\u001b[?25l  Downloading https://files.pythonhosted.org/packages/da/69/8eef30a6237c54f3c0b524140e2975f4b1eea3489b45eb3339574fc8acee/statsmodels-0.12.2-cp37-cp37m-manylinux1_x86_64.whl (9.5MB)\n",
            "\u001b[K     |████████████████████████████████| 9.5MB 55.0MB/s \n",
            "\u001b[?25hRequirement already satisfied: setuptools!=50.0.0,>=38.6.0 in /usr/local/lib/python3.7/dist-packages (from pmdarima) (54.1.2)\n",
            "Requirement already satisfied: pandas>=0.19 in /usr/local/lib/python3.7/dist-packages (from pmdarima) (1.1.5)\n",
            "Collecting Cython<0.29.18,>=0.29\n",
            "\u001b[?25l  Downloading https://files.pythonhosted.org/packages/dc/6c/198da24bf0a1d5b5ee6119e891c5300bb1b0b8904832fac9ff62d4e381c9/Cython-0.29.17-cp37-cp37m-manylinux1_x86_64.whl (2.1MB)\n",
            "\u001b[K     |████████████████████████████████| 2.1MB 41.6MB/s \n",
            "\u001b[?25hRequirement already satisfied: patsy>=0.5 in /usr/local/lib/python3.7/dist-packages (from statsmodels!=0.12.0,>=0.11->pmdarima) (0.5.1)\n",
            "Requirement already satisfied: pytz>=2017.2 in /usr/local/lib/python3.7/dist-packages (from pandas>=0.19->pmdarima) (2018.9)\n",
            "Requirement already satisfied: python-dateutil>=2.7.3 in /usr/local/lib/python3.7/dist-packages (from pandas>=0.19->pmdarima) (2.8.1)\n",
            "Requirement already satisfied: six in /usr/local/lib/python3.7/dist-packages (from patsy>=0.5->statsmodels!=0.12.0,>=0.11->pmdarima) (1.15.0)\n",
            "Installing collected packages: statsmodels, Cython, pmdarima\n",
            "  Found existing installation: statsmodels 0.10.2\n",
            "    Uninstalling statsmodels-0.10.2:\n",
            "      Successfully uninstalled statsmodels-0.10.2\n",
            "  Found existing installation: Cython 0.29.22\n",
            "    Uninstalling Cython-0.29.22:\n",
            "      Successfully uninstalled Cython-0.29.22\n",
            "Successfully installed Cython-0.29.17 pmdarima-1.8.0 statsmodels-0.12.2\n"
          ],
          "name": "stdout"
        }
      ]
    },
    {
      "cell_type": "code",
      "metadata": {
        "colab": {
          "base_uri": "https://localhost:8080/"
        },
        "id": "UlEoYLxQ1oBp",
        "outputId": "85cc2fc1-3f77-4186-d90b-2a18d912fe1d"
      },
      "source": [
        "from google.colab import drive\n",
        "drive.mount('/content/drive/')"
      ],
      "execution_count": 5,
      "outputs": [
        {
          "output_type": "stream",
          "text": [
            "Drive already mounted at /content/drive/; to attempt to forcibly remount, call drive.mount(\"/content/drive/\", force_remount=True).\n"
          ],
          "name": "stdout"
        }
      ]
    },
    {
      "cell_type": "code",
      "metadata": {
        "id": "trs4PZm-5llr"
      },
      "source": [
        "import sys, os\n",
        "\n",
        "import numpy as np\n",
        "import pandas as pd\n",
        "import gc\n",
        "import math\n",
        "import os.path\n",
        "import time\n",
        "import matplotlib.pyplot as plt\n",
        "from datetime import timedelta, datetime\n",
        "from dateutil import parser\n",
        "from tqdm import tqdm\n",
        "import copy\n",
        "from statsmodels.tsa.arima.model import ARIMA\n",
        "import warnings\n",
        "warnings.filterwarnings(\"ignore\")\n",
        "import tensorflow as tf\n",
        "from tensorflow import keras\n",
        "import seaborn as sns\n",
        "\n",
        "\n",
        "# tools to plot a graph\n",
        "\n",
        "%matplotlib inline\n",
        "import matplotlib.pyplot as plt\n"
      ],
      "execution_count": 6,
      "outputs": []
    },
    {
      "cell_type": "code",
      "metadata": {
        "id": "qhyMfUoK7drC"
      },
      "source": [
        "os.chdir('/content/drive/MyDrive/Colab Notebooks/데이콘/open')"
      ],
      "execution_count": 7,
      "outputs": []
    },
    {
      "cell_type": "markdown",
      "metadata": {
        "id": "8bBoAqQb7dAe"
      },
      "source": [
        "Read datasets from csv file"
      ]
    },
    {
      "cell_type": "code",
      "metadata": {
        "colab": {
          "base_uri": "https://localhost:8080/",
          "height": 204
        },
        "id": "5psZ7tKy7MaZ",
        "outputId": "579b4905-7713-4463-ce7d-47193762adfd"
      },
      "source": [
        "train_x_df = pd.read_csv('train_x_df.csv')\n",
        "train_y_df = pd.read_csv('train_y_df.csv')\n",
        "test_x_df = pd.read_csv('test_x_df.csv')\n",
        "\n",
        "train_x_df.head()"
      ],
      "execution_count": 8,
      "outputs": [
        {
          "output_type": "execute_result",
          "data": {
            "text/html": [
              "<div>\n",
              "<style scoped>\n",
              "    .dataframe tbody tr th:only-of-type {\n",
              "        vertical-align: middle;\n",
              "    }\n",
              "\n",
              "    .dataframe tbody tr th {\n",
              "        vertical-align: top;\n",
              "    }\n",
              "\n",
              "    .dataframe thead th {\n",
              "        text-align: right;\n",
              "    }\n",
              "</style>\n",
              "<table border=\"1\" class=\"dataframe\">\n",
              "  <thead>\n",
              "    <tr style=\"text-align: right;\">\n",
              "      <th></th>\n",
              "      <th>sample_id</th>\n",
              "      <th>time</th>\n",
              "      <th>coin_index</th>\n",
              "      <th>open</th>\n",
              "      <th>high</th>\n",
              "      <th>low</th>\n",
              "      <th>close</th>\n",
              "      <th>volume</th>\n",
              "      <th>quote_av</th>\n",
              "      <th>trades</th>\n",
              "      <th>tb_base_av</th>\n",
              "      <th>tb_quote_av</th>\n",
              "    </tr>\n",
              "  </thead>\n",
              "  <tbody>\n",
              "    <tr>\n",
              "      <th>0</th>\n",
              "      <td>0</td>\n",
              "      <td>0</td>\n",
              "      <td>7</td>\n",
              "      <td>1.010004</td>\n",
              "      <td>1.010004</td>\n",
              "      <td>1.009612</td>\n",
              "      <td>1.010004</td>\n",
              "      <td>8.382875e+05</td>\n",
              "      <td>43160.632812</td>\n",
              "      <td>451.157288</td>\n",
              "      <td>7.326834e+05</td>\n",
              "      <td>37725.183594</td>\n",
              "    </tr>\n",
              "    <tr>\n",
              "      <th>1</th>\n",
              "      <td>0</td>\n",
              "      <td>1</td>\n",
              "      <td>7</td>\n",
              "      <td>1.009808</td>\n",
              "      <td>1.009808</td>\n",
              "      <td>1.009808</td>\n",
              "      <td>1.009808</td>\n",
              "      <td>1.622420e+05</td>\n",
              "      <td>8352.220703</td>\n",
              "      <td>39.231071</td>\n",
              "      <td>0.000000e+00</td>\n",
              "      <td>0.000000</td>\n",
              "    </tr>\n",
              "    <tr>\n",
              "      <th>2</th>\n",
              "      <td>0</td>\n",
              "      <td>2</td>\n",
              "      <td>7</td>\n",
              "      <td>1.009808</td>\n",
              "      <td>1.010200</td>\n",
              "      <td>1.009808</td>\n",
              "      <td>1.010200</td>\n",
              "      <td>1.664967e+04</td>\n",
              "      <td>857.377808</td>\n",
              "      <td>58.846603</td>\n",
              "      <td>1.664967e+04</td>\n",
              "      <td>857.377808</td>\n",
              "    </tr>\n",
              "    <tr>\n",
              "      <th>3</th>\n",
              "      <td>0</td>\n",
              "      <td>3</td>\n",
              "      <td>7</td>\n",
              "      <td>1.010200</td>\n",
              "      <td>1.011181</td>\n",
              "      <td>1.010200</td>\n",
              "      <td>1.011181</td>\n",
              "      <td>2.586971e+06</td>\n",
              "      <td>133310.343750</td>\n",
              "      <td>431.541779</td>\n",
              "      <td>2.189147e+06</td>\n",
              "      <td>112811.046875</td>\n",
              "    </tr>\n",
              "    <tr>\n",
              "      <th>4</th>\n",
              "      <td>0</td>\n",
              "      <td>4</td>\n",
              "      <td>7</td>\n",
              "      <td>1.010985</td>\n",
              "      <td>1.010985</td>\n",
              "      <td>1.010200</td>\n",
              "      <td>1.010200</td>\n",
              "      <td>1.129996e+06</td>\n",
              "      <td>58216.867188</td>\n",
              "      <td>176.539810</td>\n",
              "      <td>0.000000e+00</td>\n",
              "      <td>0.000000</td>\n",
              "    </tr>\n",
              "  </tbody>\n",
              "</table>\n",
              "</div>"
            ],
            "text/plain": [
              "   sample_id  time  coin_index  ...      trades    tb_base_av    tb_quote_av\n",
              "0          0     0           7  ...  451.157288  7.326834e+05   37725.183594\n",
              "1          0     1           7  ...   39.231071  0.000000e+00       0.000000\n",
              "2          0     2           7  ...   58.846603  1.664967e+04     857.377808\n",
              "3          0     3           7  ...  431.541779  2.189147e+06  112811.046875\n",
              "4          0     4           7  ...  176.539810  0.000000e+00       0.000000\n",
              "\n",
              "[5 rows x 12 columns]"
            ]
          },
          "metadata": {
            "tags": []
          },
          "execution_count": 8
        }
      ]
    },
    {
      "cell_type": "code",
      "metadata": {
        "colab": {
          "base_uri": "https://localhost:8080/"
        },
        "id": "YSYDK50L8GnD",
        "outputId": "7f541603-3d41-491c-8299-6828da6f0b7e"
      },
      "source": [
        "train_x_df.info()"
      ],
      "execution_count": 9,
      "outputs": [
        {
          "output_type": "stream",
          "text": [
            "<class 'pandas.core.frame.DataFrame'>\n",
            "RangeIndex: 10159560 entries, 0 to 10159559\n",
            "Data columns (total 12 columns):\n",
            " #   Column       Dtype  \n",
            "---  ------       -----  \n",
            " 0   sample_id    int64  \n",
            " 1   time         int64  \n",
            " 2   coin_index   int64  \n",
            " 3   open         float64\n",
            " 4   high         float64\n",
            " 5   low          float64\n",
            " 6   close        float64\n",
            " 7   volume       float64\n",
            " 8   quote_av     float64\n",
            " 9   trades       float64\n",
            " 10  tb_base_av   float64\n",
            " 11  tb_quote_av  float64\n",
            "dtypes: float64(9), int64(3)\n",
            "memory usage: 930.1 MB\n"
          ],
          "name": "stdout"
        }
      ]
    },
    {
      "cell_type": "code",
      "metadata": {
        "colab": {
          "base_uri": "https://localhost:8080/"
        },
        "id": "LeQJvBYKZsbG",
        "outputId": "9669d9d1-5a94-408a-d8c8-37bf8dfc6189"
      },
      "source": [
        "train_x_df.isnull().sum()"
      ],
      "execution_count": 10,
      "outputs": [
        {
          "output_type": "execute_result",
          "data": {
            "text/plain": [
              "sample_id      0\n",
              "time           0\n",
              "coin_index     0\n",
              "open           0\n",
              "high           0\n",
              "low            0\n",
              "close          0\n",
              "volume         0\n",
              "quote_av       0\n",
              "trades         0\n",
              "tb_base_av     0\n",
              "tb_quote_av    0\n",
              "dtype: int64"
            ]
          },
          "metadata": {
            "tags": []
          },
          "execution_count": 10
        }
      ]
    },
    {
      "cell_type": "code",
      "metadata": {
        "id": "5mtR5KJmc5bo"
      },
      "source": [
        "# train_x_df, train_y_df 의 volume 속성이 0인 값 삭제\n",
        "\n",
        "indexNames_x = train_x_df[(train_x_df['volume'] == 0)].index\n",
        "#train_x_df.drop(indexNames_x, inplace = True)"
      ],
      "execution_count": 11,
      "outputs": []
    },
    {
      "cell_type": "code",
      "metadata": {
        "id": "LCAc2a0VZseg"
      },
      "source": [
        "indexNames_y = train_y_df[(train_y_df['volume'] == 0)].index\n",
        "#train_y_df.drop(indexNames_x, inplace = True)"
      ],
      "execution_count": 12,
      "outputs": []
    },
    {
      "cell_type": "code",
      "metadata": {
        "colab": {
          "base_uri": "https://localhost:8080/"
        },
        "id": "9w-ZoYrhg13r",
        "outputId": "9c89b73b-55bc-4c1d-8bdc-452dab46c091"
      },
      "source": [
        "train_x_df.shape"
      ],
      "execution_count": 13,
      "outputs": [
        {
          "output_type": "execute_result",
          "data": {
            "text/plain": [
              "(10159560, 12)"
            ]
          },
          "metadata": {
            "tags": []
          },
          "execution_count": 13
        }
      ]
    },
    {
      "cell_type": "code",
      "metadata": {
        "id": "u7V6PBovkRUh",
        "colab": {
          "base_uri": "https://localhost:8080/"
        },
        "outputId": "6001fe19-6750-4f1a-fd7f-803a1d2a0434"
      },
      "source": [
        "print(train_x_df.shape, train_y_df.shape)"
      ],
      "execution_count": 14,
      "outputs": [
        {
          "output_type": "stream",
          "text": [
            "(10159560, 12) (883440, 12)\n"
          ],
          "name": "stdout"
        }
      ]
    },
    {
      "cell_type": "code",
      "metadata": {
        "id": "alsSJeDrV1-c"
      },
      "source": [
        "def df2d_to_array3d(df_2d):\n",
        "    # 입력 받은 2차원 데이터 프레임을 3차원 numpy array로 변경하는 함수\n",
        "    feature_size = df_2d.iloc[:,2:].shape[1]\n",
        "    time_size = len(df_2d.time.value_counts())\n",
        "    sample_size = len(df_2d.sample_id.value_counts())\n",
        "    array_3d = df_2d.iloc[:,2:].values.reshape([sample_size, time_size, feature_size])\n",
        "    return array_3d"
      ],
      "execution_count": 15,
      "outputs": []
    },
    {
      "cell_type": "code",
      "metadata": {
        "id": "MBnzue3CV6-f"
      },
      "source": [
        "''' 이런 ! '''\n",
        "train_x_array = df2d_to_array3d(train_x_df)\n",
        "train_y_array = df2d_to_array3d(train_y_df)\n",
        "test_x_array = df2d_to_array3d(test_x_df)"
      ],
      "execution_count": 16,
      "outputs": []
    },
    {
      "cell_type": "code",
      "metadata": {
        "id": "VvM2AaR2V7vI",
        "colab": {
          "base_uri": "https://localhost:8080/"
        },
        "outputId": "a3994db0-b1e7-4342-b5a4-89310687e2db"
      },
      "source": [
        "print(f'''\n",
        "train_x_array {train_x_array.shape}\n",
        "train_y_array {train_y_array.shape}\n",
        "test_x_array {test_x_array.shape}\n",
        "''')"
      ],
      "execution_count": 17,
      "outputs": [
        {
          "output_type": "stream",
          "text": [
            "\n",
            "train_x_array (7362, 1380, 10)\n",
            "train_y_array (7362, 120, 10)\n",
            "test_x_array (529, 1380, 10)\n",
            "\n"
          ],
          "name": "stdout"
        }
      ]
    },
    {
      "cell_type": "markdown",
      "metadata": {
        "id": "jYy0mgRFFQEZ"
      },
      "source": [
        "# 샘플 확인하기"
      ]
    },
    {
      "cell_type": "code",
      "metadata": {
        "id": "3EBEyvdqWDvX"
      },
      "source": [
        "def plot_series(x_series, y_series):\n",
        "    #입력 series와 출력 series를 연속적으로 연결하여 시각적으로 보여주는 코드 입니다.\n",
        "    plt.plot(x_series, label = 'input_series')\n",
        "    plt.plot(np.arange(len(x_series), len(x_series)+len(y_series)),\n",
        "             y_series, label = 'output_series')\n",
        "    plt.axhline(1, c = 'red')\n",
        "    plt.legend()"
      ],
      "execution_count": 18,
      "outputs": []
    },
    {
      "cell_type": "code",
      "metadata": {
        "colab": {
          "base_uri": "https://localhost:8080/",
          "height": 265
        },
        "id": "MWCJ9iGHWENf",
        "outputId": "bf4fa235-0644-4514-b790-9fa6b1973122"
      },
      "source": [
        "# sample_id 1012에 해당하는 sample의 분단위 시가 변동 정보 시각화\n",
        "idx = 1012\n",
        "plot_series(train_x_array[idx,:,1], train_y_array[idx,:,1])\n",
        "plt.show()"
      ],
      "execution_count": 19,
      "outputs": [
        {
          "output_type": "display_data",
          "data": {
            "image/png": "[encoded data removed]",
            "text/plain": [
              "<Figure size 432x288 with 1 Axes>"
            ]
          },
          "metadata": {
            "tags": [],
            "needs_background": "light"
          }
        }
      ]
    },
    {
      "cell_type": "markdown",
      "metadata": {
        "id": "kljX5dQxWHXf"
      },
      "source": [
        "# 모델 훈련하기"
      ]
    },
    {
      "cell_type": "markdown",
      "metadata": {
        "id": "Fg9v9mEWWKvu"
      },
      "source": [
        "## train 샘플 훈련하기"
      ]
    },
    {
      "cell_type": "code",
      "metadata": {
        "colab": {
          "base_uri": "https://localhost:8080/",
          "height": 265
        },
        "id": "hulym_1XWKhw",
        "outputId": "15e7a26c-a77b-4557-8784-378b78785e0f"
      },
      "source": [
        "idx = 777\n",
        "# train data 중 sample_id 1121에 해당하는 x_series로 arima 모델을 학습한 후\n",
        "# y_sereis를 추론\n",
        "x_series = train_x_array[idx,:,1]\n",
        "y_series = train_y_array[idx,:,1]\n",
        "\n",
        "# ARIMA의 (p,d,q) 값은 최적화 되지않은 값 입니다.\n",
        "model = ARIMA(x_series, order=(4, 0,0) )\n",
        "fit  = model.fit()\n",
        "preds = fit.predict(1,120, typ='levels')\n",
        "\n",
        "plot_series(x_series, y_series)\n",
        "plt.plot(np.arange(1380, 1380+120), preds, label = 'prediction')\n",
        "plt.legend()\n",
        "plt.show()"
      ],
      "execution_count": 47,
      "outputs": [
        {
          "output_type": "display_data",
          "data": {
            "image/png": "[encoded data removed]",
            "text/plain": [
              "<Figure size 432x288 with 1 Axes>"
            ]
          },
          "metadata": {
            "tags": [],
            "needs_background": "light"
          }
        }
      ]
    },
    {
      "cell_type": "markdown",
      "metadata": {
        "id": "CyTs1vf_YO_P"
      },
      "source": [
        "## Validation set 훈련하기"
      ]
    },
    {
      "cell_type": "markdown",
      "metadata": {
        "id": "Nph7hP7KY0rH"
      },
      "source": [
        "### validation 데이터 생성하기"
      ]
    },
    {
      "cell_type": "code",
      "metadata": {
        "id": "F-YplwzcYHSf"
      },
      "source": [
        "# train 데이터 상단의 300개 샘플로 validation set를 구성하여 학습 및 추론\n",
        "valid_x_df = train_x_df[train_x_df.sample_id < 300]\n",
        "valid_y_df = train_y_df[train_y_df.sample_id < 300]\n",
        "\n",
        "valid_x_array = df2d_to_array3d(valid_x_df)\n",
        "valid_y_array = df2d_to_array3d(valid_y_df)\n",
        "valid_pred_array = np.zeros([300, 120])"
      ],
      "execution_count": 21,
      "outputs": []
    },
    {
      "cell_type": "markdown",
      "metadata": {
        "id": "cmQfHJSkY70m"
      },
      "source": [
        "### 학습 및 추론하기"
      ]
    },
    {
      "cell_type": "markdown",
      "metadata": {
        "id": "M9WkHLtbeJK1"
      },
      "source": [
        "모델 선택 근거\n"
      ]
    },
    {
      "cell_type": "code",
      "metadata": {
        "id": "EGZzoe7l6GvZ",
        "colab": {
          "base_uri": "https://localhost:8080/"
        },
        "outputId": "59008b43-5f5b-41c9-b906-d4fa35fdf064"
      },
      "source": [
        "pip install tbats"
      ],
      "execution_count": 22,
      "outputs": [
        {
          "output_type": "stream",
          "text": [
            "Collecting tbats\n",
            "\u001b[?25l  Downloading https://files.pythonhosted.org/packages/7d/34/c376a23348993deb50d36372324f4e7c5510608a1f49bca7d20390824327/tbats-1.1.0-py3-none-any.whl (43kB)\n",
            "\r\u001b[K     |███████▌                        | 10kB 19.7MB/s eta 0:00:01\r\u001b[K     |███████████████                 | 20kB 27.1MB/s eta 0:00:01\r\u001b[K     |██████████████████████▍         | 30kB 23.7MB/s eta 0:00:01\r\u001b[K     |██████████████████████████████  | 40kB 27.2MB/s eta 0:00:01\r\u001b[K     |████████████████████████████████| 51kB 6.9MB/s \n",
            "\u001b[?25hRequirement already satisfied: pmdarima in /usr/local/lib/python3.7/dist-packages (from tbats) (1.8.0)\n",
            "Requirement already satisfied: scipy in /usr/local/lib/python3.7/dist-packages (from tbats) (1.4.1)\n",
            "Requirement already satisfied: numpy in /usr/local/lib/python3.7/dist-packages (from tbats) (1.19.5)\n",
            "Requirement already satisfied: scikit-learn in /usr/local/lib/python3.7/dist-packages (from tbats) (0.22.2.post1)\n",
            "Requirement already satisfied: Cython<0.29.18,>=0.29 in /usr/local/lib/python3.7/dist-packages (from pmdarima->tbats) (0.29.17)\n",
            "Requirement already satisfied: joblib>=0.11 in /usr/local/lib/python3.7/dist-packages (from pmdarima->tbats) (1.0.1)\n",
            "Requirement already satisfied: setuptools!=50.0.0,>=38.6.0 in /usr/local/lib/python3.7/dist-packages (from pmdarima->tbats) (54.1.2)\n",
            "Requirement already satisfied: statsmodels!=0.12.0,>=0.11 in /usr/local/lib/python3.7/dist-packages (from pmdarima->tbats) (0.12.2)\n",
            "Requirement already satisfied: urllib3 in /usr/local/lib/python3.7/dist-packages (from pmdarima->tbats) (1.24.3)\n",
            "Requirement already satisfied: pandas>=0.19 in /usr/local/lib/python3.7/dist-packages (from pmdarima->tbats) (1.1.5)\n",
            "Requirement already satisfied: patsy>=0.5 in /usr/local/lib/python3.7/dist-packages (from statsmodels!=0.12.0,>=0.11->pmdarima->tbats) (0.5.1)\n",
            "Requirement already satisfied: pytz>=2017.2 in /usr/local/lib/python3.7/dist-packages (from pandas>=0.19->pmdarima->tbats) (2018.9)\n",
            "Requirement already satisfied: python-dateutil>=2.7.3 in /usr/local/lib/python3.7/dist-packages (from pandas>=0.19->pmdarima->tbats) (2.8.1)\n",
            "Requirement already satisfied: six in /usr/local/lib/python3.7/dist-packages (from patsy>=0.5->statsmodels!=0.12.0,>=0.11->pmdarima->tbats) (1.15.0)\n",
            "Installing collected packages: tbats\n",
            "Successfully installed tbats-1.1.0\n"
          ],
          "name": "stdout"
        }
      ]
    },
    {
      "cell_type": "code",
      "metadata": {
        "colab": {
          "base_uri": "https://localhost:8080/"
        },
        "id": "-f73Gu9QY4b3",
        "outputId": "5808ad8b-7cbf-4b01-fbef-8abea2eeda64"
      },
      "source": [
        "# ARIMA의 (p,d,q) 값이 (5,1,1)에서 수렴하지 않을 경우\n",
        "# (4,1,1)로 변경하여 다시 학습 및 추론\n",
        "for idx in tqdm(range(valid_x_array.shape[0])):\n",
        "    try:\n",
        "        try:\n",
        "            x_series = valid_x_array[idx,:,1]\n",
        "            # 비계절성 ARIMA\n",
        "            model = ARIMA(x_series, order=(3,1,1))\n",
        "            fit  = model.fit()\n",
        "            preds = fit.predict(1,120, typ='levels')\n",
        "            valid_pred_array[idx,:] = preds - (preds[0]-x_series[-1])\n",
        "        except:\n",
        "            print(\"order 4 1 1\")\n",
        "            x_series = valid_x_array[idx,:,1]\n",
        "\n",
        "            #seasonal = False로 비계절성 ARIMA를 했었는데 계속 투자를 안한다 ...\n",
        "            model = ARIMA(x_series, order=(2,1,1))\n",
        "            fit  = model.fit()\n",
        "            preds = fit.predict(1,120, typ='levels')\n",
        "            valid_pred_array[idx,:] = preds\n",
        "    except:\n",
        "        print(idx, \" 샘플은 수렴하지 않습니다.\")\n",
        "        # ARIMA의 (p,d,q) 값이 (5,1,1), (4,1,1)에서 수렴하지 않을 경우\n",
        "        # 모두 0으로 채움\n",
        "        pass"
      ],
      "execution_count": 23,
      "outputs": [
        {
          "output_type": "stream",
          "text": [
            "100%|██████████| 300/300 [02:43<00:00,  1.84it/s]\n"
          ],
          "name": "stderr"
        }
      ]
    },
    {
      "cell_type": "markdown",
      "metadata": {
        "id": "r5PvaWoTZBxH"
      },
      "source": [
        "### valid_pred_array 로부터 buy_quantity, sell_time 구하기"
      ]
    },
    {
      "cell_type": "code",
      "metadata": {
        "id": "AiyV5Us9Y9O2"
      },
      "source": [
        "def array_to_submission(x_array, pred_array):\n",
        "    # 입력 x_arrry와 출력 pred_arry를 통해서 \n",
        "    # buy_quantitiy와 sell_time을 결정\n",
        "    submission = pd.DataFrame(np.zeros([pred_array.shape[0],2], np.int64),\n",
        "                columns = ['buy_quantity', 'sell_time'])\n",
        "    submission = submission.reset_index()\n",
        "    submission.loc[:, 'buy_quantity'] = 0.1\n",
        "    \n",
        "    buy_price = []\n",
        "    for idx, sell_time in enumerate(np.argmax(pred_array, axis = 1)):\n",
        "        buy_price.append(pred_array[idx, sell_time])\n",
        "    buy_price = np.array(buy_price)\n",
        "    # 10% 이상 상승하고 예측한 sample에 대해서만 100% 매수\n",
        "    submission.loc[:, 'buy_quantity'] = (buy_price > 1.10) * 1\n",
        "    # 모델이 예측값 중 최대 값에 해당하는 시간에 매도|\n",
        "    submission['sell_time'] = np.argmax(pred_array, axis = 1)\n",
        "    submission.columns = ['sample_id','buy_quantity', 'sell_time']\n",
        "    return submission"
      ],
      "execution_count": 24,
      "outputs": []
    },
    {
      "cell_type": "code",
      "metadata": {
        "id": "h9Cq7UpgZEoW"
      },
      "source": [
        "valid_submission = array_to_submission(valid_x_array, valid_pred_array)"
      ],
      "execution_count": 25,
      "outputs": []
    },
    {
      "cell_type": "code",
      "metadata": {
        "id": "3x7n1GxwZE-N",
        "colab": {
          "base_uri": "https://localhost:8080/",
          "height": 419
        },
        "outputId": "8b3ad1be-1f9b-41e2-b893-0d5577c7c13a"
      },
      "source": [
        "valid_submission"
      ],
      "execution_count": 26,
      "outputs": [
        {
          "output_type": "execute_result",
          "data": {
            "text/html": [
              "<div>\n",
              "<style scoped>\n",
              "    .dataframe tbody tr th:only-of-type {\n",
              "        vertical-align: middle;\n",
              "    }\n",
              "\n",
              "    .dataframe tbody tr th {\n",
              "        vertical-align: top;\n",
              "    }\n",
              "\n",
              "    .dataframe thead th {\n",
              "        text-align: right;\n",
              "    }\n",
              "</style>\n",
              "<table border=\"1\" class=\"dataframe\">\n",
              "  <thead>\n",
              "    <tr style=\"text-align: right;\">\n",
              "      <th></th>\n",
              "      <th>sample_id</th>\n",
              "      <th>buy_quantity</th>\n",
              "      <th>sell_time</th>\n",
              "    </tr>\n",
              "  </thead>\n",
              "  <tbody>\n",
              "    <tr>\n",
              "      <th>0</th>\n",
              "      <td>0</td>\n",
              "      <td>0</td>\n",
              "      <td>36</td>\n",
              "    </tr>\n",
              "    <tr>\n",
              "      <th>1</th>\n",
              "      <td>1</td>\n",
              "      <td>0</td>\n",
              "      <td>24</td>\n",
              "    </tr>\n",
              "    <tr>\n",
              "      <th>2</th>\n",
              "      <td>2</td>\n",
              "      <td>0</td>\n",
              "      <td>44</td>\n",
              "    </tr>\n",
              "    <tr>\n",
              "      <th>3</th>\n",
              "      <td>3</td>\n",
              "      <td>0</td>\n",
              "      <td>76</td>\n",
              "    </tr>\n",
              "    <tr>\n",
              "      <th>4</th>\n",
              "      <td>4</td>\n",
              "      <td>0</td>\n",
              "      <td>95</td>\n",
              "    </tr>\n",
              "    <tr>\n",
              "      <th>...</th>\n",
              "      <td>...</td>\n",
              "      <td>...</td>\n",
              "      <td>...</td>\n",
              "    </tr>\n",
              "    <tr>\n",
              "      <th>295</th>\n",
              "      <td>295</td>\n",
              "      <td>0</td>\n",
              "      <td>35</td>\n",
              "    </tr>\n",
              "    <tr>\n",
              "      <th>296</th>\n",
              "      <td>296</td>\n",
              "      <td>0</td>\n",
              "      <td>1</td>\n",
              "    </tr>\n",
              "    <tr>\n",
              "      <th>297</th>\n",
              "      <td>297</td>\n",
              "      <td>0</td>\n",
              "      <td>19</td>\n",
              "    </tr>\n",
              "    <tr>\n",
              "      <th>298</th>\n",
              "      <td>298</td>\n",
              "      <td>0</td>\n",
              "      <td>25</td>\n",
              "    </tr>\n",
              "    <tr>\n",
              "      <th>299</th>\n",
              "      <td>299</td>\n",
              "      <td>0</td>\n",
              "      <td>36</td>\n",
              "    </tr>\n",
              "  </tbody>\n",
              "</table>\n",
              "<p>300 rows × 3 columns</p>\n",
              "</div>"
            ],
            "text/plain": [
              "     sample_id  buy_quantity  sell_time\n",
              "0            0             0         36\n",
              "1            1             0         24\n",
              "2            2             0         44\n",
              "3            3             0         76\n",
              "4            4             0         95\n",
              "..         ...           ...        ...\n",
              "295        295             0         35\n",
              "296        296             0          1\n",
              "297        297             0         19\n",
              "298        298             0         25\n",
              "299        299             0         36\n",
              "\n",
              "[300 rows x 3 columns]"
            ]
          },
          "metadata": {
            "tags": []
          },
          "execution_count": 26
        }
      ]
    },
    {
      "cell_type": "code",
      "metadata": {
        "id": "gKpLWQGYZIMu",
        "colab": {
          "base_uri": "https://localhost:8080/"
        },
        "outputId": "d6ec0e39-8601-4766-a6c3-87020fe29155"
      },
      "source": [
        "# 전체 300가지 sample에 대해\n",
        "# 9가지 case에서 115% 이상 상승한다고 추론함.\n",
        "valid_submission.buy_quantity.value_counts()"
      ],
      "execution_count": 27,
      "outputs": [
        {
          "output_type": "execute_result",
          "data": {
            "text/plain": [
              "0    297\n",
              "1      3\n",
              "Name: buy_quantity, dtype: int64"
            ]
          },
          "metadata": {
            "tags": []
          },
          "execution_count": 27
        }
      ]
    },
    {
      "cell_type": "markdown",
      "metadata": {
        "id": "bE5OaO5IZIn9"
      },
      "source": [
        "### 투자 후 금액 계산하기"
      ]
    },
    {
      "cell_type": "code",
      "metadata": {
        "id": "w1AjK10dZKza"
      },
      "source": [
        "def df2d_to_answer(df_2d):\n",
        "    # valid_y_df로부터\n",
        "    # open 가격 정보가 포함된\n",
        "    # [샘플 수, 120분] 크기의 \n",
        "    # 2차원 array를 반환하는 함수\n",
        "    feature_size = df_2d.iloc[:,2:].shape[1]\n",
        "    time_size = len(df_2d.time.value_counts())\n",
        "    sample_size = len(df_2d.sample_id.value_counts())\n",
        "    sample_index = df_2d.sample_id.value_counts().index\n",
        "    array_2d = df_2d.open.values.reshape([sample_size, time_size])\n",
        "    sample_index = list(sample_index)\n",
        "    return array_2d, sample_index\n",
        "\n",
        "\n",
        "def COIN(y_df, submission, df2d_to_answer = df2d_to_answer):\n",
        "    # 2차원 데이터프레임에서 open 시점 데이터만 추출하여 array로 복원\n",
        "    # sample_id정보를 index에 저장\n",
        "    y_array, index = df2d_to_answer(y_df)\n",
        "    \n",
        "    # index 기준으로 submission을 다시 선택\n",
        "    submission = submission.set_index(submission.columns[0])\n",
        "    submission = submission.iloc[index, :]    \n",
        "    \n",
        "    # 초기 투자 비용은 10000 달러\n",
        "    total_momey      = 10000 # dolors\n",
        "    total_momey_list = []\n",
        "    \n",
        "    # 가장 처음 sample_id값\n",
        "    start_index = submission.index[0]\n",
        "    for row_idx in submission.index:\n",
        "        sell_time  = submission.loc[row_idx, 'sell_time']\n",
        "        buy_price  = y_array[row_idx - start_index, 0]\n",
        "        sell_price = y_array[row_idx - start_index, sell_time]\n",
        "        buy_quantity = submission.loc[row_idx, 'buy_quantity'] * total_momey\n",
        "        residual = total_momey - buy_quantity\n",
        "        ratio = sell_price / buy_price\n",
        "        total_momey = buy_quantity * ratio * 0.9995 * 0.9995 + residual        \n",
        "        total_momey_list.append(total_momey)\n",
        "        \n",
        "    return total_momey, total_momey_list"
      ],
      "execution_count": 28,
      "outputs": []
    },
    {
      "cell_type": "code",
      "metadata": {
        "id": "J8HUJIeWZM_z"
      },
      "source": [
        "\n",
        "total_momey, total_momey_list = COIN(valid_y_df,\n",
        "                                     valid_submission)"
      ],
      "execution_count": 29,
      "outputs": []
    },
    {
      "cell_type": "code",
      "metadata": {
        "id": "hoFBJ-tyZOkH",
        "colab": {
          "base_uri": "https://localhost:8080/"
        },
        "outputId": "b1552721-95ce-4fc6-c4fb-32fd467da56a"
      },
      "source": [
        "\n",
        "# 투자 후 금액\n",
        "print(total_momey)"
      ],
      "execution_count": 30,
      "outputs": [
        {
          "output_type": "stream",
          "text": [
            "10252.202648040653\n"
          ],
          "name": "stdout"
        }
      ]
    },
    {
      "cell_type": "code",
      "metadata": {
        "id": "mtWr5TOTZQ6Y",
        "colab": {
          "base_uri": "https://localhost:8080/",
          "height": 281
        },
        "outputId": "eafc317d-f59f-442b-d3ea-baebe9d59413"
      },
      "source": [
        "# 투자 히스토리\n",
        "plt.plot(total_momey_list)\n",
        "plt.title(\"history\")\n",
        "plt.show()"
      ],
      "execution_count": 31,
      "outputs": [
        {
          "output_type": "display_data",
          "data": {
            "image/png": "[encoded data removed]",
            "text/plain": [
              "<Figure size 432x288 with 1 Axes>"
            ]
          },
          "metadata": {
            "tags": [],
            "needs_background": "light"
          }
        }
      ]
    },
    {
      "cell_type": "markdown",
      "metadata": {
        "id": "sh8TPlh8ZS3g"
      },
      "source": [
        "# test 데이터 학습하고 추론하기"
      ]
    },
    {
      "cell_type": "code",
      "metadata": {
        "colab": {
          "base_uri": "https://localhost:8080/"
        },
        "id": "FxN7YXEVZXqX",
        "outputId": "154efc80-975d-4ba4-b164-a210b60c9f55"
      },
      "source": [
        "test_pred_array = np.zeros([test_x_array.shape[0],\n",
        "                           120])\n",
        "for idx in tqdm(range(test_x_array.shape[0])):\n",
        "    try:\n",
        "        try:\n",
        "            x_series = test_x_array[idx,:,1]\n",
        "\n",
        "            model = ARIMA(x_series, order=(3,1,1))\n",
        "            fit  = model.fit()\n",
        "            preds = fit.predict(1,120, typ='levels')\n",
        "            test_pred_array[idx,:] = preds\n",
        "        except:\n",
        "            x_series = test_x_array[idx,:,1]\n",
        "            model = ARIMA(x_series, order=(2,1,1))\n",
        "            fit  = model.fit()\n",
        "            preds = fit.predict(1,120, typ='levels')\n",
        "            test_pred_array[idx,:] = preds\n",
        "    except:\n",
        "        print(idx, \" 샘플은 수렴하지 않습니다.\")\n",
        "        pass"
      ],
      "execution_count": 32,
      "outputs": [
        {
          "output_type": "stream",
          "text": [
            "100%|██████████| 529/529 [03:44<00:00,  2.35it/s]\n"
          ],
          "name": "stderr"
        }
      ]
    },
    {
      "cell_type": "code",
      "metadata": {
        "id": "YxjD6O5CZYHQ"
      },
      "source": [
        "submission = array_to_submission(test_x_array, test_pred_array)"
      ],
      "execution_count": 33,
      "outputs": []
    },
    {
      "cell_type": "code",
      "metadata": {
        "id": "389Aby7-ZafW"
      },
      "source": [
        "submission.to_csv(\"baseline_submission.csv\", index = False)"
      ],
      "execution_count": 34,
      "outputs": []
    }
  ]
}