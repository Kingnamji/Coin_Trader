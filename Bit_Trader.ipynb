{
  "nbformat": 4,
  "nbformat_minor": 0,
  "metadata": {
    "colab": {
      "name": "Bit_Trader.ipynb",
      "provenance": [],
      "collapsed_sections": [],
      "mount_file_id": "1sVi8xpYekwKByTwRIfisWb7aRZzajLRz",
      "authorship_tag": "ABX9TyOfBuqAyy5uekHvAk9cexD0",
      "include_colab_link": true
    },
    "kernelspec": {
      "name": "python3",
      "display_name": "Python 3"
    },
    "accelerator": "GPU"
  },
  "cells": [
    {
      "cell_type": "markdown",
      "metadata": {
        "id": "view-in-github",
        "colab_type": "text"
      },
      "source": [
        "<a href=\"https://colab.research.google.com/github/Kingnamji/DACON_BIT_TRADER/blob/main/Bit_Trader.ipynb\" target=\"_parent\"><img src=\"https://colab.research.google.com/assets/colab-badge.svg\" alt=\"Open In Colab\"/></a>"
      ]
    },
    {
      "cell_type": "markdown",
      "metadata": {
        "id": "pE2cdmn-1pWm"
      },
      "source": [
        "데이콘 인공지능 비트 트레이더 경진대회"
      ]
    },
    {
      "cell_type": "code",
      "metadata": {
        "colab": {
          "base_uri": "https://localhost:8080/"
        },
        "id": "UlEoYLxQ1oBp",
        "outputId": "74fa6bf9-acd6-42c4-d2d7-2f03de4a4732"
      },
      "source": [
        "from google.colab import drive\r\n",
        "drive.mount('/content/drive/')"
      ],
      "execution_count": 2,
      "outputs": [
        {
          "output_type": "stream",
          "text": [
            "Drive already mounted at /content/drive/; to attempt to forcibly remount, call drive.mount(\"/content/drive/\", force_remount=True).\n"
          ],
          "name": "stdout"
        }
      ]
    },
    {
      "cell_type": "code",
      "metadata": {
        "id": "trs4PZm-5llr"
      },
      "source": [
        "import sys, os\r\n",
        "\r\n",
        "import numpy as np\r\n",
        "import pandas as pd\r\n",
        "import tensorflow as tf\r\n",
        "from tensorflow import keras\r\n",
        "import seaborn as sns\r\n",
        "\r\n",
        "\r\n",
        "# tools to plot a graph\r\n",
        "\r\n",
        "%matplotlib inline\r\n",
        "import matplotlib.pyplot as plt\r\n"
      ],
      "execution_count": 3,
      "outputs": []
    },
    {
      "cell_type": "code",
      "metadata": {
        "id": "qhyMfUoK7drC"
      },
      "source": [
        "os.chdir('/content/drive/MyDrive/Colab Notebooks/데이콘')"
      ],
      "execution_count": 4,
      "outputs": []
    },
    {
      "cell_type": "markdown",
      "metadata": {
        "id": "8bBoAqQb7dAe"
      },
      "source": [
        "Read datasets from csv file"
      ]
    },
    {
      "cell_type": "code",
      "metadata": {
        "colab": {
          "base_uri": "https://localhost:8080/",
          "height": 230
        },
        "id": "5psZ7tKy7MaZ",
        "outputId": "fa5ab5e8-629b-4ebc-fe6c-8114573a4449"
      },
      "source": [
        "train_x_df = pd.read_csv('train_x_df.csv')\r\n",
        "train_y_df = pd.read_csv('train_y_df.csv')\r\n",
        "test_x_df = pd.read_csv('test_x_df.csv')\r\n",
        "\r\n",
        "train_x_df.head()"
      ],
      "execution_count": 5,
      "outputs": [
        {
          "output_type": "stream",
          "text": [
            "/usr/local/lib/python3.7/dist-packages/IPython/core/interactiveshell.py:2718: DtypeWarning: Columns (4) have mixed types.Specify dtype option on import or set low_memory=False.\n",
            "  interactivity=interactivity, compiler=compiler, result=result)\n"
          ],
          "name": "stderr"
        },
        {
          "output_type": "execute_result",
          "data": {
            "text/html": [
              "<div>\n",
              "<style scoped>\n",
              "    .dataframe tbody tr th:only-of-type {\n",
              "        vertical-align: middle;\n",
              "    }\n",
              "\n",
              "    .dataframe tbody tr th {\n",
              "        vertical-align: top;\n",
              "    }\n",
              "\n",
              "    .dataframe thead th {\n",
              "        text-align: right;\n",
              "    }\n",
              "</style>\n",
              "<table border=\"1\" class=\"dataframe\">\n",
              "  <thead>\n",
              "    <tr style=\"text-align: right;\">\n",
              "      <th></th>\n",
              "      <th>sample_id</th>\n",
              "      <th>time</th>\n",
              "      <th>coin_index</th>\n",
              "      <th>open</th>\n",
              "      <th>high</th>\n",
              "      <th>low</th>\n",
              "      <th>close</th>\n",
              "      <th>volume</th>\n",
              "      <th>quote_av</th>\n",
              "      <th>trades</th>\n",
              "      <th>tb_base_av</th>\n",
              "      <th>tb_quote_av</th>\n",
              "    </tr>\n",
              "  </thead>\n",
              "  <tbody>\n",
              "    <tr>\n",
              "      <th>0</th>\n",
              "      <td>0</td>\n",
              "      <td>0</td>\n",
              "      <td>7</td>\n",
              "      <td>1.010004</td>\n",
              "      <td>1.010003924369812</td>\n",
              "      <td>1.009612</td>\n",
              "      <td>1.010004</td>\n",
              "      <td>8.382875e+05</td>\n",
              "      <td>43160.632812</td>\n",
              "      <td>451.157288</td>\n",
              "      <td>7.326834e+05</td>\n",
              "      <td>37725.183594</td>\n",
              "    </tr>\n",
              "    <tr>\n",
              "      <th>1</th>\n",
              "      <td>0</td>\n",
              "      <td>1</td>\n",
              "      <td>7</td>\n",
              "      <td>1.009808</td>\n",
              "      <td>1.0098077058792114</td>\n",
              "      <td>1.009808</td>\n",
              "      <td>1.009808</td>\n",
              "      <td>1.622420e+05</td>\n",
              "      <td>8352.220703</td>\n",
              "      <td>39.231071</td>\n",
              "      <td>0.000000e+00</td>\n",
              "      <td>0.000000</td>\n",
              "    </tr>\n",
              "    <tr>\n",
              "      <th>2</th>\n",
              "      <td>0</td>\n",
              "      <td>2</td>\n",
              "      <td>7</td>\n",
              "      <td>1.009808</td>\n",
              "      <td>1.010200023651123</td>\n",
              "      <td>1.009808</td>\n",
              "      <td>1.010200</td>\n",
              "      <td>1.664967e+04</td>\n",
              "      <td>857.377808</td>\n",
              "      <td>58.846603</td>\n",
              "      <td>1.664967e+04</td>\n",
              "      <td>857.377808</td>\n",
              "    </tr>\n",
              "    <tr>\n",
              "      <th>3</th>\n",
              "      <td>0</td>\n",
              "      <td>3</td>\n",
              "      <td>7</td>\n",
              "      <td>1.010200</td>\n",
              "      <td>1.0111808776855469</td>\n",
              "      <td>1.010200</td>\n",
              "      <td>1.011181</td>\n",
              "      <td>2.586971e+06</td>\n",
              "      <td>133310.343750</td>\n",
              "      <td>431.541779</td>\n",
              "      <td>2.189147e+06</td>\n",
              "      <td>112811.046875</td>\n",
              "    </tr>\n",
              "    <tr>\n",
              "      <th>4</th>\n",
              "      <td>0</td>\n",
              "      <td>4</td>\n",
              "      <td>7</td>\n",
              "      <td>1.010985</td>\n",
              "      <td>1.0109846591949463</td>\n",
              "      <td>1.010200</td>\n",
              "      <td>1.010200</td>\n",
              "      <td>1.129996e+06</td>\n",
              "      <td>58216.867188</td>\n",
              "      <td>176.539810</td>\n",
              "      <td>0.000000e+00</td>\n",
              "      <td>0.000000</td>\n",
              "    </tr>\n",
              "  </tbody>\n",
              "</table>\n",
              "</div>"
            ],
            "text/plain": [
              "   sample_id  time  coin_index  ...      trades    tb_base_av    tb_quote_av\n",
              "0          0     0           7  ...  451.157288  7.326834e+05   37725.183594\n",
              "1          0     1           7  ...   39.231071  0.000000e+00       0.000000\n",
              "2          0     2           7  ...   58.846603  1.664967e+04     857.377808\n",
              "3          0     3           7  ...  431.541779  2.189147e+06  112811.046875\n",
              "4          0     4           7  ...  176.539810  0.000000e+00       0.000000\n",
              "\n",
              "[5 rows x 12 columns]"
            ]
          },
          "metadata": {
            "tags": []
          },
          "execution_count": 5
        }
      ]
    },
    {
      "cell_type": "code",
      "metadata": {
        "colab": {
          "base_uri": "https://localhost:8080/"
        },
        "id": "YSYDK50L8GnD",
        "outputId": "813d68b0-1081-4aec-b8f3-8a80eefb7ffb"
      },
      "source": [
        "train_x_df.info()"
      ],
      "execution_count": 6,
      "outputs": [
        {
          "output_type": "stream",
          "text": [
            "<class 'pandas.core.frame.DataFrame'>\n",
            "RangeIndex: 10159560 entries, 0 to 10159559\n",
            "Data columns (total 12 columns):\n",
            " #   Column       Dtype  \n",
            "---  ------       -----  \n",
            " 0   sample_id    int64  \n",
            " 1   time         int64  \n",
            " 2   coin_index   int64  \n",
            " 3   open         float64\n",
            " 4   high         object \n",
            " 5   low          float64\n",
            " 6   close        float64\n",
            " 7   volume       float64\n",
            " 8   quote_av     float64\n",
            " 9   trades       float64\n",
            " 10  tb_base_av   float64\n",
            " 11  tb_quote_av  float64\n",
            "dtypes: float64(8), int64(3), object(1)\n",
            "memory usage: 930.1+ MB\n"
          ],
          "name": "stdout"
        }
      ]
    },
    {
      "cell_type": "code",
      "metadata": {
        "colab": {
          "base_uri": "https://localhost:8080/"
        },
        "id": "LeQJvBYKZsbG",
        "outputId": "93b7cec9-a84e-4759-f9d1-cf5d6fea93bf"
      },
      "source": [
        "train_x_df.isnull().sum()"
      ],
      "execution_count": 7,
      "outputs": [
        {
          "output_type": "execute_result",
          "data": {
            "text/plain": [
              "sample_id      0\n",
              "time           0\n",
              "coin_index     0\n",
              "open           0\n",
              "high           0\n",
              "low            0\n",
              "close          0\n",
              "volume         0\n",
              "quote_av       0\n",
              "trades         0\n",
              "tb_base_av     0\n",
              "tb_quote_av    0\n",
              "dtype: int64"
            ]
          },
          "metadata": {
            "tags": []
          },
          "execution_count": 7
        }
      ]
    },
    {
      "cell_type": "code",
      "metadata": {
        "id": "5mtR5KJmc5bo"
      },
      "source": [
        "''' open, low, volume 속성의 값이 0인 행 삭제 '''\r\n",
        "\r\n",
        "indexNames = train_x_df[(train_x_df['volume'] == 0)].index\r\n",
        "train_x_df.drop(indexNames, inplace = True)"
      ],
      "execution_count": 8,
      "outputs": []
    },
    {
      "cell_type": "code",
      "metadata": {
        "colab": {
          "base_uri": "https://localhost:8080/"
        },
        "id": "9w-ZoYrhg13r",
        "outputId": "9afbdb21-3be4-40ea-ee60-1b37953810ca"
      },
      "source": [
        "train_x_df.shape"
      ],
      "execution_count": 9,
      "outputs": [
        {
          "output_type": "execute_result",
          "data": {
            "text/plain": [
              "(9633512, 12)"
            ]
          },
          "metadata": {
            "tags": []
          },
          "execution_count": 9
        }
      ]
    },
    {
      "cell_type": "markdown",
      "metadata": {
        "id": "GBK-5sQm8v6C"
      },
      "source": [
        "low의 type은 float64임에 반해, high의 type은 object이다.\r\n",
        "\r\n",
        "high에서 값의 일부가 이상한 값이 나온 듯 하다. 전처리에서 해줘야겠다."
      ]
    },
    {
      "cell_type": "code",
      "metadata": {
        "id": "u7V6PBovkRUh",
        "colab": {
          "base_uri": "https://localhost:8080/"
        },
        "outputId": "68dd71d0-7101-4f27-badb-3d20c85619e5"
      },
      "source": [
        "print(train_x_df.shape, train_y_df.shape)"
      ],
      "execution_count": 10,
      "outputs": [
        {
          "output_type": "stream",
          "text": [
            "(9633512, 12) (883440, 12)\n"
          ],
          "name": "stdout"
        }
      ]
    },
    {
      "cell_type": "code",
      "metadata": {
        "id": "alsSJeDrV1-c"
      },
      "source": [
        "def df2d_to_array3d(df_2d):\r\n",
        "    # 입력 받은 2차원 데이터 프레임을 3차원 numpy array로 변경하는 함수\r\n",
        "    feature_size = df_2d.iloc[:,2:].shape[1]\r\n",
        "    time_size = len(df_2d.time.value_counts())\r\n",
        "    sample_size = len(df_2d.sample_id.value_counts())\r\n",
        "    array_3d = df_2d.iloc[:,2:].values.reshape([sample_size, time_size, feature_size])\r\n",
        "    return array_3d"
      ],
      "execution_count": 11,
      "outputs": []
    },
    {
      "cell_type": "code",
      "metadata": {
        "id": "MBnzue3CV6-f",
        "colab": {
          "base_uri": "https://localhost:8080/",
          "height": 310
        },
        "outputId": "e4c3cb1d-f81c-4e32-f8b8-12cb81d9e4d2"
      },
      "source": [
        "''' 이런 ! '''\r\n",
        "train_x_array = df2d_to_array3d(train_x_df)\r\n",
        "train_y_array = df2d_to_array3d(train_y_df)\r\n",
        "test_x_array = df2d_to_array3d(test_x_df)"
      ],
      "execution_count": 13,
      "outputs": [
        {
          "output_type": "error",
          "ename": "ValueError",
          "evalue": "ignored",
          "traceback": [
            "\u001b[0;31m---------------------------------------------------------------------------\u001b[0m",
            "\u001b[0;31mValueError\u001b[0m                                Traceback (most recent call last)",
            "\u001b[0;32m<ipython-input-13-2c7096dcea84>\u001b[0m in \u001b[0;36m<module>\u001b[0;34m()\u001b[0m\n\u001b[0;32m----> 1\u001b[0;31m \u001b[0mtrain_x_array\u001b[0m \u001b[0;34m=\u001b[0m \u001b[0mdf2d_to_array3d\u001b[0m\u001b[0;34m(\u001b[0m\u001b[0mtrain_x_df\u001b[0m\u001b[0;34m)\u001b[0m\u001b[0;34m\u001b[0m\u001b[0;34m\u001b[0m\u001b[0m\n\u001b[0m\u001b[1;32m      2\u001b[0m \u001b[0mtrain_y_array\u001b[0m \u001b[0;34m=\u001b[0m \u001b[0mdf2d_to_array3d\u001b[0m\u001b[0;34m(\u001b[0m\u001b[0mtrain_y_df\u001b[0m\u001b[0;34m)\u001b[0m\u001b[0;34m\u001b[0m\u001b[0;34m\u001b[0m\u001b[0m\n\u001b[1;32m      3\u001b[0m \u001b[0mtest_x_array\u001b[0m \u001b[0;34m=\u001b[0m \u001b[0mdf2d_to_array3d\u001b[0m\u001b[0;34m(\u001b[0m\u001b[0mtest_x_df\u001b[0m\u001b[0;34m)\u001b[0m\u001b[0;34m\u001b[0m\u001b[0;34m\u001b[0m\u001b[0m\n",
            "\u001b[0;32m<ipython-input-11-b21f7770287a>\u001b[0m in \u001b[0;36mdf2d_to_array3d\u001b[0;34m(df_2d)\u001b[0m\n\u001b[1;32m      4\u001b[0m     \u001b[0mtime_size\u001b[0m \u001b[0;34m=\u001b[0m \u001b[0mlen\u001b[0m\u001b[0;34m(\u001b[0m\u001b[0mdf_2d\u001b[0m\u001b[0;34m.\u001b[0m\u001b[0mtime\u001b[0m\u001b[0;34m.\u001b[0m\u001b[0mvalue_counts\u001b[0m\u001b[0;34m(\u001b[0m\u001b[0;34m)\u001b[0m\u001b[0;34m)\u001b[0m\u001b[0;34m\u001b[0m\u001b[0;34m\u001b[0m\u001b[0m\n\u001b[1;32m      5\u001b[0m     \u001b[0msample_size\u001b[0m \u001b[0;34m=\u001b[0m \u001b[0mlen\u001b[0m\u001b[0;34m(\u001b[0m\u001b[0mdf_2d\u001b[0m\u001b[0;34m.\u001b[0m\u001b[0msample_id\u001b[0m\u001b[0;34m.\u001b[0m\u001b[0mvalue_counts\u001b[0m\u001b[0;34m(\u001b[0m\u001b[0;34m)\u001b[0m\u001b[0;34m)\u001b[0m\u001b[0;34m\u001b[0m\u001b[0;34m\u001b[0m\u001b[0m\n\u001b[0;32m----> 6\u001b[0;31m     \u001b[0marray_3d\u001b[0m \u001b[0;34m=\u001b[0m \u001b[0mdf_2d\u001b[0m\u001b[0;34m.\u001b[0m\u001b[0miloc\u001b[0m\u001b[0;34m[\u001b[0m\u001b[0;34m:\u001b[0m\u001b[0;34m,\u001b[0m\u001b[0;36m2\u001b[0m\u001b[0;34m:\u001b[0m\u001b[0;34m]\u001b[0m\u001b[0;34m.\u001b[0m\u001b[0mvalues\u001b[0m\u001b[0;34m.\u001b[0m\u001b[0mreshape\u001b[0m\u001b[0;34m(\u001b[0m\u001b[0;34m[\u001b[0m\u001b[0msample_size\u001b[0m\u001b[0;34m,\u001b[0m \u001b[0mtime_size\u001b[0m\u001b[0;34m,\u001b[0m \u001b[0mfeature_size\u001b[0m\u001b[0;34m]\u001b[0m\u001b[0;34m)\u001b[0m\u001b[0;34m\u001b[0m\u001b[0;34m\u001b[0m\u001b[0m\n\u001b[0m\u001b[1;32m      7\u001b[0m     \u001b[0;32mreturn\u001b[0m \u001b[0marray_3d\u001b[0m\u001b[0;34m\u001b[0m\u001b[0;34m\u001b[0m\u001b[0m\n",
            "\u001b[0;31mValueError\u001b[0m: cannot reshape array of size 96335120 into shape (7362,1380,10)"
          ]
        }
      ]
    },
    {
      "cell_type": "code",
      "metadata": {
        "id": "VvM2AaR2V7vI"
      },
      "source": [
        "print(f'''\r\n",
        "train_x_array {train_x_array.shape}\r\n",
        "train_y_array {train_y_array.shape}\r\n",
        "test_x_array {test_x_array.shape}\r\n",
        "''')"
      ],
      "execution_count": null,
      "outputs": []
    },
    {
      "cell_type": "markdown",
      "metadata": {
        "id": "JpLoXlLLAmDc"
      },
      "source": [
        "모델의 데이터 개수가 너무 많다 ... 그래서 이상한 값, NaN 값 등이 있는 것은 과감히 버리기로 !"
      ]
    },
    {
      "cell_type": "code",
      "metadata": {
        "id": "PA5vgOl1AURW"
      },
      "source": [
        "''' 데이터에 0 값 많은거(쓸모 없는거 !)는 제거 '''\r\n"
      ],
      "execution_count": null,
      "outputs": []
    },
    {
      "cell_type": "markdown",
      "metadata": {
        "id": "jYy0mgRFFQEZ"
      },
      "source": [
        ""
      ]
    }
  ]
}